{
 "cells": [
  {
   "cell_type": "markdown",
   "id": "f02da32f-1d40-4a01-88a8-2ab75dc09faf",
   "metadata": {},
   "source": [
    "## ART Before and After Traffic Impact Analysis\n",
    "\n",
    "The following is an analysis of traffic count data in Albuquerque, NM, focusing on the area of Central AVE. that hosts the Albuquerque Rapit Transit (ART) dedicated bus lane - between Coors Blvd. and Louisiana Blvd. We will look at traffic impacts along Central, but also how parallel routes like Lead, Coal, and Lomas were impacted. This analysis will focus on the eastside of the river where there are more logical parallel corridors where traffic could displace to. Also, the lane configuration, for the most part, was unchanged west of the Rio Grande. Central Avenue had 4 general purpose lanes before ART west of the river, and after ART, all four general purpose lanes were preserved."
   ]
  },
  {
   "cell_type": "code",
   "execution_count": 1,
   "id": "309cdd64-b3f2-4e5f-8f66-adf3a089de26",
   "metadata": {},
   "outputs": [],
   "source": [
    "import pathlib \n",
    "NOTEBOOK_PATH = pathlib.Path().resolve()\n",
    "DATA_DIRECTORY = NOTEBOOK_PATH / \"data\"\n",
    "OUTPUT_DIRECTORY = NOTEBOOK_PATH / \"docs\""
   ]
  },
  {
   "cell_type": "code",
   "execution_count": 2,
   "id": "48a2f20c-c7d0-4b5a-91f6-17410e70b6d5",
   "metadata": {},
   "outputs": [],
   "source": [
    "import pandas as pd\n",
    "import geopandas as gpd\n",
    "\n",
    "data = gpd.read_file(\"data/TAQA_Data/mjr_rds_2023.gpkg\")"
   ]
  },
  {
   "cell_type": "code",
   "execution_count": 3,
   "id": "74a6edfe-0b6f-400d-a956-0d4e2dbcf8fb",
   "metadata": {},
   "outputs": [
    {
     "data": {
      "text/html": [
       "<div>\n",
       "<style scoped>\n",
       "    .dataframe tbody tr th:only-of-type {\n",
       "        vertical-align: middle;\n",
       "    }\n",
       "\n",
       "    .dataframe tbody tr th {\n",
       "        vertical-align: top;\n",
       "    }\n",
       "\n",
       "    .dataframe thead th {\n",
       "        text-align: right;\n",
       "    }\n",
       "</style>\n",
       "<table border=\"1\" class=\"dataframe\">\n",
       "  <thead>\n",
       "    <tr style=\"text-align: right;\">\n",
       "      <th></th>\n",
       "      <th>OBJECTID</th>\n",
       "      <th>MRTNI_Func</th>\n",
       "      <th>MRTNIcogid</th>\n",
       "      <th>ONE_WAY</th>\n",
       "      <th>COGID</th>\n",
       "      <th>RTE</th>\n",
       "      <th>LOCAT</th>\n",
       "      <th>LENGTH</th>\n",
       "      <th>MILES</th>\n",
       "      <th>ADT22</th>\n",
       "      <th>...</th>\n",
       "      <th>ADT02</th>\n",
       "      <th>AWDT02</th>\n",
       "      <th>ADT01</th>\n",
       "      <th>AWDT01</th>\n",
       "      <th>ADT00</th>\n",
       "      <th>AWDT00</th>\n",
       "      <th>Shape_Length</th>\n",
       "      <th>ADT23</th>\n",
       "      <th>AWDT23</th>\n",
       "      <th>geometry</th>\n",
       "    </tr>\n",
       "  </thead>\n",
       "  <tbody>\n",
       "    <tr>\n",
       "      <th>0</th>\n",
       "      <td>1</td>\n",
       "      <td>8</td>\n",
       "      <td>1998</td>\n",
       "      <td>E</td>\n",
       "      <td>NaN</td>\n",
       "      <td>None</td>\n",
       "      <td>None</td>\n",
       "      <td>NaN</td>\n",
       "      <td>NaN</td>\n",
       "      <td>NaN</td>\n",
       "      <td>...</td>\n",
       "      <td>NaN</td>\n",
       "      <td>NaN</td>\n",
       "      <td>NaN</td>\n",
       "      <td>NaN</td>\n",
       "      <td>NaN</td>\n",
       "      <td>NaN</td>\n",
       "      <td>954.968271</td>\n",
       "      <td>NaN</td>\n",
       "      <td>NaN</td>\n",
       "      <td>MULTILINESTRING ((1537901.27281 1518885.41196,...</td>\n",
       "    </tr>\n",
       "    <tr>\n",
       "      <th>1</th>\n",
       "      <td>2</td>\n",
       "      <td>4</td>\n",
       "      <td>1999</td>\n",
       "      <td>B</td>\n",
       "      <td>NaN</td>\n",
       "      <td>None</td>\n",
       "      <td>NORTH OF MEADE - SOUTH OF CONDERSHIRE</td>\n",
       "      <td>NaN</td>\n",
       "      <td>NaN</td>\n",
       "      <td>NaN</td>\n",
       "      <td>...</td>\n",
       "      <td>NaN</td>\n",
       "      <td>NaN</td>\n",
       "      <td>NaN</td>\n",
       "      <td>NaN</td>\n",
       "      <td>NaN</td>\n",
       "      <td>NaN</td>\n",
       "      <td>841.849864</td>\n",
       "      <td>NaN</td>\n",
       "      <td>NaN</td>\n",
       "      <td>MULTILINESTRING ((1497526.51531 1463666.51518,...</td>\n",
       "    </tr>\n",
       "    <tr>\n",
       "      <th>2</th>\n",
       "      <td>3</td>\n",
       "      <td>2</td>\n",
       "      <td>10003</td>\n",
       "      <td>B</td>\n",
       "      <td>10003.0</td>\n",
       "      <td>UNSER BLVD.</td>\n",
       "      <td>NORTH OF NORTHERN - SOUTH OF 15TH AVE.</td>\n",
       "      <td>2106.069</td>\n",
       "      <td>0.399</td>\n",
       "      <td>22160.0</td>\n",
       "      <td>...</td>\n",
       "      <td>11133.0</td>\n",
       "      <td>11633.0</td>\n",
       "      <td>10829.0</td>\n",
       "      <td>11316.0</td>\n",
       "      <td>10412.0</td>\n",
       "      <td>10880.0</td>\n",
       "      <td>2106.068785</td>\n",
       "      <td>21852.0</td>\n",
       "      <td>23529.0</td>\n",
       "      <td>MULTILINESTRING ((1507058.99985 1555528.75009,...</td>\n",
       "    </tr>\n",
       "    <tr>\n",
       "      <th>3</th>\n",
       "      <td>4</td>\n",
       "      <td>2</td>\n",
       "      <td>10004</td>\n",
       "      <td>B</td>\n",
       "      <td>10004.0</td>\n",
       "      <td>N.M. 528</td>\n",
       "      <td>NORTH OF CORRALES RD. (NM 448) - .118 MILES N...</td>\n",
       "      <td>648.945</td>\n",
       "      <td>0.123</td>\n",
       "      <td>25188.0</td>\n",
       "      <td>...</td>\n",
       "      <td>25340.0</td>\n",
       "      <td>26479.0</td>\n",
       "      <td>20742.0</td>\n",
       "      <td>21674.0</td>\n",
       "      <td>19942.0</td>\n",
       "      <td>20838.0</td>\n",
       "      <td>669.271899</td>\n",
       "      <td>25134.0</td>\n",
       "      <td>26844.0</td>\n",
       "      <td>MULTILINESTRING ((1530760.33729 1555735.63912,...</td>\n",
       "    </tr>\n",
       "    <tr>\n",
       "      <th>4</th>\n",
       "      <td>5</td>\n",
       "      <td>4</td>\n",
       "      <td>10005</td>\n",
       "      <td>B</td>\n",
       "      <td>10005.0</td>\n",
       "      <td>GRANDE VISTA</td>\n",
       "      <td>NORTH OF CORRALES RD. - SOUTH OF SANDIA VISTA</td>\n",
       "      <td>1070.855</td>\n",
       "      <td>0.203</td>\n",
       "      <td>2087.0</td>\n",
       "      <td>...</td>\n",
       "      <td>2100.0</td>\n",
       "      <td>2225.0</td>\n",
       "      <td>1792.0</td>\n",
       "      <td>1898.0</td>\n",
       "      <td>1723.0</td>\n",
       "      <td>1825.0</td>\n",
       "      <td>1033.030125</td>\n",
       "      <td>2058.0</td>\n",
       "      <td>2301.0</td>\n",
       "      <td>MULTILINESTRING ((1531922.80708 1555068.59616,...</td>\n",
       "    </tr>\n",
       "  </tbody>\n",
       "</table>\n",
       "<p>5 rows × 65 columns</p>\n",
       "</div>"
      ],
      "text/plain": [
       "   OBJECTID MRTNI_Func  MRTNIcogid ONE_WAY    COGID           RTE  \\\n",
       "0         1          8        1998       E      NaN          None   \n",
       "1         2          4        1999       B      NaN          None   \n",
       "2         3          2       10003       B  10003.0   UNSER BLVD.   \n",
       "3         4          2       10004       B  10004.0      N.M. 528   \n",
       "4         5          4       10005       B  10005.0  GRANDE VISTA   \n",
       "\n",
       "                                               LOCAT    LENGTH  MILES  \\\n",
       "0                                               None       NaN    NaN   \n",
       "1              NORTH OF MEADE - SOUTH OF CONDERSHIRE       NaN    NaN   \n",
       "2             NORTH OF NORTHERN - SOUTH OF 15TH AVE.  2106.069  0.399   \n",
       "3   NORTH OF CORRALES RD. (NM 448) - .118 MILES N...   648.945  0.123   \n",
       "4      NORTH OF CORRALES RD. - SOUTH OF SANDIA VISTA  1070.855  0.203   \n",
       "\n",
       "     ADT22  ...    ADT02   AWDT02    ADT01   AWDT01    ADT00   AWDT00  \\\n",
       "0      NaN  ...      NaN      NaN      NaN      NaN      NaN      NaN   \n",
       "1      NaN  ...      NaN      NaN      NaN      NaN      NaN      NaN   \n",
       "2  22160.0  ...  11133.0  11633.0  10829.0  11316.0  10412.0  10880.0   \n",
       "3  25188.0  ...  25340.0  26479.0  20742.0  21674.0  19942.0  20838.0   \n",
       "4   2087.0  ...   2100.0   2225.0   1792.0   1898.0   1723.0   1825.0   \n",
       "\n",
       "   Shape_Length    ADT23   AWDT23  \\\n",
       "0    954.968271      NaN      NaN   \n",
       "1    841.849864      NaN      NaN   \n",
       "2   2106.068785  21852.0  23529.0   \n",
       "3    669.271899  25134.0  26844.0   \n",
       "4   1033.030125   2058.0   2301.0   \n",
       "\n",
       "                                            geometry  \n",
       "0  MULTILINESTRING ((1537901.27281 1518885.41196,...  \n",
       "1  MULTILINESTRING ((1497526.51531 1463666.51518,...  \n",
       "2  MULTILINESTRING ((1507058.99985 1555528.75009,...  \n",
       "3  MULTILINESTRING ((1530760.33729 1555735.63912,...  \n",
       "4  MULTILINESTRING ((1531922.80708 1555068.59616,...  \n",
       "\n",
       "[5 rows x 65 columns]"
      ]
     },
     "execution_count": 3,
     "metadata": {},
     "output_type": "execute_result"
    }
   ],
   "source": [
    "# Let's check the roadway data head\n",
    "data.head()"
   ]
  },
  {
   "cell_type": "code",
   "execution_count": 4,
   "id": "e123afb2-ca54-49df-81a6-82621db90f4c",
   "metadata": {},
   "outputs": [
    {
     "data": {
      "text/plain": [
       "(3050, 65)"
      ]
     },
     "execution_count": 4,
     "metadata": {},
     "output_type": "execute_result"
    }
   ],
   "source": [
    "# and let's check the roadway data shape - how many rows/columns\n",
    "data.shape"
   ]
  },
  {
   "cell_type": "code",
   "execution_count": 5,
   "id": "5b74c1e2-e3ae-4498-ade9-cfae64c87d3d",
   "metadata": {},
   "outputs": [
    {
     "data": {
      "text/plain": [
       "Index(['OBJECTID', 'MRTNI_Func', 'MRTNIcogid', 'ONE_WAY', 'COGID', 'RTE',\n",
       "       'LOCAT', 'LENGTH', 'MILES', 'ADT22', 'AWDT22', 'flag22', 'ADT21',\n",
       "       'AWDT21', 'flag21', 'ADT20', 'AWDT20', 'flag20', 'ADT19', 'AWDT19',\n",
       "       'flag19', 'ADT18', 'AWDT18', 'flag18', 'ADT17', 'AWDT17', 'flag17',\n",
       "       'ADT16', 'AWDT16', 'ADT15', 'AWDT15', 'ADT14', 'AWDT14', 'ADT13',\n",
       "       'AWDT13', 'ADT12', 'AWDT12', 'ADT11', 'AWDT11', 'ADT10', 'AWDT10',\n",
       "       'ADT09', 'AWDT09', 'ADT08', 'AWDT08', 'ADT07', 'AWDT07', 'ADT06',\n",
       "       'AWDT06', 'ADT05', 'AWDT05', 'ADT04', 'AWDT04', 'ADT03', 'AWDT03',\n",
       "       'ADT02', 'AWDT02', 'ADT01', 'AWDT01', 'ADT00', 'AWDT00', 'Shape_Length',\n",
       "       'ADT23', 'AWDT23', 'geometry'],\n",
       "      dtype='object')"
      ]
     },
     "execution_count": 5,
     "metadata": {},
     "output_type": "execute_result"
    }
   ],
   "source": [
    "# Let's see what the column names for the roadway data are:\n",
    "data.columns"
   ]
  },
  {
   "cell_type": "code",
   "execution_count": 6,
   "id": "db5a98ff-320e-4611-98ec-19242a7c1853",
   "metadata": {},
   "outputs": [
    {
     "data": {
      "text/plain": [
       "geopandas.geodataframe.GeoDataFrame"
      ]
     },
     "execution_count": 6,
     "metadata": {},
     "output_type": "execute_result"
    }
   ],
   "source": [
    "type(data)"
   ]
  },
  {
   "cell_type": "markdown",
   "id": "eaee8253-82b1-449a-ba93-d0a86ab9eb00",
   "metadata": {},
   "source": [
    "### Road data looks good:\n",
    "\n",
    "We have a geo-dataframe with historical traffic counts going back to 2000. Let's create fields to represent the average traffic in the 5 years before ART and the 5 years after ART to see if there was a significant change along the ART corridor. We will be able to hone in on the parallel routes like Lead/Coal as well as Lomas and even Bridge BLVD and I-40. We can see if traffic spiked on these corridors more so than it did in the region as a whole. \n",
    "\n",
    "so first, let's create fields that represent the average of the pre-ART yeaers and the post-ART yeaers"
   ]
  },
  {
   "cell_type": "code",
   "execution_count": 7,
   "id": "c6b1ea4e-19a3-4848-a783-d633811df46c",
   "metadata": {},
   "outputs": [
    {
     "data": {
      "text/plain": [
       "Index(['OBJECTID', 'MRTNI_Func', 'MRTNIcogid', 'ONE_WAY', 'COGID', 'RTE',\n",
       "       'LOCAT', 'LENGTH', 'MILES', 'ADT22', 'AWDT22', 'flag22', 'ADT21',\n",
       "       'AWDT21', 'flag21', 'ADT20', 'AWDT20', 'flag20', 'ADT19', 'AWDT19',\n",
       "       'flag19', 'ADT18', 'AWDT18', 'flag18', 'ADT17', 'AWDT17', 'flag17',\n",
       "       'ADT16', 'AWDT16', 'ADT15', 'AWDT15', 'ADT14', 'AWDT14', 'ADT13',\n",
       "       'AWDT13', 'ADT12', 'AWDT12', 'ADT11', 'AWDT11', 'ADT10', 'AWDT10',\n",
       "       'ADT09', 'AWDT09', 'ADT08', 'AWDT08', 'ADT07', 'AWDT07', 'ADT06',\n",
       "       'AWDT06', 'ADT05', 'AWDT05', 'ADT04', 'AWDT04', 'ADT03', 'AWDT03',\n",
       "       'ADT02', 'AWDT02', 'ADT01', 'AWDT01', 'ADT00', 'AWDT00', 'Shape_Length',\n",
       "       'ADT23', 'AWDT23', 'geometry', 'PRE_ART_2_YEAR_MEAN',\n",
       "       'POST_ART_2_YEAR_MEAN', 'PRE_ART_5_YEAR_MEAN', 'POST_ART_5_YEAR_MEAN',\n",
       "       'PCT_CHANGE_2_YR', 'PCT_CHANGE_5_YR', 'ABS_CHANGE_2_YR',\n",
       "       'ABS_CHANGE_5_YR', 'ABS_2_YR_CLEAN', 'ABS_5_YR_CLEAN', 'PCT_2_YR_CLEAN',\n",
       "       'PCT_5_YR_CLEAN'],\n",
       "      dtype='object')"
      ]
     },
     "execution_count": 7,
     "metadata": {},
     "output_type": "execute_result"
    }
   ],
   "source": [
    "# create variables to store fields representing the 5 years pre and post ART\n",
    "# Note, the construciton year - 2017 - was left out of the data\n",
    "# I am going to add two levels of analyis - 2 year and 5 year. we will average ADT data \n",
    "# for the pre and post ART period a the 2 and 5 year aggregation. \n",
    "# I wanted to use 5 year as we will get a better idea of the impact as we have more counts\n",
    "# 2 year will allow us to avoid the COVID era. 2018 was the tail end of construction, but\n",
    "# the traffic patterns should have solidified by then. \n",
    "# 2017 was a full construction year, so we are leaving that out of the dataset\n",
    "\n",
    "import numpy as np\n",
    "\n",
    "PRE_ART_2_YEAR = ['ADT15', 'ADT16']\n",
    "POST_ART_2_YEAR = ['ADT18', 'ADT19']\n",
    "\n",
    "PRE_ART_5_YEAR = ['ADT12', 'ADT13', 'ADT14', 'ADT15', 'ADT16']\n",
    "POST_ART_5_YEAR = ['ADT18', 'ADT19', 'ADT20', 'ADT21', 'ADT22']\n",
    "\n",
    "# Calculate means across years (ignoring NaNs)\n",
    "data['PRE_ART_2_YEAR_MEAN'] = data[PRE_ART_2_YEAR].mean(axis=1)\n",
    "data['POST_ART_2_YEAR_MEAN'] = data[POST_ART_2_YEAR].mean(axis=1)\n",
    "\n",
    "data['PRE_ART_5_YEAR_MEAN'] = data[PRE_ART_5_YEAR].mean(axis=1)\n",
    "data['POST_ART_5_YEAR_MEAN'] = data[POST_ART_5_YEAR].mean(axis=1)\n",
    "\n",
    "# Let's make a field for the percentage change between pre/post ART years for whole dataset\n",
    "data['PCT_CHANGE_2_YR'] = ((data['POST_ART_2_YEAR_MEAN'] - data['PRE_ART_2_YEAR_MEAN']) / data['PRE_ART_2_YEAR_MEAN']) * 100\n",
    "data['PCT_CHANGE_5_YR'] = ((data['POST_ART_5_YEAR_MEAN'] - data['PRE_ART_5_YEAR_MEAN']) / data['PRE_ART_5_YEAR_MEAN']) * 100\n",
    "\n",
    "# Absolute change fields (pre - post) - this will help us see if traffic \"disappeared\" or not\n",
    "data['ABS_CHANGE_2_YR'] = data['POST_ART_2_YEAR_MEAN'] - data['PRE_ART_2_YEAR_MEAN']\n",
    "data['ABS_CHANGE_5_YR'] = data['POST_ART_5_YEAR_MEAN'] - data['PRE_ART_5_YEAR_MEAN']\n",
    "\n",
    "# Let's format the numbers nicely for charts and what not\n",
    "data['ABS_2_YR_CLEAN'] = data['ABS_CHANGE_2_YR'].round(0)\n",
    "data['ABS_5_YR_CLEAN'] = data['ABS_CHANGE_5_YR'].round(0)\n",
    "\n",
    "# Replace infinite values with NaN\n",
    "data.replace([np.inf, -np.inf], np.nan, inplace=True)\n",
    "\n",
    "# Create clean rounded columns for mapping/labels\n",
    "data['PCT_2_YR_CLEAN'] = data['PCT_CHANGE_2_YR'].round(2)\n",
    "data['PCT_5_YR_CLEAN'] = data['PCT_CHANGE_5_YR'].round(2)\n",
    "data.columns"
   ]
  },
  {
   "cell_type": "code",
   "execution_count": 8,
   "id": "2eaf0826-357e-4a77-a9a2-3b73d4a9ce4f",
   "metadata": {},
   "outputs": [
    {
     "data": {
      "text/plain": [
       "OBJECTID             int64\n",
       "MRTNI_Func          object\n",
       "MRTNIcogid           int32\n",
       "ONE_WAY             object\n",
       "COGID              float64\n",
       "                    ...   \n",
       "ABS_CHANGE_5_YR    float64\n",
       "ABS_2_YR_CLEAN     float64\n",
       "ABS_5_YR_CLEAN     float64\n",
       "PCT_2_YR_CLEAN     float64\n",
       "PCT_5_YR_CLEAN     float64\n",
       "Length: 77, dtype: object"
      ]
     },
     "execution_count": 8,
     "metadata": {},
     "output_type": "execute_result"
    }
   ],
   "source": [
    "data.dtypes"
   ]
  },
  {
   "cell_type": "code",
   "execution_count": 9,
   "id": "707c1b0c-0e67-4210-b168-e2f2b38cfd3f",
   "metadata": {},
   "outputs": [
    {
     "data": {
      "text/plain": [
       "0        NaN\n",
       "1        NaN\n",
       "2    10003.0\n",
       "3    10004.0\n",
       "4    10005.0\n",
       "Name: COGID, dtype: float64"
      ]
     },
     "execution_count": 9,
     "metadata": {},
     "output_type": "execute_result"
    }
   ],
   "source": [
    "data['COGID'].head()"
   ]
  },
  {
   "cell_type": "code",
   "execution_count": 10,
   "id": "dff86418-ad5a-43e9-959f-60bc4c94d8f6",
   "metadata": {},
   "outputs": [
    {
     "data": {
      "text/html": [
       "<div>\n",
       "<style scoped>\n",
       "    .dataframe tbody tr th:only-of-type {\n",
       "        vertical-align: middle;\n",
       "    }\n",
       "\n",
       "    .dataframe tbody tr th {\n",
       "        vertical-align: top;\n",
       "    }\n",
       "\n",
       "    .dataframe thead th {\n",
       "        text-align: right;\n",
       "    }\n",
       "</style>\n",
       "<table border=\"1\" class=\"dataframe\">\n",
       "  <thead>\n",
       "    <tr style=\"text-align: right;\">\n",
       "      <th></th>\n",
       "      <th>COGID</th>\n",
       "      <th>RTE</th>\n",
       "      <th>LOCAT</th>\n",
       "    </tr>\n",
       "  </thead>\n",
       "  <tbody>\n",
       "    <tr>\n",
       "      <th>0</th>\n",
       "      <td>23884</td>\n",
       "      <td>CENTRAL</td>\n",
       "      <td>EAST OF RIO GRANDE BLVD. - WEST OF LOMAS</td>\n",
       "    </tr>\n",
       "    <tr>\n",
       "      <th>1</th>\n",
       "      <td>24136</td>\n",
       "      <td>CENTRAL</td>\n",
       "      <td>EAST OF TINGLEY - WEST OF NEW YORK AVE.</td>\n",
       "    </tr>\n",
       "    <tr>\n",
       "      <th>2</th>\n",
       "      <td>24137</td>\n",
       "      <td>CENTRAL</td>\n",
       "      <td>EAST OF NEW YORK - WEST OF RIO GRANDE</td>\n",
       "    </tr>\n",
       "    <tr>\n",
       "      <th>3</th>\n",
       "      <td>24344</td>\n",
       "      <td>CENTRAL</td>\n",
       "      <td>EAST OF SUNSET - WEST OF TINGLEY</td>\n",
       "    </tr>\n",
       "    <tr>\n",
       "      <th>4</th>\n",
       "      <td>24420</td>\n",
       "      <td>CENTRAL</td>\n",
       "      <td>SOUTHEAST OF LOMAS - NORTHWEST OF TIJERAS</td>\n",
       "    </tr>\n",
       "  </tbody>\n",
       "</table>\n",
       "</div>"
      ],
      "text/plain": [
       "   COGID      RTE                                      LOCAT\n",
       "0  23884  CENTRAL   EAST OF RIO GRANDE BLVD. - WEST OF LOMAS\n",
       "1  24136  CENTRAL    EAST OF TINGLEY - WEST OF NEW YORK AVE.\n",
       "2  24137  CENTRAL      EAST OF NEW YORK - WEST OF RIO GRANDE\n",
       "3  24344  CENTRAL           EAST OF SUNSET - WEST OF TINGLEY\n",
       "4  24420  CENTRAL  SOUTHEAST OF LOMAS - NORTHWEST OF TIJERAS"
      ]
     },
     "execution_count": 10,
     "metadata": {},
     "output_type": "execute_result"
    }
   ],
   "source": [
    "# I created two spredsheets that are selections of the relevant links that represent\n",
    "# Central along the ART dedicated lane stretch (Coors to Louisina), and the art_adj_links \n",
    "# represent the ART Adjacent Links - all of Lead/Coal + Zuni until Louisiana \n",
    "# and Lomas from San Pasquale to Louisiana\n",
    "import pandas as pd\n",
    "\n",
    "art_links = pd.read_csv('data/ART_Links.csv')\n",
    "art_adj_links = pd.read_csv('data/ART_ADJ_FLAG.csv')\n",
    "art_links.head()"
   ]
  },
  {
   "cell_type": "code",
   "execution_count": 11,
   "id": "9df42c48-fbf3-4f87-bb4b-14d60979046b",
   "metadata": {
    "scrolled": true
   },
   "outputs": [
    {
     "data": {
      "text/html": [
       "<div>\n",
       "<style scoped>\n",
       "    .dataframe tbody tr th:only-of-type {\n",
       "        vertical-align: middle;\n",
       "    }\n",
       "\n",
       "    .dataframe tbody tr th {\n",
       "        vertical-align: top;\n",
       "    }\n",
       "\n",
       "    .dataframe thead th {\n",
       "        text-align: right;\n",
       "    }\n",
       "</style>\n",
       "<table border=\"1\" class=\"dataframe\">\n",
       "  <thead>\n",
       "    <tr style=\"text-align: right;\">\n",
       "      <th></th>\n",
       "      <th>COGID</th>\n",
       "      <th>RTE</th>\n",
       "      <th>LOCAT</th>\n",
       "    </tr>\n",
       "  </thead>\n",
       "  <tbody>\n",
       "    <tr>\n",
       "      <th>52</th>\n",
       "      <td>25708</td>\n",
       "      <td>COAL</td>\n",
       "      <td>EAST OF YALE - WEST OF GIRARD</td>\n",
       "    </tr>\n",
       "    <tr>\n",
       "      <th>53</th>\n",
       "      <td>25716</td>\n",
       "      <td>COAL</td>\n",
       "      <td>EAST OF UNIVERSITY - WEST OF YALE</td>\n",
       "    </tr>\n",
       "    <tr>\n",
       "      <th>54</th>\n",
       "      <td>25784</td>\n",
       "      <td>ZUNI</td>\n",
       "      <td>EAST OF WASHINGTON (LEAD/COAL) - WEST OF SAN M...</td>\n",
       "    </tr>\n",
       "    <tr>\n",
       "      <th>55</th>\n",
       "      <td>25800</td>\n",
       "      <td>ZUNI</td>\n",
       "      <td>EAST OF SAN MATEO - WEST OF SAN PEDRO</td>\n",
       "    </tr>\n",
       "    <tr>\n",
       "      <th>56</th>\n",
       "      <td>25820</td>\n",
       "      <td>ZUNI</td>\n",
       "      <td>EAST OF SAN PEDRO - WEST OF LOUISIANA</td>\n",
       "    </tr>\n",
       "  </tbody>\n",
       "</table>\n",
       "</div>"
      ],
      "text/plain": [
       "    COGID   RTE                                              LOCAT\n",
       "52  25708  COAL                      EAST OF YALE - WEST OF GIRARD\n",
       "53  25716  COAL                  EAST OF UNIVERSITY - WEST OF YALE\n",
       "54  25784  ZUNI  EAST OF WASHINGTON (LEAD/COAL) - WEST OF SAN M...\n",
       "55  25800  ZUNI              EAST OF SAN MATEO - WEST OF SAN PEDRO\n",
       "56  25820  ZUNI              EAST OF SAN PEDRO - WEST OF LOUISIANA"
      ]
     },
     "execution_count": 11,
     "metadata": {},
     "output_type": "execute_result"
    }
   ],
   "source": [
    "art_adj_links.tail()"
   ]
  },
  {
   "cell_type": "code",
   "execution_count": 12,
   "id": "4dee96a5-29cb-4fba-b8c2-500528bb96bf",
   "metadata": {},
   "outputs": [
    {
     "name": "stdout",
     "output_type": "stream",
     "text": [
      "OBJECTID             int64\n",
      "MRTNI_Func          object\n",
      "MRTNIcogid           int32\n",
      "ONE_WAY             object\n",
      "COGID               object\n",
      "                    ...   \n",
      "ABS_CHANGE_5_YR    float64\n",
      "ABS_2_YR_CLEAN     float64\n",
      "ABS_5_YR_CLEAN     float64\n",
      "PCT_2_YR_CLEAN     float64\n",
      "PCT_5_YR_CLEAN     float64\n",
      "Length: 77, dtype: object\n"
     ]
    }
   ],
   "source": [
    "# We are having issues becuase we need to change COGID to a string but there are NA values\n",
    "# we need to Drop rows with missing COGIDs before we try to join tables\n",
    "data = data[data['COGID'].notna()].copy()\n",
    "\n",
    "# Step 2: Convert to int → str\n",
    "data['COGID'] = data['COGID'].astype(int).astype(str)\n",
    "print(data.dtypes)"
   ]
  },
  {
   "cell_type": "code",
   "execution_count": 13,
   "id": "8a70ea72-da47-4786-a7cc-7bd16988a682",
   "metadata": {},
   "outputs": [
    {
     "name": "stdout",
     "output_type": "stream",
     "text": [
      "COGID    object\n",
      "RTE      object\n",
      "LOCAT    object\n",
      "dtype: object\n"
     ]
    }
   ],
   "source": [
    "# Let's make sure the COGID's are also strings in the art_links and art_adj_links \n",
    "# so that we can join them to the main dataset and be able to do analysis just on those links\n",
    "# Standardize COGID format: float → int → str\n",
    "art_links['COGID'] = art_links['COGID'].astype(int).astype(str)\n",
    "art_adj_links['COGID'] = art_adj_links['COGID'].astype(int).astype(str)\n",
    "print(art_links.dtypes)"
   ]
  },
  {
   "cell_type": "code",
   "execution_count": 14,
   "id": "ee570aa2-ae3b-466c-92b6-094790c49ec0",
   "metadata": {},
   "outputs": [
    {
     "data": {
      "text/plain": [
       "Index(['OBJECTID', 'MRTNI_Func', 'MRTNIcogid', 'ONE_WAY', 'COGID', 'RTE',\n",
       "       'LOCAT', 'LENGTH', 'MILES', 'ADT22', 'AWDT22', 'flag22', 'ADT21',\n",
       "       'AWDT21', 'flag21', 'ADT20', 'AWDT20', 'flag20', 'ADT19', 'AWDT19',\n",
       "       'flag19', 'ADT18', 'AWDT18', 'flag18', 'ADT17', 'AWDT17', 'flag17',\n",
       "       'ADT16', 'AWDT16', 'ADT15', 'AWDT15', 'ADT14', 'AWDT14', 'ADT13',\n",
       "       'AWDT13', 'ADT12', 'AWDT12', 'ADT11', 'AWDT11', 'ADT10', 'AWDT10',\n",
       "       'ADT09', 'AWDT09', 'ADT08', 'AWDT08', 'ADT07', 'AWDT07', 'ADT06',\n",
       "       'AWDT06', 'ADT05', 'AWDT05', 'ADT04', 'AWDT04', 'ADT03', 'AWDT03',\n",
       "       'ADT02', 'AWDT02', 'ADT01', 'AWDT01', 'ADT00', 'AWDT00', 'Shape_Length',\n",
       "       'ADT23', 'AWDT23', 'geometry', 'PRE_ART_2_YEAR_MEAN',\n",
       "       'POST_ART_2_YEAR_MEAN', 'PRE_ART_5_YEAR_MEAN', 'POST_ART_5_YEAR_MEAN',\n",
       "       'PCT_CHANGE_2_YR', 'PCT_CHANGE_5_YR', 'ABS_CHANGE_2_YR',\n",
       "       'ABS_CHANGE_5_YR', 'ABS_2_YR_CLEAN', 'ABS_5_YR_CLEAN', 'PCT_2_YR_CLEAN',\n",
       "       'PCT_5_YR_CLEAN', 'IS_ART', 'IS_ART_ADJ'],\n",
       "      dtype='object')"
      ]
     },
     "execution_count": 14,
     "metadata": {},
     "output_type": "execute_result"
    }
   ],
   "source": [
    "\n",
    "# Create binary flag fields to indicate whether link is on ART corridor or an ART_Adjacent corridor\n",
    "data['IS_ART'] = data['COGID'].isin(art_links['COGID']).astype(int)\n",
    "data['IS_ART_ADJ'] = data['COGID'].isin(art_adj_links['COGID']).astype(int)\n",
    "data.columns\n"
   ]
  },
  {
   "cell_type": "markdown",
   "id": "389ba024-481b-4b50-967e-6874a03a2452",
   "metadata": {},
   "source": [
    "OK, everything looks good so far - now we have two fields in the main dataset that tell us wether a link is in the ART study area or on a roadway we consdier \"ART Adjacent\" and likely to receive spillover traffic if that is what happened. "
   ]
  },
  {
   "cell_type": "code",
   "execution_count": 15,
   "id": "3acb4ada-6d86-4bc6-9ab0-00ace0a3b233",
   "metadata": {},
   "outputs": [
    {
     "data": {
      "text/plain": [
       "(3048, 18)"
      ]
     },
     "execution_count": 15,
     "metadata": {},
     "output_type": "execute_result"
    }
   ],
   "source": [
    "# Keep full dataset for analysis\n",
    "full_data = data.copy()\n",
    "\n",
    "import geopandas as gpd\n",
    "\n",
    "# Recreate map_data with geometry\n",
    "map_data = gpd.GeoDataFrame(\n",
    "    data[['COGID', 'RTE', 'LOCAT', 'PRE_ART_2_YEAR_MEAN',\n",
    "          'POST_ART_2_YEAR_MEAN', 'PRE_ART_5_YEAR_MEAN', 'POST_ART_5_YEAR_MEAN',\n",
    "          'PCT_CHANGE_2_YR', 'PCT_CHANGE_5_YR', 'PCT_2_YR_CLEAN',\n",
    "          'PCT_5_YR_CLEAN', 'IS_ART', 'IS_ART_ADJ','ABS_CHANGE_2_YR',\n",
    "       'ABS_CHANGE_5_YR', 'ABS_2_YR_CLEAN', 'ABS_5_YR_CLEAN', 'geometry']],\n",
    "    crs=data.crs  # preserve original CRS\n",
    ")\n",
    "map_data.shape"
   ]
  },
  {
   "cell_type": "code",
   "execution_count": 16,
   "id": "29e1b14b-5c2c-4c51-8fbc-ea090f70b0bf",
   "metadata": {},
   "outputs": [
    {
     "data": {
      "text/plain": [
       "COGID                     object\n",
       "RTE                       object\n",
       "LOCAT                     object\n",
       "PRE_ART_2_YEAR_MEAN      float64\n",
       "POST_ART_2_YEAR_MEAN     float64\n",
       "PRE_ART_5_YEAR_MEAN      float64\n",
       "POST_ART_5_YEAR_MEAN     float64\n",
       "PCT_CHANGE_2_YR          float64\n",
       "PCT_CHANGE_5_YR          float64\n",
       "PCT_2_YR_CLEAN           float64\n",
       "PCT_5_YR_CLEAN           float64\n",
       "IS_ART                     int64\n",
       "IS_ART_ADJ                 int64\n",
       "ABS_CHANGE_2_YR          float64\n",
       "ABS_CHANGE_5_YR          float64\n",
       "ABS_2_YR_CLEAN           float64\n",
       "ABS_5_YR_CLEAN           float64\n",
       "geometry                geometry\n",
       "dtype: object"
      ]
     },
     "execution_count": 16,
     "metadata": {},
     "output_type": "execute_result"
    }
   ],
   "source": [
    "map_data.dtypes"
   ]
  },
  {
   "cell_type": "code",
   "execution_count": 17,
   "id": "c86c3c8a-a030-49cd-b43d-bc312a25ea2b",
   "metadata": {},
   "outputs": [
    {
     "name": "stdout",
     "output_type": "stream",
     "text": [
      "137\n",
      "131\n"
     ]
    }
   ],
   "source": [
    "# We do have a bit of missing data, but I doubt there will be missing data on the ART\n",
    "# and ART adjacent links\n",
    "print(map_data['PCT_2_YR_CLEAN'].isna().sum())\n",
    "print(map_data['PCT_5_YR_CLEAN'].isna().sum())"
   ]
  },
  {
   "cell_type": "code",
   "execution_count": 18,
   "id": "6f88b7da-61bb-406f-bc05-d70ee3695afc",
   "metadata": {},
   "outputs": [
    {
     "name": "stdout",
     "output_type": "stream",
     "text": [
      "11675.27\n",
      "12623.84\n"
     ]
    }
   ],
   "source": [
    "print(map_data['PRE_ART_2_YEAR_MEAN'].mean().round(2))\n",
    "print(map_data['POST_ART_2_YEAR_MEAN'].mean().round(2))"
   ]
  },
  {
   "cell_type": "code",
   "execution_count": 19,
   "id": "dde462cf-be47-4160-a972-ebe298e8930d",
   "metadata": {},
   "outputs": [
    {
     "name": "stdout",
     "output_type": "stream",
     "text": [
      "<class 'geopandas.geodataframe.GeoDataFrame'>\n",
      "GEOGCS[\"Undefined geographic SRS\",DATUM[\"unknown\",SPHEROID[\"unknown\",6378137,298.257223563]],PRIMEM[\"Greenwich\",0],UNIT[\"degree\",0.0174532925199433,AUTHORITY[\"EPSG\",\"9122\"]],AXIS[\"Latitude\",NORTH],AXIS[\"Longitude\",EAST]]\n"
     ]
    }
   ],
   "source": [
    "print(type(map_data))\n",
    "print(map_data.crs)"
   ]
  },
  {
   "cell_type": "code",
   "execution_count": 20,
   "id": "e39256ea-7e78-46b9-a039-2fa546d49d80",
   "metadata": {},
   "outputs": [
    {
     "name": "stdout",
     "output_type": "stream",
     "text": [
      "[1277984.37236941 1186639.21687807 1928138.916874   1900771.46872883]\n"
     ]
    }
   ],
   "source": [
    "# We need to set the CRS before we can reproject it to a web-friendly projection\n",
    "map_data.set_crs(epsg=6529, inplace=True, allow_override=True)\n",
    "\n",
    "print(map_data.total_bounds)\n"
   ]
  },
  {
   "cell_type": "code",
   "execution_count": 21,
   "id": "799b11e5-80cc-42c3-8881-34b2a48d23d8",
   "metadata": {},
   "outputs": [
    {
     "name": "stdout",
     "output_type": "stream",
     "text": [
      "[-107.4786898    34.26004973 -105.28934893   36.21760708]\n"
     ]
    }
   ],
   "source": [
    "#Re-projecting to this crs should make for easier web-mapping\n",
    "map_data = map_data.to_crs(epsg=4326)\n",
    "print(map_data.total_bounds)"
   ]
  },
  {
   "cell_type": "code",
   "execution_count": 22,
   "id": "9a8581cf-39f5-4df1-aabe-bbc26aa484dd",
   "metadata": {},
   "outputs": [
    {
     "data": {
      "text/plain": [
       "<Geographic 2D CRS: EPSG:4326>\n",
       "Name: WGS 84\n",
       "Axis Info [ellipsoidal]:\n",
       "- Lat[north]: Geodetic latitude (degree)\n",
       "- Lon[east]: Geodetic longitude (degree)\n",
       "Area of Use:\n",
       "- name: World.\n",
       "- bounds: (-180.0, -90.0, 180.0, 90.0)\n",
       "Datum: World Geodetic System 1984 ensemble\n",
       "- Ellipsoid: WGS 84\n",
       "- Prime Meridian: Greenwich"
      ]
     },
     "execution_count": 22,
     "metadata": {},
     "output_type": "execute_result"
    }
   ],
   "source": [
    "map_data.crs"
   ]
  },
  {
   "cell_type": "code",
   "execution_count": null,
   "id": "27ae51cf-87ff-4edf-a275-fe562bcf7169",
   "metadata": {},
   "outputs": [],
   "source": [
    "# Save the cleaned GeoDataFrame to a new GeoPackage\n",
    "# map_data.to_file(\n",
    "#     OUTPUT_DIRECTORY / \"traffic_change_analysis.gpkg\",\n",
    "#     layer=\"traffic_pct_change\",\n",
    "#     driver=\"GPKG\"\n",
    "# )\n",
    "# I'm going to leave this commented out so I don't accidentally re-create a new traffic_change_analysis gpkg"
   ]
  },
  {
   "cell_type": "code",
   "execution_count": 23,
   "id": "74625066-76cc-4e0f-9747-ff0a8ee79e55",
   "metadata": {},
   "outputs": [
    {
     "name": "stdout",
     "output_type": "stream",
     "text": [
      "Index(['COGID', 'RTE', 'LOCAT', 'PRE_ART_2_YEAR_MEAN', 'POST_ART_2_YEAR_MEAN',\n",
      "       'PRE_ART_5_YEAR_MEAN', 'POST_ART_5_YEAR_MEAN', 'PCT_CHANGE_2_YR',\n",
      "       'PCT_CHANGE_5_YR', 'PCT_2_YR_CLEAN', 'PCT_5_YR_CLEAN', 'IS_ART',\n",
      "       'IS_ART_ADJ', 'ABS_CHANGE_2_YR', 'ABS_CHANGE_5_YR', 'ABS_2_YR_CLEAN',\n",
      "       'ABS_5_YR_CLEAN', 'geometry'],\n",
      "      dtype='object')\n"
     ]
    }
   ],
   "source": [
    "import geopandas as gpd\n",
    "\n",
    "# Re-import the updated GeoPackage\n",
    "updated_data = gpd.read_file(\"docs/traffic_change_analysis.gpkg\", layer=\"traffic_pct_change\")\n",
    "\n",
    "# Confirm the new fields are there\n",
    "print(updated_data.columns)\n"
   ]
  },
  {
   "cell_type": "code",
   "execution_count": 24,
   "id": "2983a9b2-d440-4e54-89c2-4e63b24aa889",
   "metadata": {},
   "outputs": [
    {
     "data": {
      "text/html": [
       "<div>\n",
       "<style scoped>\n",
       "    .dataframe tbody tr th:only-of-type {\n",
       "        vertical-align: middle;\n",
       "    }\n",
       "\n",
       "    .dataframe tbody tr th {\n",
       "        vertical-align: top;\n",
       "    }\n",
       "\n",
       "    .dataframe thead th {\n",
       "        text-align: right;\n",
       "    }\n",
       "</style>\n",
       "<table border=\"1\" class=\"dataframe\">\n",
       "  <thead>\n",
       "    <tr style=\"text-align: right;\">\n",
       "      <th></th>\n",
       "      <th>COGID</th>\n",
       "      <th>RTE</th>\n",
       "      <th>LOCAT</th>\n",
       "      <th>PRE_ART_2_YEAR_MEAN</th>\n",
       "      <th>POST_ART_2_YEAR_MEAN</th>\n",
       "      <th>PRE_ART_5_YEAR_MEAN</th>\n",
       "      <th>POST_ART_5_YEAR_MEAN</th>\n",
       "      <th>PCT_CHANGE_2_YR</th>\n",
       "      <th>PCT_CHANGE_5_YR</th>\n",
       "      <th>PCT_2_YR_CLEAN</th>\n",
       "      <th>PCT_5_YR_CLEAN</th>\n",
       "      <th>IS_ART</th>\n",
       "      <th>IS_ART_ADJ</th>\n",
       "      <th>ABS_CHANGE_2_YR</th>\n",
       "      <th>ABS_CHANGE_5_YR</th>\n",
       "      <th>ABS_2_YR_CLEAN</th>\n",
       "      <th>ABS_5_YR_CLEAN</th>\n",
       "      <th>geometry</th>\n",
       "    </tr>\n",
       "  </thead>\n",
       "  <tbody>\n",
       "    <tr>\n",
       "      <th>1530</th>\n",
       "      <td>23884</td>\n",
       "      <td>CENTRAL</td>\n",
       "      <td>EAST OF RIO GRANDE BLVD. - WEST OF LOMAS</td>\n",
       "      <td>26902.5</td>\n",
       "      <td>23544.0</td>\n",
       "      <td>25548.6</td>\n",
       "      <td>19560.2</td>\n",
       "      <td>-12.483970</td>\n",
       "      <td>-23.439249</td>\n",
       "      <td>-12.48</td>\n",
       "      <td>-23.44</td>\n",
       "      <td>1</td>\n",
       "      <td>0</td>\n",
       "      <td>-3358.5</td>\n",
       "      <td>-5988.4</td>\n",
       "      <td>-3358.0</td>\n",
       "      <td>-5988.0</td>\n",
       "      <td>MULTILINESTRING ((-106.67142 35.09515, -106.67...</td>\n",
       "    </tr>\n",
       "    <tr>\n",
       "      <th>1576</th>\n",
       "      <td>24136</td>\n",
       "      <td>CENTRAL</td>\n",
       "      <td>EAST OF TINGLEY - WEST OF NEW YORK AVE.</td>\n",
       "      <td>33598.5</td>\n",
       "      <td>25920.0</td>\n",
       "      <td>31815.0</td>\n",
       "      <td>23830.0</td>\n",
       "      <td>-22.853699</td>\n",
       "      <td>-25.098224</td>\n",
       "      <td>-22.85</td>\n",
       "      <td>-25.10</td>\n",
       "      <td>1</td>\n",
       "      <td>0</td>\n",
       "      <td>-7678.5</td>\n",
       "      <td>-7985.0</td>\n",
       "      <td>-7678.0</td>\n",
       "      <td>-7985.0</td>\n",
       "      <td>MULTILINESTRING ((-106.67919 35.09107, -106.67...</td>\n",
       "    </tr>\n",
       "    <tr>\n",
       "      <th>1577</th>\n",
       "      <td>24137</td>\n",
       "      <td>CENTRAL</td>\n",
       "      <td>EAST OF NEW YORK - WEST OF RIO GRANDE</td>\n",
       "      <td>31270.0</td>\n",
       "      <td>28967.0</td>\n",
       "      <td>30397.8</td>\n",
       "      <td>24955.8</td>\n",
       "      <td>-7.364886</td>\n",
       "      <td>-17.902611</td>\n",
       "      <td>-7.36</td>\n",
       "      <td>-17.90</td>\n",
       "      <td>1</td>\n",
       "      <td>0</td>\n",
       "      <td>-2303.0</td>\n",
       "      <td>-5442.0</td>\n",
       "      <td>-2303.0</td>\n",
       "      <td>-5442.0</td>\n",
       "      <td>MULTILINESTRING ((-106.6775 35.09436, -106.677...</td>\n",
       "    </tr>\n",
       "    <tr>\n",
       "      <th>1602</th>\n",
       "      <td>24344</td>\n",
       "      <td>CENTRAL</td>\n",
       "      <td>EAST OF SUNSET - WEST OF TINGLEY</td>\n",
       "      <td>37237.0</td>\n",
       "      <td>25653.0</td>\n",
       "      <td>34254.4</td>\n",
       "      <td>26030.2</td>\n",
       "      <td>-31.108843</td>\n",
       "      <td>-24.009178</td>\n",
       "      <td>-31.11</td>\n",
       "      <td>-24.01</td>\n",
       "      <td>1</td>\n",
       "      <td>0</td>\n",
       "      <td>-11584.0</td>\n",
       "      <td>-8224.2</td>\n",
       "      <td>-11584.0</td>\n",
       "      <td>-8224.0</td>\n",
       "      <td>MULTILINESTRING ((-106.68279 35.08716, -106.68...</td>\n",
       "    </tr>\n",
       "    <tr>\n",
       "      <th>1618</th>\n",
       "      <td>24420</td>\n",
       "      <td>CENTRAL</td>\n",
       "      <td>SOUTHEAST OF LOMAS - NORTHWEST OF TIJERAS</td>\n",
       "      <td>14170.5</td>\n",
       "      <td>13450.5</td>\n",
       "      <td>12716.6</td>\n",
       "      <td>10266.8</td>\n",
       "      <td>-5.080978</td>\n",
       "      <td>-19.264583</td>\n",
       "      <td>-5.08</td>\n",
       "      <td>-19.26</td>\n",
       "      <td>1</td>\n",
       "      <td>0</td>\n",
       "      <td>-720.0</td>\n",
       "      <td>-2449.8</td>\n",
       "      <td>-720.0</td>\n",
       "      <td>-2450.0</td>\n",
       "      <td>MULTILINESTRING ((-106.66877 35.09365, -106.66...</td>\n",
       "    </tr>\n",
       "  </tbody>\n",
       "</table>\n",
       "</div>"
      ],
      "text/plain": [
       "      COGID      RTE                                      LOCAT  \\\n",
       "1530  23884  CENTRAL   EAST OF RIO GRANDE BLVD. - WEST OF LOMAS   \n",
       "1576  24136  CENTRAL    EAST OF TINGLEY - WEST OF NEW YORK AVE.   \n",
       "1577  24137  CENTRAL      EAST OF NEW YORK - WEST OF RIO GRANDE   \n",
       "1602  24344  CENTRAL           EAST OF SUNSET - WEST OF TINGLEY   \n",
       "1618  24420  CENTRAL  SOUTHEAST OF LOMAS - NORTHWEST OF TIJERAS   \n",
       "\n",
       "      PRE_ART_2_YEAR_MEAN  POST_ART_2_YEAR_MEAN  PRE_ART_5_YEAR_MEAN  \\\n",
       "1530              26902.5               23544.0              25548.6   \n",
       "1576              33598.5               25920.0              31815.0   \n",
       "1577              31270.0               28967.0              30397.8   \n",
       "1602              37237.0               25653.0              34254.4   \n",
       "1618              14170.5               13450.5              12716.6   \n",
       "\n",
       "      POST_ART_5_YEAR_MEAN  PCT_CHANGE_2_YR  PCT_CHANGE_5_YR  PCT_2_YR_CLEAN  \\\n",
       "1530               19560.2       -12.483970       -23.439249          -12.48   \n",
       "1576               23830.0       -22.853699       -25.098224          -22.85   \n",
       "1577               24955.8        -7.364886       -17.902611           -7.36   \n",
       "1602               26030.2       -31.108843       -24.009178          -31.11   \n",
       "1618               10266.8        -5.080978       -19.264583           -5.08   \n",
       "\n",
       "      PCT_5_YR_CLEAN  IS_ART  IS_ART_ADJ  ABS_CHANGE_2_YR  ABS_CHANGE_5_YR  \\\n",
       "1530          -23.44       1           0          -3358.5          -5988.4   \n",
       "1576          -25.10       1           0          -7678.5          -7985.0   \n",
       "1577          -17.90       1           0          -2303.0          -5442.0   \n",
       "1602          -24.01       1           0         -11584.0          -8224.2   \n",
       "1618          -19.26       1           0           -720.0          -2449.8   \n",
       "\n",
       "      ABS_2_YR_CLEAN  ABS_5_YR_CLEAN  \\\n",
       "1530         -3358.0         -5988.0   \n",
       "1576         -7678.0         -7985.0   \n",
       "1577         -2303.0         -5442.0   \n",
       "1602        -11584.0         -8224.0   \n",
       "1618          -720.0         -2450.0   \n",
       "\n",
       "                                               geometry  \n",
       "1530  MULTILINESTRING ((-106.67142 35.09515, -106.67...  \n",
       "1576  MULTILINESTRING ((-106.67919 35.09107, -106.67...  \n",
       "1577  MULTILINESTRING ((-106.6775 35.09436, -106.677...  \n",
       "1602  MULTILINESTRING ((-106.68279 35.08716, -106.68...  \n",
       "1618  MULTILINESTRING ((-106.66877 35.09365, -106.66...  "
      ]
     },
     "execution_count": 24,
     "metadata": {},
     "output_type": "execute_result"
    }
   ],
   "source": [
    "# We can make a selection of just the ART links\n",
    "updated_data[updated_data['IS_ART'] == 1].head()"
   ]
  },
  {
   "cell_type": "code",
   "execution_count": 25,
   "id": "48dcf500-99ea-4e49-be26-3c38ec27cbf6",
   "metadata": {},
   "outputs": [
    {
     "data": {
      "text/plain": [
       "(38, 18)"
      ]
     },
     "execution_count": 25,
     "metadata": {},
     "output_type": "execute_result"
    }
   ],
   "source": [
    "updated_data[updated_data['IS_ART'] == 1].shape"
   ]
  },
  {
   "cell_type": "code",
   "execution_count": 26,
   "id": "5886c3de-118a-41d9-a992-2c1dae70749f",
   "metadata": {},
   "outputs": [
    {
     "name": "stdout",
     "output_type": "stream",
     "text": [
      "Mean PCT_CHANGE on ART corridor: -15.02\n"
     ]
    }
   ],
   "source": [
    "# Mean percent change on ART corridor links\n",
    "art_pct_mean = updated_data[updated_data['IS_ART'] == 1]['PCT_2_YR_CLEAN'].mean()\n",
    "print(\"Mean PCT_CHANGE on ART corridor:\", round(art_pct_mean, 2))\n"
   ]
  },
  {
   "cell_type": "code",
   "execution_count": 27,
   "id": "aafffb32-ded9-42c9-9baa-703519a76e3b",
   "metadata": {},
   "outputs": [
    {
     "name": "stdout",
     "output_type": "stream",
     "text": [
      "count    38.000000\n",
      "mean    -15.023421\n",
      "std      15.194309\n",
      "min     -53.400000\n",
      "25%     -24.465000\n",
      "50%     -13.300000\n",
      "75%      -4.652500\n",
      "max      10.180000\n",
      "Name: PCT_2_YR_CLEAN, dtype: float64\n"
     ]
    }
   ],
   "source": [
    "# Summary statistics\n",
    "art_stats = updated_data[updated_data['IS_ART'] == 1]['PCT_2_YR_CLEAN'].describe()\n",
    "print(art_stats)\n"
   ]
  },
  {
   "cell_type": "code",
   "execution_count": 28,
   "id": "6cdf3f35-f692-4ea8-af67-65295b7dd119",
   "metadata": {},
   "outputs": [
    {
     "name": "stdout",
     "output_type": "stream",
     "text": [
      "Mean PCT_CHANGE on ART adjacent corridors (Lead/Coal/Lomas: 2.65\n"
     ]
    }
   ],
   "source": [
    "# Let's check the percent change on ART Adjacent corirdors for the 2 year time period:\n",
    "art_adj_mean = updated_data[updated_data['IS_ART_ADJ'] == 1]['PCT_2_YR_CLEAN'].mean().round(2)\n",
    "print(\"Mean PCT_CHANGE on ART adjacent corridors (Lead/Coal/Lomas:\", art_adj_mean)"
   ]
  },
  {
   "cell_type": "code",
   "execution_count": 29,
   "id": "fae7cf14-ea5d-456a-9115-4845d4d60235",
   "metadata": {},
   "outputs": [
    {
     "name": "stdout",
     "output_type": "stream",
     "text": [
      "count    57.000000\n",
      "mean      2.648947\n",
      "std      19.120505\n",
      "min     -44.790000\n",
      "25%      -7.670000\n",
      "50%       6.160000\n",
      "75%      10.850000\n",
      "max      64.670000\n",
      "Name: PCT_2_YR_CLEAN, dtype: float64\n"
     ]
    }
   ],
   "source": [
    "art_adj_stats = updated_data[updated_data['IS_ART_ADJ'] == 1]['PCT_2_YR_CLEAN'].describe()\n",
    "print(art_adj_stats)"
   ]
  },
  {
   "cell_type": "code",
   "execution_count": 30,
   "id": "4d370be3-40d4-423e-b3eb-d816ba891bc6",
   "metadata": {},
   "outputs": [
    {
     "name": "stdout",
     "output_type": "stream",
     "text": [
      "Mean PCT_CHANGE on the rest of the network excluding ART and ART adjacent links is: 17.0\n"
     ]
    }
   ],
   "source": [
    "rest_of_net_mean_2yr = updated_data[\n",
    "    (updated_data['IS_ART'] != 1) & (updated_data['IS_ART_ADJ'] != 1)\n",
    "]['PCT_2_YR_CLEAN'].mean().round(2)\n",
    "print(\"Mean PCT_CHANGE on the rest of the network excluding ART and ART adjacent links is:\", rest_of_net_mean_2yr) "
   ]
  },
  {
   "cell_type": "code",
   "execution_count": 31,
   "id": "65d1526b-6969-4f56-8d54-4e98ae89e1ca",
   "metadata": {},
   "outputs": [
    {
     "name": "stdout",
     "output_type": "stream",
     "text": [
      "       PRE_ART_2_YEAR_MEAN  POST_ART_2_YEAR_MEAN  PRE_ART_5_YEAR_MEAN  \\\n",
      "count          2952.000000           2900.000000          2952.000000   \n",
      "mean          11605.035400          12620.839655         11287.166531   \n",
      "std           14805.885942          15330.225853         14456.545841   \n",
      "min               0.000000             39.000000             0.000000   \n",
      "25%            1855.375000           2486.750000          1769.700000   \n",
      "50%            6452.250000           7301.500000          6185.600000   \n",
      "75%           15791.125000          16985.375000         15173.000000   \n",
      "max           97314.000000         101683.000000         93082.200000   \n",
      "\n",
      "       POST_ART_5_YEAR_MEAN  PCT_CHANGE_2_YR  PCT_CHANGE_5_YR  PCT_2_YR_CLEAN  \\\n",
      "count           2904.000000      2816.000000      2822.000000     2816.000000   \n",
      "mean           11783.183953        17.001805        21.395000       17.001836   \n",
      "std            14471.207647        66.809066       103.879829       66.809127   \n",
      "min               37.400000       -89.490902       -93.753042      -89.490000   \n",
      "25%             2310.750000        -2.236312        -8.741614       -2.235000   \n",
      "50%             6612.200000         6.997967         1.505066        7.000000   \n",
      "75%            16030.200000        20.970944        17.035071       20.967500   \n",
      "max           101992.200000      2666.226138      3232.456799     2666.230000   \n",
      "\n",
      "       PCT_5_YR_CLEAN  IS_ART  IS_ART_ADJ  ABS_CHANGE_2_YR  ABS_CHANGE_5_YR  \\\n",
      "count     2822.000000  2953.0      2953.0      2900.000000      2904.000000   \n",
      "mean        21.394940     0.0         0.0       807.713966       311.266942   \n",
      "std        103.879869     0.0         0.0      3793.380360      3153.246428   \n",
      "min        -93.750000     0.0         0.0    -53285.000000    -23191.200000   \n",
      "25%         -8.740000     0.0         0.0       -79.250000      -577.500000   \n",
      "50%          1.505000     0.0         0.0       342.000000        62.900000   \n",
      "75%         17.035000     0.0         0.0      1415.250000       921.300000   \n",
      "max       3232.460000     0.0         0.0     48683.000000     39587.000000   \n",
      "\n",
      "       ABS_2_YR_CLEAN  ABS_5_YR_CLEAN  \n",
      "count     2900.000000     2904.000000  \n",
      "mean       807.707586      311.269284  \n",
      "std       3793.378517     3153.249964  \n",
      "min     -53285.000000   -23191.000000  \n",
      "25%        -79.250000     -577.250000  \n",
      "50%        342.000000       63.000000  \n",
      "75%       1415.250000      921.250000  \n",
      "max      48683.000000    39587.000000  \n"
     ]
    }
   ],
   "source": [
    "rest_of_net = updated_data[(updated_data['IS_ART'] != 1) & (updated_data['IS_ART_ADJ'] != 1)].describe()\n",
    "print(rest_of_net)"
   ]
  },
  {
   "cell_type": "code",
   "execution_count": 32,
   "id": "d110352d-9bc9-4503-b20f-0d9357af4da7",
   "metadata": {},
   "outputs": [
    {
     "name": "stdout",
     "output_type": "stream",
     "text": [
      "EPSG:4326\n"
     ]
    }
   ],
   "source": [
    "# I want to limit the rest of network just to BernCO \n",
    "# I think the fast growing roads in valencia and Sandoval are skewing the data\n",
    "import geopandas as gpd\n",
    "\n",
    "# Step 1: Load Bernalillo County dissolved boundary\n",
    "bernco = gpd.read_file(\"data/NM_Census_Shp/BernCO_Dissolved.gpkg\")\n",
    "bernco = bernco.to_crs(updated_data.crs)  # Ensure CRS matches\n",
    "\n",
    "print(bernco.crs)"
   ]
  },
  {
   "cell_type": "code",
   "execution_count": 33,
   "id": "94373e19-34c9-4086-a156-a1f068dc1070",
   "metadata": {},
   "outputs": [
    {
     "data": {
      "text/plain": [
       "(2029, 21)"
      ]
     },
     "execution_count": 33,
     "metadata": {},
     "output_type": "execute_result"
    }
   ],
   "source": [
    "bernco_data = gpd.sjoin(updated_data, bernco, how=\"inner\", predicate=\"within\")\n",
    "bernco_data.shape"
   ]
  },
  {
   "cell_type": "code",
   "execution_count": 34,
   "id": "c9723d5b-4f61-4206-93ea-0c68d634dead",
   "metadata": {},
   "outputs": [
    {
     "data": {
      "text/plain": [
       "IS_ART\n",
       "0    1991\n",
       "1      38\n",
       "Name: count, dtype: int64"
      ]
     },
     "execution_count": 34,
     "metadata": {},
     "output_type": "execute_result"
    }
   ],
   "source": [
    "bernco_data[\"IS_ART\"].value_counts()\n"
   ]
  },
  {
   "cell_type": "code",
   "execution_count": 35,
   "id": "54fc4b01-c912-4c11-b672-a0ea4574d2d7",
   "metadata": {},
   "outputs": [
    {
     "data": {
      "text/plain": [
       "IS_ART_ADJ\n",
       "0    1972\n",
       "1      57\n",
       "Name: count, dtype: int64"
      ]
     },
     "execution_count": 35,
     "metadata": {},
     "output_type": "execute_result"
    }
   ],
   "source": [
    "bernco_data[\"IS_ART_ADJ\"].value_counts()"
   ]
  },
  {
   "cell_type": "markdown",
   "id": "11e6ceb0-4b64-41f1-b890-69e3bbbf7b68",
   "metadata": {},
   "source": [
    "## Volume-Weighted Percent Change by Corridor (Bernalillo County Only)\n",
    "\n",
    "This updated table calculates the percent change in traffic volume by summing all pre- and post-ART ADT values within each corridor category, rather than averaging percent changes at the segment level.\n",
    "\n",
    "Unlike the earlier approach, this method:\n",
    "- Weighs each roadway segment by its actual traffic volume\n",
    "- Avoids distortion from low-volume roads with large relative swings\n",
    "- Restricts analysis to Bernalillo County to align with ART’s geographic context\n",
    "\n",
    "This provides a more accurate reflection of total network impact by corridor.\n"
   ]
  },
  {
   "cell_type": "markdown",
   "id": "2ea17e00-3338-454f-85a5-443164fc0823",
   "metadata": {},
   "source": [
    "### Let's look at this in more detail \n",
    "\n",
    "here is a table that shows a fictional portion of the study area with fake numbers just to illustrate the point.\n",
    "\n",
    "| Segment     | Before ADT | After ADT | % Change |\n",
    "| ----------- | ---------- | --------- | -------- |\n",
    "| Central Ave | 9,000      | 4,500     | -50%     |\n",
    "| Lomas Blvd  | 10,000     | 12,000    | +20%     |\n",
    "| Lead/Coal   | 500        | 1,000     | +100%    |\n",
    "\n",
    "If we simply average the percent changes, we get:\n",
    "\n",
    "    (-50% + 20% + 100%) / 3 = +23.3%\n",
    "\n",
    "This suggests a net increase in traffic — but it’s highly misleading, since the 500 ADT segment is given equal weight to much busier roads.\n",
    "\n",
    "Instead, if we calculate the total volume change:\n",
    "\n",
    "    Total Before = 9,000 + 10,000 + 500 = 19,500\n",
    "\n",
    "    Total After = 4,500 + 12,000 + 1,000 = 17,500\n",
    "\n",
    "    Net Change = -2,000 → -10.3%\n",
    "\n",
    "This gives a much truer picture: total traffic across the area decreased, despite small corridors showing big relative gains.\n"
   ]
  },
  {
   "cell_type": "code",
   "execution_count": 36,
   "id": "d0808d82-e2a0-47fc-afba-ff3af6189320",
   "metadata": {},
   "outputs": [
    {
     "data": {
      "text/html": [
       "<div>\n",
       "<style scoped>\n",
       "    .dataframe tbody tr th:only-of-type {\n",
       "        vertical-align: middle;\n",
       "    }\n",
       "\n",
       "    .dataframe tbody tr th {\n",
       "        vertical-align: top;\n",
       "    }\n",
       "\n",
       "    .dataframe thead th {\n",
       "        text-align: right;\n",
       "    }\n",
       "</style>\n",
       "<table border=\"1\" class=\"dataframe\">\n",
       "  <thead>\n",
       "    <tr style=\"text-align: right;\">\n",
       "      <th></th>\n",
       "      <th>Corridor</th>\n",
       "      <th>Percent Change (2-Year)</th>\n",
       "      <th>Percent Change (5-Year)</th>\n",
       "    </tr>\n",
       "  </thead>\n",
       "  <tbody>\n",
       "    <tr>\n",
       "      <th>0</th>\n",
       "      <td>ART Corridor</td>\n",
       "      <td>-14.47</td>\n",
       "      <td>-25.90</td>\n",
       "    </tr>\n",
       "    <tr>\n",
       "      <th>1</th>\n",
       "      <td>ART Adjacent</td>\n",
       "      <td>-3.06</td>\n",
       "      <td>-7.26</td>\n",
       "    </tr>\n",
       "    <tr>\n",
       "      <th>2</th>\n",
       "      <td>Rest of Network</td>\n",
       "      <td>4.84</td>\n",
       "      <td>0.49</td>\n",
       "    </tr>\n",
       "  </tbody>\n",
       "</table>\n",
       "</div>"
      ],
      "text/plain": [
       "          Corridor  Percent Change (2-Year)  Percent Change (5-Year)\n",
       "0     ART Corridor                   -14.47                   -25.90\n",
       "1     ART Adjacent                    -3.06                    -7.26\n",
       "2  Rest of Network                     4.84                     0.49"
      ]
     },
     "execution_count": 36,
     "metadata": {},
     "output_type": "execute_result"
    }
   ],
   "source": [
    "import pandas as pd\n",
    "\n",
    "# Helper function to calculate volume-weighted percent change\n",
    "def pct_change(df, pre_col, post_col):\n",
    "    pre = df[pre_col].sum()\n",
    "    post = df[post_col].sum()\n",
    "    return round(((post - pre) / pre) * 100, 2)\n",
    "\n",
    "# Segment filters\n",
    "art_links = bernco_data[bernco_data[\"IS_ART\"] == 1]\n",
    "adjacent_links = bernco_data[bernco_data[\"IS_ART_ADJ\"] == 1]\n",
    "rest_of_network = bernco_data[\n",
    "    (bernco_data[\"IS_ART\"] != 1) & (bernco_data[\"IS_ART_ADJ\"] != 1)\n",
    "]\n",
    "\n",
    "# Create summary table\n",
    "summary_table = pd.DataFrame({\n",
    "    \"Corridor\": [\"ART Corridor\", \"ART Adjacent\", \"Rest of Network\"],\n",
    "    \"Percent Change (2-Year)\": [\n",
    "        pct_change(art_links, \"PRE_ART_2_YEAR_MEAN\", \"POST_ART_2_YEAR_MEAN\"),\n",
    "        pct_change(adjacent_links, \"PRE_ART_2_YEAR_MEAN\", \"POST_ART_2_YEAR_MEAN\"),\n",
    "        pct_change(rest_of_network, \"PRE_ART_2_YEAR_MEAN\", \"POST_ART_2_YEAR_MEAN\"),\n",
    "    ],\n",
    "    \"Percent Change (5-Year)\": [\n",
    "        pct_change(art_links, \"PRE_ART_5_YEAR_MEAN\", \"POST_ART_5_YEAR_MEAN\"),\n",
    "        pct_change(adjacent_links, \"PRE_ART_5_YEAR_MEAN\", \"POST_ART_5_YEAR_MEAN\"),\n",
    "        pct_change(rest_of_network, \"PRE_ART_5_YEAR_MEAN\", \"POST_ART_5_YEAR_MEAN\"),\n",
    "    ]\n",
    "})\n",
    "\n",
    "summary_table\n"
   ]
  },
  {
   "cell_type": "markdown",
   "id": "76dd3e61-a212-4336-883c-f27755da19dd",
   "metadata": {},
   "source": [
    "## VMT update\n",
    "\n",
    "I want to update the early AADT tables to VMT. VMT is the correct metric to use in this case, so I just want to use it and not confuse the reader with AADT and VMT - we are just going to use VMT for clarity"
   ]
  },
  {
   "cell_type": "code",
   "execution_count": 37,
   "id": "608f663e-1059-4e77-b023-567f1bd7fe07",
   "metadata": {},
   "outputs": [
    {
     "data": {
      "text/plain": [
       "(3057, 31)"
      ]
     },
     "execution_count": 37,
     "metadata": {},
     "output_type": "execute_result"
    }
   ],
   "source": [
    "import geopandas as gpd\n",
    "\n",
    "vmt = gpd.read_file(\"ART_VMT_FINAL.gpkg\")\n",
    "vmt.shape"
   ]
  },
  {
   "cell_type": "code",
   "execution_count": 38,
   "id": "1f31d94c-208e-4838-9a74-259010c2a516",
   "metadata": {},
   "outputs": [
    {
     "data": {
      "text/html": [
       "<div>\n",
       "<style scoped>\n",
       "    .dataframe tbody tr th:only-of-type {\n",
       "        vertical-align: middle;\n",
       "    }\n",
       "\n",
       "    .dataframe tbody tr th {\n",
       "        vertical-align: top;\n",
       "    }\n",
       "\n",
       "    .dataframe thead th {\n",
       "        text-align: right;\n",
       "    }\n",
       "</style>\n",
       "<table border=\"1\" class=\"dataframe\">\n",
       "  <thead>\n",
       "    <tr style=\"text-align: right;\">\n",
       "      <th></th>\n",
       "      <th>COGID</th>\n",
       "      <th>RTE</th>\n",
       "      <th>LOCAT</th>\n",
       "      <th>PRE_ART_2_YEAR_MEAN</th>\n",
       "      <th>POST_ART_2_YEAR_MEAN</th>\n",
       "      <th>PRE_ART_5_YEAR_MEAN</th>\n",
       "      <th>POST_ART_5_YEAR_MEAN</th>\n",
       "      <th>PCT_CHANGE_2_YR</th>\n",
       "      <th>PCT_CHANGE_5_YR</th>\n",
       "      <th>PCT_2_YR_CLEAN</th>\n",
       "      <th>...</th>\n",
       "      <th>IS_LOMAS</th>\n",
       "      <th>VMT_CHANGE_2_YR</th>\n",
       "      <th>VMT_CHANGE_5_YR</th>\n",
       "      <th>PRE_VMT_2_YR</th>\n",
       "      <th>POST_VMT_2_YR</th>\n",
       "      <th>VMT_PCT_CHANGE_2_YR</th>\n",
       "      <th>PRE_VMT_5_YR</th>\n",
       "      <th>POST_VMT_5_YR</th>\n",
       "      <th>VMT_PCT_CHANGE_5_YR</th>\n",
       "      <th>geometry</th>\n",
       "    </tr>\n",
       "  </thead>\n",
       "  <tbody>\n",
       "    <tr>\n",
       "      <th>0</th>\n",
       "      <td>10003</td>\n",
       "      <td>UNSER BLVD.</td>\n",
       "      <td>NORTH OF NORTHERN - SOUTH OF 15TH AVE.</td>\n",
       "      <td>23542.0</td>\n",
       "      <td>24358.0</td>\n",
       "      <td>23399.4</td>\n",
       "      <td>22251.0</td>\n",
       "      <td>3.466146</td>\n",
       "      <td>-4.907818</td>\n",
       "      <td>3.47</td>\n",
       "      <td>...</td>\n",
       "      <td>0</td>\n",
       "      <td>325.583991</td>\n",
       "      <td>-458.051987</td>\n",
       "      <td>9393.257742</td>\n",
       "      <td>9718.841733</td>\n",
       "      <td>3.466146</td>\n",
       "      <td>9336.360343</td>\n",
       "      <td>8878.148756</td>\n",
       "      <td>-4.907818</td>\n",
       "      <td>MULTILINESTRING ((-106.69681 35.27459, -106.69...</td>\n",
       "    </tr>\n",
       "    <tr>\n",
       "      <th>1</th>\n",
       "      <td>10004</td>\n",
       "      <td>N.M. 528</td>\n",
       "      <td>NORTH OF CORRALES RD. (NM 448) - .118 MILES N...</td>\n",
       "      <td>28275.5</td>\n",
       "      <td>27846.0</td>\n",
       "      <td>24567.4</td>\n",
       "      <td>25606.2</td>\n",
       "      <td>-1.518983</td>\n",
       "      <td>4.228368</td>\n",
       "      <td>-1.52</td>\n",
       "      <td>...</td>\n",
       "      <td>0</td>\n",
       "      <td>-52.890001</td>\n",
       "      <td>127.797004</td>\n",
       "      <td>3477.886596</td>\n",
       "      <td>3425.058095</td>\n",
       "      <td>-1.518983</td>\n",
       "      <td>3021.790283</td>\n",
       "      <td>3149.562687</td>\n",
       "      <td>4.228368</td>\n",
       "      <td>MULTILINESTRING ((-106.6174 35.27542, -106.615...</td>\n",
       "    </tr>\n",
       "    <tr>\n",
       "      <th>2</th>\n",
       "      <td>10005</td>\n",
       "      <td>GRANDE VISTA</td>\n",
       "      <td>NORTH OF CORRALES RD. - SOUTH OF SANDIA VISTA</td>\n",
       "      <td>1960.0</td>\n",
       "      <td>2205.0</td>\n",
       "      <td>2195.8</td>\n",
       "      <td>2062.0</td>\n",
       "      <td>12.500000</td>\n",
       "      <td>-6.093451</td>\n",
       "      <td>12.50</td>\n",
       "      <td>...</td>\n",
       "      <td>0</td>\n",
       "      <td>49.734999</td>\n",
       "      <td>-27.201999</td>\n",
       "      <td>397.879989</td>\n",
       "      <td>447.614987</td>\n",
       "      <td>12.500000</td>\n",
       "      <td>445.747387</td>\n",
       "      <td>418.585988</td>\n",
       "      <td>-6.093451</td>\n",
       "      <td>MULTILINESTRING ((-106.6135 35.2736, -106.6131...</td>\n",
       "    </tr>\n",
       "    <tr>\n",
       "      <th>3</th>\n",
       "      <td>10006</td>\n",
       "      <td>GRANDE VISTA</td>\n",
       "      <td>NORTH OF SANDIA VISTA - S.E. OF N.M. 528</td>\n",
       "      <td>966.5</td>\n",
       "      <td>1272.0</td>\n",
       "      <td>918.0</td>\n",
       "      <td>889.4</td>\n",
       "      <td>31.608898</td>\n",
       "      <td>-3.115468</td>\n",
       "      <td>31.61</td>\n",
       "      <td>...</td>\n",
       "      <td>0</td>\n",
       "      <td>181.152002</td>\n",
       "      <td>-17.168000</td>\n",
       "      <td>572.168007</td>\n",
       "      <td>753.024010</td>\n",
       "      <td>31.608898</td>\n",
       "      <td>543.456007</td>\n",
       "      <td>526.524807</td>\n",
       "      <td>-3.115468</td>\n",
       "      <td>MULTILINESTRING ((-106.61107 35.27551, -106.61...</td>\n",
       "    </tr>\n",
       "    <tr>\n",
       "      <th>4</th>\n",
       "      <td>10007</td>\n",
       "      <td>SANDIA VISTA</td>\n",
       "      <td>S.E. OF GRANDE VISTA - EAST OF N.M. 528</td>\n",
       "      <td>913.5</td>\n",
       "      <td>1577.5</td>\n",
       "      <td>838.0</td>\n",
       "      <td>1475.0</td>\n",
       "      <td>72.687466</td>\n",
       "      <td>76.014320</td>\n",
       "      <td>72.69</td>\n",
       "      <td>...</td>\n",
       "      <td>0</td>\n",
       "      <td>676.616035</td>\n",
       "      <td>649.103034</td>\n",
       "      <td>930.856549</td>\n",
       "      <td>1607.472584</td>\n",
       "      <td>72.687466</td>\n",
       "      <td>853.922045</td>\n",
       "      <td>1503.025079</td>\n",
       "      <td>76.014320</td>\n",
       "      <td>MULTILINESTRING ((-106.61107 35.27551, -106.61...</td>\n",
       "    </tr>\n",
       "  </tbody>\n",
       "</table>\n",
       "<p>5 rows × 31 columns</p>\n",
       "</div>"
      ],
      "text/plain": [
       "   COGID           RTE                                              LOCAT  \\\n",
       "0  10003   UNSER BLVD.             NORTH OF NORTHERN - SOUTH OF 15TH AVE.   \n",
       "1  10004      N.M. 528   NORTH OF CORRALES RD. (NM 448) - .118 MILES N...   \n",
       "2  10005  GRANDE VISTA      NORTH OF CORRALES RD. - SOUTH OF SANDIA VISTA   \n",
       "3  10006  GRANDE VISTA           NORTH OF SANDIA VISTA - S.E. OF N.M. 528   \n",
       "4  10007  SANDIA VISTA            S.E. OF GRANDE VISTA - EAST OF N.M. 528   \n",
       "\n",
       "   PRE_ART_2_YEAR_MEAN  POST_ART_2_YEAR_MEAN  PRE_ART_5_YEAR_MEAN  \\\n",
       "0              23542.0               24358.0              23399.4   \n",
       "1              28275.5               27846.0              24567.4   \n",
       "2               1960.0                2205.0               2195.8   \n",
       "3                966.5                1272.0                918.0   \n",
       "4                913.5                1577.5                838.0   \n",
       "\n",
       "   POST_ART_5_YEAR_MEAN  PCT_CHANGE_2_YR  PCT_CHANGE_5_YR  PCT_2_YR_CLEAN  \\\n",
       "0               22251.0         3.466146        -4.907818            3.47   \n",
       "1               25606.2        -1.518983         4.228368           -1.52   \n",
       "2                2062.0        12.500000        -6.093451           12.50   \n",
       "3                 889.4        31.608898        -3.115468           31.61   \n",
       "4                1475.0        72.687466        76.014320           72.69   \n",
       "\n",
       "   ...  IS_LOMAS  VMT_CHANGE_2_YR  VMT_CHANGE_5_YR  PRE_VMT_2_YR  \\\n",
       "0  ...         0       325.583991      -458.051987   9393.257742   \n",
       "1  ...         0       -52.890001       127.797004   3477.886596   \n",
       "2  ...         0        49.734999       -27.201999    397.879989   \n",
       "3  ...         0       181.152002       -17.168000    572.168007   \n",
       "4  ...         0       676.616035       649.103034    930.856549   \n",
       "\n",
       "   POST_VMT_2_YR  VMT_PCT_CHANGE_2_YR  PRE_VMT_5_YR  POST_VMT_5_YR  \\\n",
       "0    9718.841733             3.466146   9336.360343    8878.148756   \n",
       "1    3425.058095            -1.518983   3021.790283    3149.562687   \n",
       "2     447.614987            12.500000    445.747387     418.585988   \n",
       "3     753.024010            31.608898    543.456007     526.524807   \n",
       "4    1607.472584            72.687466    853.922045    1503.025079   \n",
       "\n",
       "   VMT_PCT_CHANGE_5_YR                                           geometry  \n",
       "0            -4.907818  MULTILINESTRING ((-106.69681 35.27459, -106.69...  \n",
       "1             4.228368  MULTILINESTRING ((-106.6174 35.27542, -106.615...  \n",
       "2            -6.093451  MULTILINESTRING ((-106.6135 35.2736, -106.6131...  \n",
       "3            -3.115468  MULTILINESTRING ((-106.61107 35.27551, -106.61...  \n",
       "4            76.014320  MULTILINESTRING ((-106.61107 35.27551, -106.61...  \n",
       "\n",
       "[5 rows x 31 columns]"
      ]
     },
     "execution_count": 38,
     "metadata": {},
     "output_type": "execute_result"
    }
   ],
   "source": [
    "vmt.head()"
   ]
  },
  {
   "cell_type": "code",
   "execution_count": 39,
   "id": "ab14002b-c828-4d5c-899f-58d5ce83d5b1",
   "metadata": {},
   "outputs": [
    {
     "name": "stdout",
     "output_type": "stream",
     "text": [
      "EPSG:4326\n"
     ]
    }
   ],
   "source": [
    "print(vmt.crs)"
   ]
  },
  {
   "cell_type": "code",
   "execution_count": 41,
   "id": "8bfeb467-496d-439a-a4ca-2e48ca23e59e",
   "metadata": {},
   "outputs": [
    {
     "data": {
      "text/plain": [
       "<Axes: >"
      ]
     },
     "execution_count": 41,
     "metadata": {},
     "output_type": "execute_result"
    },
    {
     "data": {
      "image/png": "[encoded data removed]",
      "text/plain": [
       "<Figure size 640x480 with 1 Axes>"
      ]
     },
     "metadata": {},
     "output_type": "display_data"
    }
   ],
   "source": [
    "bernco.plot()"
   ]
  },
  {
   "cell_type": "code",
   "execution_count": 42,
   "id": "2739e4b0-f37d-44e1-876d-498fa708ea73",
   "metadata": {},
   "outputs": [
    {
     "data": {
      "text/plain": [
       "(2038, 34)"
      ]
     },
     "execution_count": 42,
     "metadata": {},
     "output_type": "execute_result"
    }
   ],
   "source": [
    "bernco_vmt = gpd.sjoin(vmt, bernco, how=\"inner\", predicate=\"within\")\n",
    "bernco_vmt.shape"
   ]
  },
  {
   "cell_type": "code",
   "execution_count": 43,
   "id": "e16de190-14b2-400b-822b-3dc1e48502d1",
   "metadata": {},
   "outputs": [
    {
     "data": {
      "text/plain": [
       "IS_ART\n",
       "0    1998\n",
       "1      40\n",
       "Name: count, dtype: int64"
      ]
     },
     "execution_count": 43,
     "metadata": {},
     "output_type": "execute_result"
    }
   ],
   "source": [
    "bernco_vmt[\"IS_ART\"].value_counts()"
   ]
  },
  {
   "cell_type": "code",
   "execution_count": 44,
   "id": "550fef20-95fe-423c-ab10-fc767b1d48d6",
   "metadata": {},
   "outputs": [
    {
     "data": {
      "text/html": [
       "<div>\n",
       "<style scoped>\n",
       "    .dataframe tbody tr th:only-of-type {\n",
       "        vertical-align: middle;\n",
       "    }\n",
       "\n",
       "    .dataframe tbody tr th {\n",
       "        vertical-align: top;\n",
       "    }\n",
       "\n",
       "    .dataframe thead th {\n",
       "        text-align: right;\n",
       "    }\n",
       "</style>\n",
       "<table border=\"1\" class=\"dataframe\">\n",
       "  <thead>\n",
       "    <tr style=\"text-align: right;\">\n",
       "      <th></th>\n",
       "      <th>COGID</th>\n",
       "      <th>RTE</th>\n",
       "      <th>LOCAT</th>\n",
       "      <th>PRE_ART_2_YEAR_MEAN</th>\n",
       "      <th>POST_ART_2_YEAR_MEAN</th>\n",
       "      <th>PRE_ART_5_YEAR_MEAN</th>\n",
       "      <th>POST_ART_5_YEAR_MEAN</th>\n",
       "      <th>PCT_CHANGE_2_YR</th>\n",
       "      <th>PCT_CHANGE_5_YR</th>\n",
       "      <th>PCT_2_YR_CLEAN</th>\n",
       "      <th>...</th>\n",
       "      <th>PRE_VMT_2_YR</th>\n",
       "      <th>POST_VMT_2_YR</th>\n",
       "      <th>VMT_PCT_CHANGE_2_YR</th>\n",
       "      <th>PRE_VMT_5_YR</th>\n",
       "      <th>POST_VMT_5_YR</th>\n",
       "      <th>VMT_PCT_CHANGE_5_YR</th>\n",
       "      <th>geometry</th>\n",
       "      <th>index_right</th>\n",
       "      <th>STATEFP</th>\n",
       "      <th>COUNTYFP</th>\n",
       "    </tr>\n",
       "  </thead>\n",
       "  <tbody>\n",
       "    <tr>\n",
       "      <th>1849</th>\n",
       "      <td>25388</td>\n",
       "      <td>CENTRAL</td>\n",
       "      <td>EAST OF GIRARD - WEST OF CARLISLE</td>\n",
       "      <td>23016.0</td>\n",
       "      <td>15885.5</td>\n",
       "      <td>23483.2</td>\n",
       "      <td>13953.0</td>\n",
       "      <td>-30.980622</td>\n",
       "      <td>-40.583055</td>\n",
       "      <td>-30.98</td>\n",
       "      <td>...</td>\n",
       "      <td>11461.967907</td>\n",
       "      <td>7910.978936</td>\n",
       "      <td>-30.980622</td>\n",
       "      <td>11694.633505</td>\n",
       "      <td>6948.593943</td>\n",
       "      <td>-40.583055</td>\n",
       "      <td>MULTILINESTRING ((-106.61328 35.08099, -106.61...</td>\n",
       "      <td>0</td>\n",
       "      <td>35</td>\n",
       "      <td>001</td>\n",
       "    </tr>\n",
       "    <tr>\n",
       "      <th>1862</th>\n",
       "      <td>25432</td>\n",
       "      <td>CENTRAL</td>\n",
       "      <td>EAST OF CARLISLE - WEST OF WASHINGTON</td>\n",
       "      <td>22375.0</td>\n",
       "      <td>17963.0</td>\n",
       "      <td>22567.6</td>\n",
       "      <td>13894.0</td>\n",
       "      <td>-19.718436</td>\n",
       "      <td>-38.433861</td>\n",
       "      <td>-19.72</td>\n",
       "      <td>...</td>\n",
       "      <td>11746.874467</td>\n",
       "      <td>9430.574572</td>\n",
       "      <td>-19.718436</td>\n",
       "      <td>11847.989462</td>\n",
       "      <td>7294.349669</td>\n",
       "      <td>-38.433861</td>\n",
       "      <td>MULTILINESTRING ((-106.60453 35.07978, -106.60...</td>\n",
       "      <td>0</td>\n",
       "      <td>35</td>\n",
       "      <td>001</td>\n",
       "    </tr>\n",
       "    <tr>\n",
       "      <th>1887</th>\n",
       "      <td>25536</td>\n",
       "      <td>CENTRAL</td>\n",
       "      <td>EAST OF WASHINGTON - WEST OF SAN MATEO</td>\n",
       "      <td>23734.5</td>\n",
       "      <td>19439.0</td>\n",
       "      <td>24096.6</td>\n",
       "      <td>15220.4</td>\n",
       "      <td>-18.098127</td>\n",
       "      <td>-36.835902</td>\n",
       "      <td>-18.10</td>\n",
       "      <td>...</td>\n",
       "      <td>12413.143545</td>\n",
       "      <td>10166.597037</td>\n",
       "      <td>-18.098127</td>\n",
       "      <td>12602.521846</td>\n",
       "      <td>7960.269229</td>\n",
       "      <td>-36.835902</td>\n",
       "      <td>MULTILINESTRING ((-106.59534 35.07876, -106.59...</td>\n",
       "      <td>0</td>\n",
       "      <td>35</td>\n",
       "      <td>001</td>\n",
       "    </tr>\n",
       "    <tr>\n",
       "      <th>1913</th>\n",
       "      <td>25624</td>\n",
       "      <td>CENTRAL</td>\n",
       "      <td>EAST OF SAN MATEO - WEST OF SAN PEDRO</td>\n",
       "      <td>26331.5</td>\n",
       "      <td>23065.0</td>\n",
       "      <td>25587.2</td>\n",
       "      <td>18398.4</td>\n",
       "      <td>-12.405294</td>\n",
       "      <td>-28.095298</td>\n",
       "      <td>-12.41</td>\n",
       "      <td>...</td>\n",
       "      <td>13165.750000</td>\n",
       "      <td>11532.500000</td>\n",
       "      <td>-12.405294</td>\n",
       "      <td>12793.600000</td>\n",
       "      <td>9199.200000</td>\n",
       "      <td>-28.095298</td>\n",
       "      <td>MULTILINESTRING ((-106.58622 35.07778, -106.58...</td>\n",
       "      <td>0</td>\n",
       "      <td>35</td>\n",
       "      <td>001</td>\n",
       "    </tr>\n",
       "    <tr>\n",
       "      <th>1918</th>\n",
       "      <td>25652</td>\n",
       "      <td>CENTRAL</td>\n",
       "      <td>EAST OF SAN PEDRO - WEST OF LOUISIANA</td>\n",
       "      <td>25974.0</td>\n",
       "      <td>22661.5</td>\n",
       "      <td>26026.2</td>\n",
       "      <td>18800.4</td>\n",
       "      <td>-12.753138</td>\n",
       "      <td>-27.763561</td>\n",
       "      <td>-12.75</td>\n",
       "      <td>...</td>\n",
       "      <td>13142.843542</td>\n",
       "      <td>11466.718600</td>\n",
       "      <td>-12.753138</td>\n",
       "      <td>13169.256741</td>\n",
       "      <td>9513.002068</td>\n",
       "      <td>-27.763561</td>\n",
       "      <td>MULTILINESTRING ((-106.5775 35.07685, -106.575...</td>\n",
       "      <td>0</td>\n",
       "      <td>35</td>\n",
       "      <td>001</td>\n",
       "    </tr>\n",
       "  </tbody>\n",
       "</table>\n",
       "<p>5 rows × 34 columns</p>\n",
       "</div>"
      ],
      "text/plain": [
       "      COGID      RTE                                    LOCAT  \\\n",
       "1849  25388  CENTRAL        EAST OF GIRARD - WEST OF CARLISLE   \n",
       "1862  25432  CENTRAL    EAST OF CARLISLE - WEST OF WASHINGTON   \n",
       "1887  25536  CENTRAL   EAST OF WASHINGTON - WEST OF SAN MATEO   \n",
       "1913  25624  CENTRAL    EAST OF SAN MATEO - WEST OF SAN PEDRO   \n",
       "1918  25652  CENTRAL    EAST OF SAN PEDRO - WEST OF LOUISIANA   \n",
       "\n",
       "      PRE_ART_2_YEAR_MEAN  POST_ART_2_YEAR_MEAN  PRE_ART_5_YEAR_MEAN  \\\n",
       "1849              23016.0               15885.5              23483.2   \n",
       "1862              22375.0               17963.0              22567.6   \n",
       "1887              23734.5               19439.0              24096.6   \n",
       "1913              26331.5               23065.0              25587.2   \n",
       "1918              25974.0               22661.5              26026.2   \n",
       "\n",
       "      POST_ART_5_YEAR_MEAN  PCT_CHANGE_2_YR  PCT_CHANGE_5_YR  PCT_2_YR_CLEAN  \\\n",
       "1849               13953.0       -30.980622       -40.583055          -30.98   \n",
       "1862               13894.0       -19.718436       -38.433861          -19.72   \n",
       "1887               15220.4       -18.098127       -36.835902          -18.10   \n",
       "1913               18398.4       -12.405294       -28.095298          -12.41   \n",
       "1918               18800.4       -12.753138       -27.763561          -12.75   \n",
       "\n",
       "      ...  PRE_VMT_2_YR  POST_VMT_2_YR  VMT_PCT_CHANGE_2_YR  PRE_VMT_5_YR  \\\n",
       "1849  ...  11461.967907    7910.978936           -30.980622  11694.633505   \n",
       "1862  ...  11746.874467    9430.574572           -19.718436  11847.989462   \n",
       "1887  ...  12413.143545   10166.597037           -18.098127  12602.521846   \n",
       "1913  ...  13165.750000   11532.500000           -12.405294  12793.600000   \n",
       "1918  ...  13142.843542   11466.718600           -12.753138  13169.256741   \n",
       "\n",
       "      POST_VMT_5_YR  VMT_PCT_CHANGE_5_YR  \\\n",
       "1849    6948.593943           -40.583055   \n",
       "1862    7294.349669           -38.433861   \n",
       "1887    7960.269229           -36.835902   \n",
       "1913    9199.200000           -28.095298   \n",
       "1918    9513.002068           -27.763561   \n",
       "\n",
       "                                               geometry  index_right  STATEFP  \\\n",
       "1849  MULTILINESTRING ((-106.61328 35.08099, -106.61...            0       35   \n",
       "1862  MULTILINESTRING ((-106.60453 35.07978, -106.60...            0       35   \n",
       "1887  MULTILINESTRING ((-106.59534 35.07876, -106.59...            0       35   \n",
       "1913  MULTILINESTRING ((-106.58622 35.07778, -106.58...            0       35   \n",
       "1918  MULTILINESTRING ((-106.5775 35.07685, -106.575...            0       35   \n",
       "\n",
       "      COUNTYFP  \n",
       "1849       001  \n",
       "1862       001  \n",
       "1887       001  \n",
       "1913       001  \n",
       "1918       001  \n",
       "\n",
       "[5 rows x 34 columns]"
      ]
     },
     "execution_count": 44,
     "metadata": {},
     "output_type": "execute_result"
    }
   ],
   "source": [
    "bernco_vmt[bernco_vmt[\"IS_ART\"] == 1].tail()"
   ]
  },
  {
   "cell_type": "markdown",
   "id": "cc4c49f6-c875-49dc-8758-1f72f7a2dedb",
   "metadata": {},
   "source": [
    "Damn, they don't match exactly and I need to find out why"
   ]
  },
  {
   "cell_type": "code",
   "execution_count": 45,
   "id": "b751456c-b3bd-45d6-b6ec-b0515184a39c",
   "metadata": {},
   "outputs": [],
   "source": [
    "bernco_data_ids = set(bernco_data['COGID'])\n",
    "bernco_vmt_ids = set(bernco_vmt['COGID'])\n"
   ]
  },
  {
   "cell_type": "code",
   "execution_count": 46,
   "id": "e96b8bda-b530-46da-86a3-65e7fa1b6cb0",
   "metadata": {},
   "outputs": [
    {
     "name": "stdout",
     "output_type": "stream",
     "text": [
      "Links only in `updated_data`: 1\n",
      "Links only in `vmt`: 0\n"
     ]
    }
   ],
   "source": [
    "only_in_data = bernco_data_ids - bernco_vmt_ids\n",
    "only_in_vmt = bernco_vmt_ids - bernco_data_ids\n",
    "\n",
    "print(f\"Links only in `updated_data`: {len(only_in_data)}\")\n",
    "print(f\"Links only in `vmt`: {len(only_in_vmt)}\")\n"
   ]
  },
  {
   "cell_type": "code",
   "execution_count": 65,
   "id": "af2c2c9b-dfc2-497f-b823-3e52d8ccca54",
   "metadata": {},
   "outputs": [
    {
     "data": {
      "text/plain": [
       "count\n",
       "1    2018\n",
       "4       5\n",
       "Name: count, dtype: int64"
      ]
     },
     "execution_count": 65,
     "metadata": {},
     "output_type": "execute_result"
    }
   ],
   "source": [
    "# Check for duplicate COGIDs\n",
    "#bernco_data['COGID'].value_counts().value_counts()\n",
    "bernco_vmt['COGID'].value_counts().value_counts()\n"
   ]
  },
  {
   "cell_type": "code",
   "execution_count": 49,
   "id": "cdd2dbe3-58dc-4055-bf8a-3aea6ccbd599",
   "metadata": {},
   "outputs": [
    {
     "name": "stdout",
     "output_type": "stream",
     "text": [
      "bernco_data rows: 2029\n",
      "bernco_data unique COGIDs: 2024\n",
      "bernco_vmt rows: 2038\n",
      "bernco_vmt unique COGIDs: 2023\n"
     ]
    }
   ],
   "source": [
    "print(\"bernco_data rows:\", bernco_data.shape[0])\n",
    "print(\"bernco_data unique COGIDs:\", bernco_data['COGID'].nunique())\n",
    "\n",
    "print(\"bernco_vmt rows:\", bernco_vmt.shape[0])\n",
    "print(\"bernco_vmt unique COGIDs:\", bernco_vmt['COGID'].nunique())\n"
   ]
  },
  {
   "cell_type": "code",
   "execution_count": 59,
   "id": "d60908e9-55b4-4ea9-bdb1-b4d896af4ee5",
   "metadata": {},
   "outputs": [
    {
     "data": {
      "text/plain": [
       "COGID\n",
       "24868    4\n",
       "29967    4\n",
       "26600    4\n",
       "29966    4\n",
       "26697    4\n",
       "Name: count, dtype: int64"
      ]
     },
     "execution_count": 59,
     "metadata": {},
     "output_type": "execute_result"
    }
   ],
   "source": [
    "duplicates = bernco_vmt['COGID'].value_counts()\n",
    "duplicates[duplicates > 1]\n"
   ]
  },
  {
   "cell_type": "code",
   "execution_count": 69,
   "id": "5cbc64ae-a6b0-4673-8f7b-87287b3cbfc2",
   "metadata": {},
   "outputs": [
    {
     "data": {
      "text/html": [
       "<div>\n",
       "<style scoped>\n",
       "    .dataframe tbody tr th:only-of-type {\n",
       "        vertical-align: middle;\n",
       "    }\n",
       "\n",
       "    .dataframe tbody tr th {\n",
       "        vertical-align: top;\n",
       "    }\n",
       "\n",
       "    .dataframe thead th {\n",
       "        text-align: right;\n",
       "    }\n",
       "</style>\n",
       "<table border=\"1\" class=\"dataframe\">\n",
       "  <thead>\n",
       "    <tr style=\"text-align: right;\">\n",
       "      <th></th>\n",
       "      <th>COGID</th>\n",
       "      <th>RTE</th>\n",
       "      <th>LOCAT</th>\n",
       "      <th>PRE_ART_2_YEAR_MEAN</th>\n",
       "      <th>POST_ART_2_YEAR_MEAN</th>\n",
       "      <th>PRE_ART_5_YEAR_MEAN</th>\n",
       "      <th>POST_ART_5_YEAR_MEAN</th>\n",
       "      <th>PCT_CHANGE_2_YR</th>\n",
       "      <th>PCT_CHANGE_5_YR</th>\n",
       "      <th>PCT_2_YR_CLEAN</th>\n",
       "      <th>...</th>\n",
       "      <th>PRE_VMT_2_YR</th>\n",
       "      <th>POST_VMT_2_YR</th>\n",
       "      <th>VMT_PCT_CHANGE_2_YR</th>\n",
       "      <th>PRE_VMT_5_YR</th>\n",
       "      <th>POST_VMT_5_YR</th>\n",
       "      <th>VMT_PCT_CHANGE_5_YR</th>\n",
       "      <th>geometry</th>\n",
       "      <th>index_right</th>\n",
       "      <th>STATEFP</th>\n",
       "      <th>COUNTYFP</th>\n",
       "    </tr>\n",
       "  </thead>\n",
       "  <tbody>\n",
       "    <tr>\n",
       "      <th>1729</th>\n",
       "      <td>24868</td>\n",
       "      <td>COPPER</td>\n",
       "      <td>EAST OF 2ND ST. - NORTH OF CENTRAL</td>\n",
       "      <td>4057.0</td>\n",
       "      <td>4435.0</td>\n",
       "      <td>3674.0</td>\n",
       "      <td>3709.6</td>\n",
       "      <td>9.317229</td>\n",
       "      <td>0.968971</td>\n",
       "      <td>9.32</td>\n",
       "      <td>...</td>\n",
       "      <td>474.668995</td>\n",
       "      <td>518.894994</td>\n",
       "      <td>9.317229</td>\n",
       "      <td>429.857995</td>\n",
       "      <td>434.023195</td>\n",
       "      <td>0.968971</td>\n",
       "      <td>MULTILINESTRING ((-106.64903 35.08525, -106.64...</td>\n",
       "      <td>0</td>\n",
       "      <td>35</td>\n",
       "      <td>001</td>\n",
       "    </tr>\n",
       "    <tr>\n",
       "      <th>1730</th>\n",
       "      <td>24868</td>\n",
       "      <td>COPPER</td>\n",
       "      <td>EAST OF 2ND ST. - NORTH OF CENTRAL</td>\n",
       "      <td>4057.0</td>\n",
       "      <td>4435.0</td>\n",
       "      <td>3674.0</td>\n",
       "      <td>3709.6</td>\n",
       "      <td>9.317229</td>\n",
       "      <td>0.968971</td>\n",
       "      <td>9.32</td>\n",
       "      <td>...</td>\n",
       "      <td>474.668995</td>\n",
       "      <td>518.894994</td>\n",
       "      <td>9.317229</td>\n",
       "      <td>429.857995</td>\n",
       "      <td>434.023195</td>\n",
       "      <td>0.968971</td>\n",
       "      <td>MULTILINESTRING ((-106.64903 35.08525, -106.64...</td>\n",
       "      <td>0</td>\n",
       "      <td>35</td>\n",
       "      <td>001</td>\n",
       "    </tr>\n",
       "    <tr>\n",
       "      <th>1731</th>\n",
       "      <td>24868</td>\n",
       "      <td>COPPER</td>\n",
       "      <td>EAST OF 2ND ST. - NORTH OF CENTRAL</td>\n",
       "      <td>4057.0</td>\n",
       "      <td>4435.0</td>\n",
       "      <td>3674.0</td>\n",
       "      <td>3709.6</td>\n",
       "      <td>9.317229</td>\n",
       "      <td>0.968971</td>\n",
       "      <td>9.32</td>\n",
       "      <td>...</td>\n",
       "      <td>474.668995</td>\n",
       "      <td>518.894994</td>\n",
       "      <td>9.317229</td>\n",
       "      <td>429.857995</td>\n",
       "      <td>434.023195</td>\n",
       "      <td>0.968971</td>\n",
       "      <td>MULTILINESTRING ((-106.64803 35.0841, -106.648...</td>\n",
       "      <td>0</td>\n",
       "      <td>35</td>\n",
       "      <td>001</td>\n",
       "    </tr>\n",
       "    <tr>\n",
       "      <th>1732</th>\n",
       "      <td>24868</td>\n",
       "      <td>COPPER</td>\n",
       "      <td>EAST OF 2ND ST. - NORTH OF CENTRAL</td>\n",
       "      <td>4057.0</td>\n",
       "      <td>4435.0</td>\n",
       "      <td>3674.0</td>\n",
       "      <td>3709.6</td>\n",
       "      <td>9.317229</td>\n",
       "      <td>0.968971</td>\n",
       "      <td>9.32</td>\n",
       "      <td>...</td>\n",
       "      <td>474.668995</td>\n",
       "      <td>518.894994</td>\n",
       "      <td>9.317229</td>\n",
       "      <td>429.857995</td>\n",
       "      <td>434.023195</td>\n",
       "      <td>0.968971</td>\n",
       "      <td>MULTILINESTRING ((-106.64803 35.0841, -106.648...</td>\n",
       "      <td>0</td>\n",
       "      <td>35</td>\n",
       "      <td>001</td>\n",
       "    </tr>\n",
       "  </tbody>\n",
       "</table>\n",
       "<p>4 rows × 34 columns</p>\n",
       "</div>"
      ],
      "text/plain": [
       "      COGID     RTE                                LOCAT  PRE_ART_2_YEAR_MEAN  \\\n",
       "1729  24868  COPPER   EAST OF 2ND ST. - NORTH OF CENTRAL               4057.0   \n",
       "1730  24868  COPPER   EAST OF 2ND ST. - NORTH OF CENTRAL               4057.0   \n",
       "1731  24868  COPPER   EAST OF 2ND ST. - NORTH OF CENTRAL               4057.0   \n",
       "1732  24868  COPPER   EAST OF 2ND ST. - NORTH OF CENTRAL               4057.0   \n",
       "\n",
       "      POST_ART_2_YEAR_MEAN  PRE_ART_5_YEAR_MEAN  POST_ART_5_YEAR_MEAN  \\\n",
       "1729                4435.0               3674.0                3709.6   \n",
       "1730                4435.0               3674.0                3709.6   \n",
       "1731                4435.0               3674.0                3709.6   \n",
       "1732                4435.0               3674.0                3709.6   \n",
       "\n",
       "      PCT_CHANGE_2_YR  PCT_CHANGE_5_YR  PCT_2_YR_CLEAN  ...  PRE_VMT_2_YR  \\\n",
       "1729         9.317229         0.968971            9.32  ...    474.668995   \n",
       "1730         9.317229         0.968971            9.32  ...    474.668995   \n",
       "1731         9.317229         0.968971            9.32  ...    474.668995   \n",
       "1732         9.317229         0.968971            9.32  ...    474.668995   \n",
       "\n",
       "      POST_VMT_2_YR  VMT_PCT_CHANGE_2_YR  PRE_VMT_5_YR  POST_VMT_5_YR  \\\n",
       "1729     518.894994             9.317229    429.857995     434.023195   \n",
       "1730     518.894994             9.317229    429.857995     434.023195   \n",
       "1731     518.894994             9.317229    429.857995     434.023195   \n",
       "1732     518.894994             9.317229    429.857995     434.023195   \n",
       "\n",
       "      VMT_PCT_CHANGE_5_YR                                           geometry  \\\n",
       "1729             0.968971  MULTILINESTRING ((-106.64903 35.08525, -106.64...   \n",
       "1730             0.968971  MULTILINESTRING ((-106.64903 35.08525, -106.64...   \n",
       "1731             0.968971  MULTILINESTRING ((-106.64803 35.0841, -106.648...   \n",
       "1732             0.968971  MULTILINESTRING ((-106.64803 35.0841, -106.648...   \n",
       "\n",
       "      index_right  STATEFP  COUNTYFP  \n",
       "1729            0       35       001  \n",
       "1730            0       35       001  \n",
       "1731            0       35       001  \n",
       "1732            0       35       001  \n",
       "\n",
       "[4 rows x 34 columns]"
      ]
     },
     "execution_count": 69,
     "metadata": {},
     "output_type": "execute_result"
    }
   ],
   "source": [
    "bernco_vmt[bernco_vmt['COGID'] == '24868']\n"
   ]
  },
  {
   "cell_type": "code",
   "execution_count": 70,
   "id": "cd8cea98-10c1-4252-9788-892cf9236b88",
   "metadata": {},
   "outputs": [],
   "source": [
    "bernco_vmt_cleaned = bernco_vmt.drop_duplicates(subset='COGID')\n"
   ]
  },
  {
   "cell_type": "code",
   "execution_count": 71,
   "id": "90667377-48a3-41fc-9dd6-2f0cdcb8dcb4",
   "metadata": {},
   "outputs": [
    {
     "data": {
      "text/html": [
       "<div>\n",
       "<style scoped>\n",
       "    .dataframe tbody tr th:only-of-type {\n",
       "        vertical-align: middle;\n",
       "    }\n",
       "\n",
       "    .dataframe tbody tr th {\n",
       "        vertical-align: top;\n",
       "    }\n",
       "\n",
       "    .dataframe thead th {\n",
       "        text-align: right;\n",
       "    }\n",
       "</style>\n",
       "<table border=\"1\" class=\"dataframe\">\n",
       "  <thead>\n",
       "    <tr style=\"text-align: right;\">\n",
       "      <th></th>\n",
       "      <th>COGID</th>\n",
       "      <th>RTE</th>\n",
       "      <th>LOCAT</th>\n",
       "      <th>PRE_ART_2_YEAR_MEAN</th>\n",
       "      <th>POST_ART_2_YEAR_MEAN</th>\n",
       "      <th>PRE_ART_5_YEAR_MEAN</th>\n",
       "      <th>POST_ART_5_YEAR_MEAN</th>\n",
       "      <th>PCT_CHANGE_2_YR</th>\n",
       "      <th>PCT_CHANGE_5_YR</th>\n",
       "      <th>PCT_2_YR_CLEAN</th>\n",
       "      <th>...</th>\n",
       "      <th>PRE_VMT_2_YR</th>\n",
       "      <th>POST_VMT_2_YR</th>\n",
       "      <th>VMT_PCT_CHANGE_2_YR</th>\n",
       "      <th>PRE_VMT_5_YR</th>\n",
       "      <th>POST_VMT_5_YR</th>\n",
       "      <th>VMT_PCT_CHANGE_5_YR</th>\n",
       "      <th>geometry</th>\n",
       "      <th>index_right</th>\n",
       "      <th>STATEFP</th>\n",
       "      <th>COUNTYFP</th>\n",
       "    </tr>\n",
       "  </thead>\n",
       "  <tbody>\n",
       "    <tr>\n",
       "      <th>1729</th>\n",
       "      <td>24868</td>\n",
       "      <td>COPPER</td>\n",
       "      <td>EAST OF 2ND ST. - NORTH OF CENTRAL</td>\n",
       "      <td>4057.0</td>\n",
       "      <td>4435.0</td>\n",
       "      <td>3674.0</td>\n",
       "      <td>3709.6</td>\n",
       "      <td>9.317229</td>\n",
       "      <td>0.968971</td>\n",
       "      <td>9.32</td>\n",
       "      <td>...</td>\n",
       "      <td>474.668995</td>\n",
       "      <td>518.894994</td>\n",
       "      <td>9.317229</td>\n",
       "      <td>429.857995</td>\n",
       "      <td>434.023195</td>\n",
       "      <td>0.968971</td>\n",
       "      <td>MULTILINESTRING ((-106.64903 35.08525, -106.64...</td>\n",
       "      <td>0</td>\n",
       "      <td>35</td>\n",
       "      <td>001</td>\n",
       "    </tr>\n",
       "  </tbody>\n",
       "</table>\n",
       "<p>1 rows × 34 columns</p>\n",
       "</div>"
      ],
      "text/plain": [
       "      COGID     RTE                                LOCAT  PRE_ART_2_YEAR_MEAN  \\\n",
       "1729  24868  COPPER   EAST OF 2ND ST. - NORTH OF CENTRAL               4057.0   \n",
       "\n",
       "      POST_ART_2_YEAR_MEAN  PRE_ART_5_YEAR_MEAN  POST_ART_5_YEAR_MEAN  \\\n",
       "1729                4435.0               3674.0                3709.6   \n",
       "\n",
       "      PCT_CHANGE_2_YR  PCT_CHANGE_5_YR  PCT_2_YR_CLEAN  ...  PRE_VMT_2_YR  \\\n",
       "1729         9.317229         0.968971            9.32  ...    474.668995   \n",
       "\n",
       "      POST_VMT_2_YR  VMT_PCT_CHANGE_2_YR  PRE_VMT_5_YR  POST_VMT_5_YR  \\\n",
       "1729     518.894994             9.317229    429.857995     434.023195   \n",
       "\n",
       "      VMT_PCT_CHANGE_5_YR                                           geometry  \\\n",
       "1729             0.968971  MULTILINESTRING ((-106.64903 35.08525, -106.64...   \n",
       "\n",
       "      index_right  STATEFP  COUNTYFP  \n",
       "1729            0       35       001  \n",
       "\n",
       "[1 rows x 34 columns]"
      ]
     },
     "execution_count": 71,
     "metadata": {},
     "output_type": "execute_result"
    }
   ],
   "source": [
    "bernco_vmt_cleaned[bernco_vmt_cleaned['COGID'] == '24868']"
   ]
  },
  {
   "cell_type": "code",
   "execution_count": 77,
   "id": "99e924d7-aba0-47cb-9ddb-d8e18ceac5bc",
   "metadata": {},
   "outputs": [
    {
     "data": {
      "text/plain": [
       "COGID                     object\n",
       "RTE                       object\n",
       "LOCAT                     object\n",
       "PRE_ART_2_YEAR_MEAN      float64\n",
       "POST_ART_2_YEAR_MEAN     float64\n",
       "PRE_ART_5_YEAR_MEAN      float64\n",
       "POST_ART_5_YEAR_MEAN     float64\n",
       "PCT_CHANGE_2_YR          float64\n",
       "PCT_CHANGE_5_YR          float64\n",
       "PCT_2_YR_CLEAN           float64\n",
       "PCT_5_YR_CLEAN           float64\n",
       "IS_ART                     int64\n",
       "IS_ART_ADJ                 int64\n",
       "ABS_CHANGE_2_YR          float64\n",
       "ABS_CHANGE_5_YR          float64\n",
       "ABS_2_YR_CLEAN           float64\n",
       "ABS_5_YR_CLEAN           float64\n",
       "MILES                    float64\n",
       "IS_COAL                    int64\n",
       "IS_LEAD                    int64\n",
       "IS_ZUNI                    int64\n",
       "IS_LOMAS                   int64\n",
       "VMT_CHANGE_2_YR          float64\n",
       "VMT_CHANGE_5_YR          float64\n",
       "PRE_VMT_2_YR             float64\n",
       "POST_VMT_2_YR            float64\n",
       "VMT_PCT_CHANGE_2_YR      float64\n",
       "PRE_VMT_5_YR             float64\n",
       "POST_VMT_5_YR            float64\n",
       "VMT_PCT_CHANGE_5_YR      float64\n",
       "geometry                geometry\n",
       "index_right                int64\n",
       "STATEFP                   object\n",
       "COUNTYFP                  object\n",
       "dtype: object"
      ]
     },
     "execution_count": 77,
     "metadata": {},
     "output_type": "execute_result"
    }
   ],
   "source": [
    "bernco_vmt_cleaned.dtypes"
   ]
  },
  {
   "cell_type": "code",
   "execution_count": 87,
   "id": "269a9dbd-d9a3-49fa-8ec1-fdcd71c87ced",
   "metadata": {},
   "outputs": [
    {
     "data": {
      "text/html": [
       "<div>\n",
       "<style scoped>\n",
       "    .dataframe tbody tr th:only-of-type {\n",
       "        vertical-align: middle;\n",
       "    }\n",
       "\n",
       "    .dataframe tbody tr th {\n",
       "        vertical-align: top;\n",
       "    }\n",
       "\n",
       "    .dataframe thead th {\n",
       "        text-align: right;\n",
       "    }\n",
       "</style>\n",
       "<table border=\"1\" class=\"dataframe\">\n",
       "  <thead>\n",
       "    <tr style=\"text-align: right;\">\n",
       "      <th></th>\n",
       "      <th>COGID</th>\n",
       "      <th>RTE</th>\n",
       "      <th>LOCAT</th>\n",
       "    </tr>\n",
       "  </thead>\n",
       "  <tbody>\n",
       "    <tr>\n",
       "      <th>24</th>\n",
       "      <td>25624</td>\n",
       "      <td>CENTRAL</td>\n",
       "      <td>EAST OF SAN MATEO - WEST OF SAN PEDRO</td>\n",
       "    </tr>\n",
       "    <tr>\n",
       "      <th>25</th>\n",
       "      <td>25652</td>\n",
       "      <td>CENTRAL</td>\n",
       "      <td>EAST OF SAN PEDRO - WEST OF LOUISIANA</td>\n",
       "    </tr>\n",
       "    <tr>\n",
       "      <th>26</th>\n",
       "      <td>25536</td>\n",
       "      <td>CENTRAL</td>\n",
       "      <td>EAST OF WASHINGTON - WEST OF SAN MATEO</td>\n",
       "    </tr>\n",
       "    <tr>\n",
       "      <th>27</th>\n",
       "      <td>25432</td>\n",
       "      <td>CENTRAL</td>\n",
       "      <td>EAST OF CARLISLE - WEST OF WASHINGTON</td>\n",
       "    </tr>\n",
       "    <tr>\n",
       "      <th>28</th>\n",
       "      <td>25388</td>\n",
       "      <td>CENTRAL</td>\n",
       "      <td>EAST OF GIRARD - WEST OF CARLISLE</td>\n",
       "    </tr>\n",
       "  </tbody>\n",
       "</table>\n",
       "</div>"
      ],
      "text/plain": [
       "    COGID      RTE                                   LOCAT\n",
       "24  25624  CENTRAL   EAST OF SAN MATEO - WEST OF SAN PEDRO\n",
       "25  25652  CENTRAL   EAST OF SAN PEDRO - WEST OF LOUISIANA\n",
       "26  25536  CENTRAL  EAST OF WASHINGTON - WEST OF SAN MATEO\n",
       "27  25432  CENTRAL   EAST OF CARLISLE - WEST OF WASHINGTON\n",
       "28  25388  CENTRAL       EAST OF GIRARD - WEST OF CARLISLE"
      ]
     },
     "execution_count": 87,
     "metadata": {},
     "output_type": "execute_result"
    }
   ],
   "source": [
    "import pandas as pd\n",
    "\n",
    "art_east = pd.read_csv(\"data/ART_EAST.csv\")\n",
    "art_east.tail()"
   ]
  },
  {
   "cell_type": "code",
   "execution_count": 90,
   "id": "e7ff2936-0659-488c-8ef9-931953f87601",
   "metadata": {},
   "outputs": [
    {
     "data": {
      "text/plain": [
       "COGID    object\n",
       "RTE      object\n",
       "LOCAT    object\n",
       "dtype: object"
      ]
     },
     "execution_count": 90,
     "metadata": {},
     "output_type": "execute_result"
    }
   ],
   "source": [
    "art_east['COGID'] = art_east['COGID'].astype(str)\n",
    "art_east.dtypes"
   ]
  },
  {
   "cell_type": "code",
   "execution_count": 89,
   "id": "8599253b-70ba-43a3-a1b1-e4de9b9f09bc",
   "metadata": {},
   "outputs": [
    {
     "data": {
      "text/plain": [
       "COGID                     object\n",
       "RTE                       object\n",
       "LOCAT                     object\n",
       "PRE_ART_2_YEAR_MEAN      float64\n",
       "POST_ART_2_YEAR_MEAN     float64\n",
       "PRE_ART_5_YEAR_MEAN      float64\n",
       "POST_ART_5_YEAR_MEAN     float64\n",
       "PCT_CHANGE_2_YR          float64\n",
       "PCT_CHANGE_5_YR          float64\n",
       "PCT_2_YR_CLEAN           float64\n",
       "PCT_5_YR_CLEAN           float64\n",
       "IS_ART                     int64\n",
       "IS_ART_ADJ                 int64\n",
       "ABS_CHANGE_2_YR          float64\n",
       "ABS_CHANGE_5_YR          float64\n",
       "ABS_2_YR_CLEAN           float64\n",
       "ABS_5_YR_CLEAN           float64\n",
       "MILES                    float64\n",
       "IS_COAL                    int64\n",
       "IS_LEAD                    int64\n",
       "IS_ZUNI                    int64\n",
       "IS_LOMAS                   int64\n",
       "VMT_CHANGE_2_YR          float64\n",
       "VMT_CHANGE_5_YR          float64\n",
       "PRE_VMT_2_YR             float64\n",
       "POST_VMT_2_YR            float64\n",
       "VMT_PCT_CHANGE_2_YR      float64\n",
       "PRE_VMT_5_YR             float64\n",
       "POST_VMT_5_YR            float64\n",
       "VMT_PCT_CHANGE_5_YR      float64\n",
       "geometry                geometry\n",
       "index_right                int64\n",
       "STATEFP                   object\n",
       "COUNTYFP                  object\n",
       "dtype: object"
      ]
     },
     "execution_count": 89,
     "metadata": {},
     "output_type": "execute_result"
    }
   ],
   "source": [
    "bernco_vmt_cleaned. dtypes"
   ]
  },
  {
   "cell_type": "code",
   "execution_count": 92,
   "id": "20c792b3-a69b-4fa6-bfad-6eaadab5fd69",
   "metadata": {},
   "outputs": [],
   "source": [
    "bernco_vmt_cleaned = bernco_vmt_cleaned.copy()\n"
   ]
  },
  {
   "cell_type": "code",
   "execution_count": 95,
   "id": "67fbe589-143e-4796-a758-f6d1c5ce7caf",
   "metadata": {},
   "outputs": [
    {
     "data": {
      "text/html": [
       "<div>\n",
       "<style scoped>\n",
       "    .dataframe tbody tr th:only-of-type {\n",
       "        vertical-align: middle;\n",
       "    }\n",
       "\n",
       "    .dataframe tbody tr th {\n",
       "        vertical-align: top;\n",
       "    }\n",
       "\n",
       "    .dataframe thead th {\n",
       "        text-align: right;\n",
       "    }\n",
       "</style>\n",
       "<table border=\"1\" class=\"dataframe\">\n",
       "  <thead>\n",
       "    <tr style=\"text-align: right;\">\n",
       "      <th></th>\n",
       "      <th>COGID</th>\n",
       "      <th>RTE</th>\n",
       "      <th>LOCAT</th>\n",
       "      <th>PRE_ART_2_YEAR_MEAN</th>\n",
       "      <th>POST_ART_2_YEAR_MEAN</th>\n",
       "      <th>PRE_ART_5_YEAR_MEAN</th>\n",
       "      <th>POST_ART_5_YEAR_MEAN</th>\n",
       "      <th>PCT_CHANGE_2_YR</th>\n",
       "      <th>PCT_CHANGE_5_YR</th>\n",
       "      <th>PCT_2_YR_CLEAN</th>\n",
       "      <th>...</th>\n",
       "      <th>POST_VMT_2_YR</th>\n",
       "      <th>VMT_PCT_CHANGE_2_YR</th>\n",
       "      <th>PRE_VMT_5_YR</th>\n",
       "      <th>POST_VMT_5_YR</th>\n",
       "      <th>VMT_PCT_CHANGE_5_YR</th>\n",
       "      <th>geometry</th>\n",
       "      <th>index_right</th>\n",
       "      <th>STATEFP</th>\n",
       "      <th>COUNTYFP</th>\n",
       "      <th>IS_ART_EAST</th>\n",
       "    </tr>\n",
       "  </thead>\n",
       "  <tbody>\n",
       "    <tr>\n",
       "      <th>1618</th>\n",
       "      <td>24420</td>\n",
       "      <td>CENTRAL</td>\n",
       "      <td>SOUTHEAST OF LOMAS - NORTHWEST OF TIJERAS</td>\n",
       "      <td>14170.5</td>\n",
       "      <td>13450.5</td>\n",
       "      <td>12716.6</td>\n",
       "      <td>10266.8</td>\n",
       "      <td>-5.080978</td>\n",
       "      <td>-19.264583</td>\n",
       "      <td>-5.08</td>\n",
       "      <td>...</td>\n",
       "      <td>6510.041965</td>\n",
       "      <td>-5.080978</td>\n",
       "      <td>6154.834367</td>\n",
       "      <td>4969.131173</td>\n",
       "      <td>-19.264583</td>\n",
       "      <td>MULTILINESTRING ((-106.66877 35.09365, -106.66...</td>\n",
       "      <td>0</td>\n",
       "      <td>35</td>\n",
       "      <td>001</td>\n",
       "      <td>1</td>\n",
       "    </tr>\n",
       "    <tr>\n",
       "      <th>1632</th>\n",
       "      <td>24464</td>\n",
       "      <td>CENTRAL</td>\n",
       "      <td>SOUTHEAST OF TIJERAS - NORTHWEST OF 12TH ST.</td>\n",
       "      <td>12729.0</td>\n",
       "      <td>8065.0</td>\n",
       "      <td>12169.0</td>\n",
       "      <td>6948.4</td>\n",
       "      <td>-36.640742</td>\n",
       "      <td>-42.900814</td>\n",
       "      <td>-36.64</td>\n",
       "      <td>...</td>\n",
       "      <td>1104.904956</td>\n",
       "      <td>-36.640742</td>\n",
       "      <td>1667.152933</td>\n",
       "      <td>951.930762</td>\n",
       "      <td>-42.900814</td>\n",
       "      <td>MULTILINESTRING ((-106.66282 35.08866, -106.66...</td>\n",
       "      <td>0</td>\n",
       "      <td>35</td>\n",
       "      <td>001</td>\n",
       "      <td>1</td>\n",
       "    </tr>\n",
       "    <tr>\n",
       "      <th>1681</th>\n",
       "      <td>24672</td>\n",
       "      <td>COPPER</td>\n",
       "      <td>EAST OF CENTRAL - WEST OF 8TH ST.</td>\n",
       "      <td>1421.0</td>\n",
       "      <td>984.0</td>\n",
       "      <td>1769.4</td>\n",
       "      <td>852.0</td>\n",
       "      <td>-30.752991</td>\n",
       "      <td>-51.848084</td>\n",
       "      <td>-30.75</td>\n",
       "      <td>...</td>\n",
       "      <td>123.000000</td>\n",
       "      <td>-30.752991</td>\n",
       "      <td>221.175000</td>\n",
       "      <td>106.500000</td>\n",
       "      <td>-51.848084</td>\n",
       "      <td>MULTILINESTRING ((-106.65855 35.08648, -106.65...</td>\n",
       "      <td>0</td>\n",
       "      <td>35</td>\n",
       "      <td>001</td>\n",
       "      <td>1</td>\n",
       "    </tr>\n",
       "    <tr>\n",
       "      <th>1682</th>\n",
       "      <td>24675</td>\n",
       "      <td>GOLD</td>\n",
       "      <td>EAST OF 3RD ST. - WEST OF 2ND ST.</td>\n",
       "      <td>3440.0</td>\n",
       "      <td>2593.5</td>\n",
       "      <td>3315.4</td>\n",
       "      <td>2246.0</td>\n",
       "      <td>-24.607558</td>\n",
       "      <td>-32.255535</td>\n",
       "      <td>-24.61</td>\n",
       "      <td>...</td>\n",
       "      <td>171.170999</td>\n",
       "      <td>-24.607558</td>\n",
       "      <td>218.816399</td>\n",
       "      <td>148.235999</td>\n",
       "      <td>-32.255535</td>\n",
       "      <td>MULTILINESTRING ((-106.6506 35.0834, -106.6494...</td>\n",
       "      <td>0</td>\n",
       "      <td>35</td>\n",
       "      <td>001</td>\n",
       "      <td>1</td>\n",
       "    </tr>\n",
       "    <tr>\n",
       "      <th>1695</th>\n",
       "      <td>24720</td>\n",
       "      <td>COPPER</td>\n",
       "      <td>EAST OF 8TH ST. - WEST OF 6TH ST.</td>\n",
       "      <td>1954.0</td>\n",
       "      <td>1516.0</td>\n",
       "      <td>2067.8</td>\n",
       "      <td>1312.6</td>\n",
       "      <td>-22.415558</td>\n",
       "      <td>-36.521907</td>\n",
       "      <td>-22.42</td>\n",
       "      <td>...</td>\n",
       "      <td>209.207995</td>\n",
       "      <td>-22.415558</td>\n",
       "      <td>285.356393</td>\n",
       "      <td>181.138795</td>\n",
       "      <td>-36.521907</td>\n",
       "      <td>MULTILINESTRING ((-106.65617 35.08617, -106.65...</td>\n",
       "      <td>0</td>\n",
       "      <td>35</td>\n",
       "      <td>001</td>\n",
       "      <td>1</td>\n",
       "    </tr>\n",
       "  </tbody>\n",
       "</table>\n",
       "<p>5 rows × 35 columns</p>\n",
       "</div>"
      ],
      "text/plain": [
       "      COGID      RTE                                         LOCAT  \\\n",
       "1618  24420  CENTRAL     SOUTHEAST OF LOMAS - NORTHWEST OF TIJERAS   \n",
       "1632  24464  CENTRAL  SOUTHEAST OF TIJERAS - NORTHWEST OF 12TH ST.   \n",
       "1681  24672   COPPER             EAST OF CENTRAL - WEST OF 8TH ST.   \n",
       "1682  24675     GOLD             EAST OF 3RD ST. - WEST OF 2ND ST.   \n",
       "1695  24720   COPPER             EAST OF 8TH ST. - WEST OF 6TH ST.   \n",
       "\n",
       "      PRE_ART_2_YEAR_MEAN  POST_ART_2_YEAR_MEAN  PRE_ART_5_YEAR_MEAN  \\\n",
       "1618              14170.5               13450.5              12716.6   \n",
       "1632              12729.0                8065.0              12169.0   \n",
       "1681               1421.0                 984.0               1769.4   \n",
       "1682               3440.0                2593.5               3315.4   \n",
       "1695               1954.0                1516.0               2067.8   \n",
       "\n",
       "      POST_ART_5_YEAR_MEAN  PCT_CHANGE_2_YR  PCT_CHANGE_5_YR  PCT_2_YR_CLEAN  \\\n",
       "1618               10266.8        -5.080978       -19.264583           -5.08   \n",
       "1632                6948.4       -36.640742       -42.900814          -36.64   \n",
       "1681                 852.0       -30.752991       -51.848084          -30.75   \n",
       "1682                2246.0       -24.607558       -32.255535          -24.61   \n",
       "1695                1312.6       -22.415558       -36.521907          -22.42   \n",
       "\n",
       "      ...  POST_VMT_2_YR  VMT_PCT_CHANGE_2_YR  PRE_VMT_5_YR  POST_VMT_5_YR  \\\n",
       "1618  ...    6510.041965            -5.080978   6154.834367    4969.131173   \n",
       "1632  ...    1104.904956           -36.640742   1667.152933     951.930762   \n",
       "1681  ...     123.000000           -30.752991    221.175000     106.500000   \n",
       "1682  ...     171.170999           -24.607558    218.816399     148.235999   \n",
       "1695  ...     209.207995           -22.415558    285.356393     181.138795   \n",
       "\n",
       "      VMT_PCT_CHANGE_5_YR                                           geometry  \\\n",
       "1618           -19.264583  MULTILINESTRING ((-106.66877 35.09365, -106.66...   \n",
       "1632           -42.900814  MULTILINESTRING ((-106.66282 35.08866, -106.66...   \n",
       "1681           -51.848084  MULTILINESTRING ((-106.65855 35.08648, -106.65...   \n",
       "1682           -32.255535  MULTILINESTRING ((-106.6506 35.0834, -106.6494...   \n",
       "1695           -36.521907  MULTILINESTRING ((-106.65617 35.08617, -106.65...   \n",
       "\n",
       "      index_right  STATEFP  COUNTYFP  IS_ART_EAST  \n",
       "1618            0       35       001            1  \n",
       "1632            0       35       001            1  \n",
       "1681            0       35       001            1  \n",
       "1682            0       35       001            1  \n",
       "1695            0       35       001            1  \n",
       "\n",
       "[5 rows x 35 columns]"
      ]
     },
     "execution_count": 95,
     "metadata": {},
     "output_type": "execute_result"
    }
   ],
   "source": [
    "bernco_vmt_cleaned.loc[:, 'IS_ART_EAST'] = bernco_vmt_cleaned['COGID'].isin(art_east['COGID']).astype(int)\n",
    "bernco_vmt_cleaned[bernco_vmt_cleaned['IS_ART_EAST']==1].head()"
   ]
  },
  {
   "cell_type": "code",
   "execution_count": 101,
   "id": "f20c3e82-dd54-4d8d-8592-e9ff1277fcb8",
   "metadata": {},
   "outputs": [],
   "source": [
    "central = bernco_vmt_cleaned[bernco_vmt_cleaned['IS_ART_EAST'] == 1]  # or IS_ART_ADJ, or the rest\n",
    "art_adj = bernco_vmt_cleaned[bernco_vmt_cleaned['IS_ART_ADJ'] == 1]\n",
    "coal = bernco_vmt_cleaned[bernco_vmt_cleaned['IS_COAL'] == 1]\n",
    "lead = bernco_vmt_cleaned[bernco_vmt_cleaned['IS_LEAD'] == 1]\n",
    "zuni = bernco_vmt_cleaned[bernco_vmt_cleaned['IS_ZUNI'] == 1]\n",
    "lomas = bernco_vmt_cleaned[bernco_vmt_cleaned['IS_LOMAS'] == 1]\n",
    "rest_of_bernco = bernco_vmt_cleaned[\n",
    "    (bernco_vmt_cleaned['IS_ART'] == 0) & \n",
    "    (bernco_vmt_cleaned['IS_ART_ADJ'] == 0)\n",
    "]\n",
    "\n",
    "pre_total = bernco_vmt_cleaned['PRE_VMT_2_YR'].sum()\n",
    "post_total = bernco_vmt_cleaned['POST_VMT_2_YR'].sum()\n",
    "percent_change_2yr = ((post_total - pre_total) / pre_total) * 100\n",
    "\n",
    "pre_total_5 = bernco_vmt_cleaned['PRE_VMT_5_YR'].sum()\n",
    "post_total_5 = bernco_vmt_cleaned['POST_VMT_5_YR'].sum()\n",
    "percent_change_5yr = ((post_total_5 - pre_total_5) / pre_total_5) * 100\n"
   ]
  },
  {
   "cell_type": "code",
   "execution_count": 97,
   "id": "d5f574a1-fdc6-46aa-adf3-2b524c650fd3",
   "metadata": {},
   "outputs": [],
   "source": [
    "#Going to try different approach\n",
    "\n",
    "# def compute_percent_change(group, pre_col, post_col):\n",
    "#     pre_total = group[pre_col].sum()\n",
    "#     post_total = group[post_col].sum()\n",
    "#     return ((post_total - pre_total) / pre_total) * 100\n",
    "\n",
    "# summary = {\n",
    "#     'Central': {\n",
    "#         '2-Year': compute_percent_change(central, 'PRE_VMT_2_YR', 'POST_VMT_2_YR'),\n",
    "#         '5-Year': compute_percent_change(central, 'PRE_VMT_5_YR', 'POST_VMT_5_YR')\n",
    "#     },\n",
    "#     'ART Adjacent': {\n",
    "#         '2-Year': compute_percent_change(art_adj, 'PRE_VMT_2_YR', 'POST_VMT_2_YR'),\n",
    "#         '5-Year': compute_percent_change(art_adj, 'PRE_VMT_5_YR', 'POST_VMT_5_YR')\n",
    "#     },\n",
    "#     'Rest of Network': {\n",
    "#         '2-Year': compute_percent_change(rest_of_bernco, 'PRE_VMT_2_YR', 'POST_VMT_2_YR'),\n",
    "#         '5-Year': compute_percent_change(rest_of_bernco, 'PRE_VMT_5_YR', 'POST_VMT_5_YR')\n",
    "#     },\n",
    "#     'Coal': {\n",
    "#         '2-Year': compute_percent_change(coal, 'PRE_VMT_2_YR', 'POST_VMT_2_YR'),\n",
    "#         '5-Year': compute_percent_change(coal, 'PRE_VMT_5_YR', 'POST_VMT_5_YR')\n",
    "#     },\n",
    "#     'Lead': {\n",
    "#         '2-Year': compute_percent_change(lead, 'PRE_VMT_2_YR', 'POST_VMT_2_YR'),\n",
    "#         '5-Year': compute_percent_change(lead, 'PRE_VMT_5_YR', 'POST_VMT_5_YR')\n",
    "#     },\n",
    "#     'Zuni': {\n",
    "#         '2-Year': compute_percent_change(zuni, 'PRE_VMT_2_YR', 'POST_VMT_2_YR'),\n",
    "#         '5-Year': compute_percent_change(zuni, 'PRE_VMT_5_YR', 'POST_VMT_5_YR')\n",
    "#     },\n",
    "#     'Lomas': {\n",
    "#         '2-Year': compute_percent_change(lomas, 'PRE_VMT_2_YR', 'POST_VMT_2_YR'),\n",
    "#         '5-Year': compute_percent_change(lomas, 'PRE_VMT_5_YR', 'POST_VMT_5_YR')\n",
    "#     }\n",
    "# }"
   ]
  },
  {
   "cell_type": "code",
   "execution_count": 98,
   "id": "0d955526-0b66-4d72-870e-83dc91385040",
   "metadata": {},
   "outputs": [
    {
     "data": {
      "text/plain": [
       "{'ART Corridor': {'2-Year': np.float64(-13.288884056201924),\n",
       "  '5-Year': np.float64(-30.751915501111544)},\n",
       " 'ART Adjacent': {'2-Year': np.float64(-0.7036823369338342),\n",
       "  '5-Year': np.float64(-5.802682444112905)},\n",
       " 'Rest of Network': {'2-Year': np.float64(5.648932049323759),\n",
       "  '5-Year': np.float64(1.8321703716706172)}}"
      ]
     },
     "execution_count": 98,
     "metadata": {},
     "output_type": "execute_result"
    }
   ],
   "source": [
    "summary"
   ]
  },
  {
   "cell_type": "code",
   "execution_count": 102,
   "id": "7718949c-770f-4ed3-b1f8-a5bee93f5609",
   "metadata": {},
   "outputs": [],
   "source": [
    "def compute_vmt_changes(group):\n",
    "    pre_2 = group['PRE_VMT_2_YR'].sum()\n",
    "    post_2 = group['POST_VMT_2_YR'].sum()\n",
    "    abs_change_2 = group['VMT_CHANGE_2_YR'].sum()\n",
    "    pct_change_2 = ((post_2 - pre_2) / pre_2) * 100\n",
    "\n",
    "    pre_5 = group['PRE_VMT_5_YR'].sum()\n",
    "    post_5 = group['POST_VMT_5_YR'].sum()\n",
    "    abs_change_5 = group['VMT_CHANGE_5_YR'].sum()\n",
    "    pct_change_5 = ((post_5 - pre_5) / pre_5) * 100\n",
    "\n",
    "    return {\n",
    "        'Percent Change (2-Year)': pct_change_2,\n",
    "        'VMT Change (2-Year)': abs_change_2,\n",
    "        'Percent Change (5-Year)': pct_change_5,\n",
    "        'VMT Change (5-Year)': abs_change_5\n",
    "    }\n"
   ]
  },
  {
   "cell_type": "code",
   "execution_count": 103,
   "id": "373b59dd-73b7-4748-95ec-62b7f04bf226",
   "metadata": {},
   "outputs": [],
   "source": [
    "summary = {\n",
    "    'Central': compute_vmt_changes(central),\n",
    "    'ART Adjacent': compute_vmt_changes(art_adj),\n",
    "    'Rest of Network': compute_vmt_changes(rest_of_bernco),\n",
    "    'Coal': compute_vmt_changes(coal),\n",
    "    'Lead': compute_vmt_changes(lead),\n",
    "    'Zuni': compute_vmt_changes(zuni),\n",
    "    'Lomas': compute_vmt_changes(lomas)\n",
    "}\n"
   ]
  },
  {
   "cell_type": "code",
   "execution_count": 104,
   "id": "66cad046-c99e-43d5-9776-dde93c77acbf",
   "metadata": {},
   "outputs": [
    {
     "name": "stdout",
     "output_type": "stream",
     "text": [
      "                 Percent Change (2-Year)  VMT Change (2-Year)  \\\n",
      "Central                       -13.288884        -16664.964774   \n",
      "ART Adjacent                   -0.703682         -1626.140934   \n",
      "Rest of Network                 5.648932        738188.105880   \n",
      "Coal                            9.728293          3451.547031   \n",
      "Lead                            9.320996          3600.135015   \n",
      "Zuni                          -16.885667         -4689.304977   \n",
      "Lomas                          -3.139166         -4033.658004   \n",
      "\n",
      "                 Percent Change (5-Year)  VMT Change (5-Year)  \n",
      "Central                       -30.751916        -38418.908565  \n",
      "ART Adjacent                   -5.802682        -12679.006671  \n",
      "Rest of Network                 1.832170        232754.775758  \n",
      "Coal                            4.445621          1438.593022  \n",
      "Lead                            4.339541          1499.055023  \n",
      "Zuni                           -6.353490         -1418.513017  \n",
      "Lomas                         -11.024085        -14176.255698  \n"
     ]
    }
   ],
   "source": [
    "summary_df = pd.DataFrame.from_dict(summary, orient='index')\n",
    "print(summary_df)\n"
   ]
  },
  {
   "cell_type": "code",
   "execution_count": null,
   "id": "66adda98-b7e9-481b-8c48-d04b497d741b",
   "metadata": {},
   "outputs": [],
   "source": []
  }
 ],
 "metadata": {
  "kernelspec": {
   "display_name": "Python (geo)",
   "language": "python",
   "name": "geo"
  },
  "language_info": {
   "codemirror_mode": {
    "name": "ipython",
    "version": 3
   },
   "file_extension": ".py",
   "mimetype": "text/x-python",
   "name": "python",
   "nbconvert_exporter": "python",
   "pygments_lexer": "ipython3",
   "version": "3.11.12"
  }
 },
 "nbformat": 4,
 "nbformat_minor": 5
}
