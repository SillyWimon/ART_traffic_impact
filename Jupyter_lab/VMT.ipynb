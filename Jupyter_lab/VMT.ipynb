{
 "cells": [
  {
   "cell_type": "markdown",
   "id": "1273973e-3edc-4f60-a651-2f49af190825",
   "metadata": {},
   "source": [
    "## VMT Analysis"
   ]
  },
  {
   "cell_type": "code",
   "execution_count": 39,
   "id": "13023e00-72c0-43ab-bc7f-fc1ac67fd28b",
   "metadata": {},
   "outputs": [],
   "source": [
    "import pathlib \n",
    "NOTEBOOK_PATH = pathlib.Path().resolve()\n",
    "DATA_DIRECTORY = NOTEBOOK_PATH / \"data\"\n",
    "OUTPUT_DIRECTORY = NOTEBOOK_PATH / \"docs\""
   ]
  },
  {
   "cell_type": "code",
   "execution_count": 40,
   "id": "71192986-2034-424e-ab69-f4bc916d000b",
   "metadata": {},
   "outputs": [],
   "source": [
    "import pandas as pd\n",
    "import geopandas as gpd\n",
    "\n",
    "data = gpd.read_file(\"data/TAQA_Data/mjr_rds_2023.gpkg\")"
   ]
  },
  {
   "cell_type": "code",
   "execution_count": 41,
   "id": "f1a3ccaa-5ffd-4e49-afc9-caf8c81054be",
   "metadata": {},
   "outputs": [
    {
     "data": {
      "text/html": [
       "<div>\n",
       "<style scoped>\n",
       "    .dataframe tbody tr th:only-of-type {\n",
       "        vertical-align: middle;\n",
       "    }\n",
       "\n",
       "    .dataframe tbody tr th {\n",
       "        vertical-align: top;\n",
       "    }\n",
       "\n",
       "    .dataframe thead th {\n",
       "        text-align: right;\n",
       "    }\n",
       "</style>\n",
       "<table border=\"1\" class=\"dataframe\">\n",
       "  <thead>\n",
       "    <tr style=\"text-align: right;\">\n",
       "      <th></th>\n",
       "      <th>OBJECTID</th>\n",
       "      <th>MRTNI_Func</th>\n",
       "      <th>MRTNIcogid</th>\n",
       "      <th>ONE_WAY</th>\n",
       "      <th>COGID</th>\n",
       "      <th>RTE</th>\n",
       "      <th>LOCAT</th>\n",
       "      <th>LENGTH</th>\n",
       "      <th>MILES</th>\n",
       "      <th>ADT22</th>\n",
       "      <th>...</th>\n",
       "      <th>ADT02</th>\n",
       "      <th>AWDT02</th>\n",
       "      <th>ADT01</th>\n",
       "      <th>AWDT01</th>\n",
       "      <th>ADT00</th>\n",
       "      <th>AWDT00</th>\n",
       "      <th>Shape_Length</th>\n",
       "      <th>ADT23</th>\n",
       "      <th>AWDT23</th>\n",
       "      <th>geometry</th>\n",
       "    </tr>\n",
       "  </thead>\n",
       "  <tbody>\n",
       "    <tr>\n",
       "      <th>0</th>\n",
       "      <td>1</td>\n",
       "      <td>8</td>\n",
       "      <td>1998</td>\n",
       "      <td>E</td>\n",
       "      <td>NaN</td>\n",
       "      <td>None</td>\n",
       "      <td>None</td>\n",
       "      <td>NaN</td>\n",
       "      <td>NaN</td>\n",
       "      <td>NaN</td>\n",
       "      <td>...</td>\n",
       "      <td>NaN</td>\n",
       "      <td>NaN</td>\n",
       "      <td>NaN</td>\n",
       "      <td>NaN</td>\n",
       "      <td>NaN</td>\n",
       "      <td>NaN</td>\n",
       "      <td>954.968271</td>\n",
       "      <td>NaN</td>\n",
       "      <td>NaN</td>\n",
       "      <td>MULTILINESTRING ((1537901.27281 1518885.41196,...</td>\n",
       "    </tr>\n",
       "    <tr>\n",
       "      <th>1</th>\n",
       "      <td>2</td>\n",
       "      <td>4</td>\n",
       "      <td>1999</td>\n",
       "      <td>B</td>\n",
       "      <td>NaN</td>\n",
       "      <td>None</td>\n",
       "      <td>NORTH OF MEADE - SOUTH OF CONDERSHIRE</td>\n",
       "      <td>NaN</td>\n",
       "      <td>NaN</td>\n",
       "      <td>NaN</td>\n",
       "      <td>...</td>\n",
       "      <td>NaN</td>\n",
       "      <td>NaN</td>\n",
       "      <td>NaN</td>\n",
       "      <td>NaN</td>\n",
       "      <td>NaN</td>\n",
       "      <td>NaN</td>\n",
       "      <td>841.849864</td>\n",
       "      <td>NaN</td>\n",
       "      <td>NaN</td>\n",
       "      <td>MULTILINESTRING ((1497526.51531 1463666.51518,...</td>\n",
       "    </tr>\n",
       "    <tr>\n",
       "      <th>2</th>\n",
       "      <td>3</td>\n",
       "      <td>2</td>\n",
       "      <td>10003</td>\n",
       "      <td>B</td>\n",
       "      <td>10003.0</td>\n",
       "      <td>UNSER BLVD.</td>\n",
       "      <td>NORTH OF NORTHERN - SOUTH OF 15TH AVE.</td>\n",
       "      <td>2106.069</td>\n",
       "      <td>0.399</td>\n",
       "      <td>22160.0</td>\n",
       "      <td>...</td>\n",
       "      <td>11133.0</td>\n",
       "      <td>11633.0</td>\n",
       "      <td>10829.0</td>\n",
       "      <td>11316.0</td>\n",
       "      <td>10412.0</td>\n",
       "      <td>10880.0</td>\n",
       "      <td>2106.068785</td>\n",
       "      <td>21852.0</td>\n",
       "      <td>23529.0</td>\n",
       "      <td>MULTILINESTRING ((1507058.99985 1555528.75009,...</td>\n",
       "    </tr>\n",
       "    <tr>\n",
       "      <th>3</th>\n",
       "      <td>4</td>\n",
       "      <td>2</td>\n",
       "      <td>10004</td>\n",
       "      <td>B</td>\n",
       "      <td>10004.0</td>\n",
       "      <td>N.M. 528</td>\n",
       "      <td>NORTH OF CORRALES RD. (NM 448) - .118 MILES N...</td>\n",
       "      <td>648.945</td>\n",
       "      <td>0.123</td>\n",
       "      <td>25188.0</td>\n",
       "      <td>...</td>\n",
       "      <td>25340.0</td>\n",
       "      <td>26479.0</td>\n",
       "      <td>20742.0</td>\n",
       "      <td>21674.0</td>\n",
       "      <td>19942.0</td>\n",
       "      <td>20838.0</td>\n",
       "      <td>669.271899</td>\n",
       "      <td>25134.0</td>\n",
       "      <td>26844.0</td>\n",
       "      <td>MULTILINESTRING ((1530760.33729 1555735.63912,...</td>\n",
       "    </tr>\n",
       "    <tr>\n",
       "      <th>4</th>\n",
       "      <td>5</td>\n",
       "      <td>4</td>\n",
       "      <td>10005</td>\n",
       "      <td>B</td>\n",
       "      <td>10005.0</td>\n",
       "      <td>GRANDE VISTA</td>\n",
       "      <td>NORTH OF CORRALES RD. - SOUTH OF SANDIA VISTA</td>\n",
       "      <td>1070.855</td>\n",
       "      <td>0.203</td>\n",
       "      <td>2087.0</td>\n",
       "      <td>...</td>\n",
       "      <td>2100.0</td>\n",
       "      <td>2225.0</td>\n",
       "      <td>1792.0</td>\n",
       "      <td>1898.0</td>\n",
       "      <td>1723.0</td>\n",
       "      <td>1825.0</td>\n",
       "      <td>1033.030125</td>\n",
       "      <td>2058.0</td>\n",
       "      <td>2301.0</td>\n",
       "      <td>MULTILINESTRING ((1531922.80708 1555068.59616,...</td>\n",
       "    </tr>\n",
       "  </tbody>\n",
       "</table>\n",
       "<p>5 rows × 65 columns</p>\n",
       "</div>"
      ],
      "text/plain": [
       "   OBJECTID MRTNI_Func  MRTNIcogid ONE_WAY    COGID           RTE  \\\n",
       "0         1          8        1998       E      NaN          None   \n",
       "1         2          4        1999       B      NaN          None   \n",
       "2         3          2       10003       B  10003.0   UNSER BLVD.   \n",
       "3         4          2       10004       B  10004.0      N.M. 528   \n",
       "4         5          4       10005       B  10005.0  GRANDE VISTA   \n",
       "\n",
       "                                               LOCAT    LENGTH  MILES  \\\n",
       "0                                               None       NaN    NaN   \n",
       "1              NORTH OF MEADE - SOUTH OF CONDERSHIRE       NaN    NaN   \n",
       "2             NORTH OF NORTHERN - SOUTH OF 15TH AVE.  2106.069  0.399   \n",
       "3   NORTH OF CORRALES RD. (NM 448) - .118 MILES N...   648.945  0.123   \n",
       "4      NORTH OF CORRALES RD. - SOUTH OF SANDIA VISTA  1070.855  0.203   \n",
       "\n",
       "     ADT22  ...    ADT02   AWDT02    ADT01   AWDT01    ADT00   AWDT00  \\\n",
       "0      NaN  ...      NaN      NaN      NaN      NaN      NaN      NaN   \n",
       "1      NaN  ...      NaN      NaN      NaN      NaN      NaN      NaN   \n",
       "2  22160.0  ...  11133.0  11633.0  10829.0  11316.0  10412.0  10880.0   \n",
       "3  25188.0  ...  25340.0  26479.0  20742.0  21674.0  19942.0  20838.0   \n",
       "4   2087.0  ...   2100.0   2225.0   1792.0   1898.0   1723.0   1825.0   \n",
       "\n",
       "   Shape_Length    ADT23   AWDT23  \\\n",
       "0    954.968271      NaN      NaN   \n",
       "1    841.849864      NaN      NaN   \n",
       "2   2106.068785  21852.0  23529.0   \n",
       "3    669.271899  25134.0  26844.0   \n",
       "4   1033.030125   2058.0   2301.0   \n",
       "\n",
       "                                            geometry  \n",
       "0  MULTILINESTRING ((1537901.27281 1518885.41196,...  \n",
       "1  MULTILINESTRING ((1497526.51531 1463666.51518,...  \n",
       "2  MULTILINESTRING ((1507058.99985 1555528.75009,...  \n",
       "3  MULTILINESTRING ((1530760.33729 1555735.63912,...  \n",
       "4  MULTILINESTRING ((1531922.80708 1555068.59616,...  \n",
       "\n",
       "[5 rows x 65 columns]"
      ]
     },
     "execution_count": 41,
     "metadata": {},
     "output_type": "execute_result"
    }
   ],
   "source": [
    "data.head()"
   ]
  },
  {
   "cell_type": "code",
   "execution_count": 42,
   "id": "71e92af2-cbc1-415a-8fd0-5c87884cd9ec",
   "metadata": {},
   "outputs": [
    {
     "data": {
      "text/plain": [
       "Index(['OBJECTID', 'MRTNI_Func', 'MRTNIcogid', 'ONE_WAY', 'COGID', 'RTE',\n",
       "       'LOCAT', 'LENGTH', 'MILES', 'ADT22', 'AWDT22', 'flag22', 'ADT21',\n",
       "       'AWDT21', 'flag21', 'ADT20', 'AWDT20', 'flag20', 'ADT19', 'AWDT19',\n",
       "       'flag19', 'ADT18', 'AWDT18', 'flag18', 'ADT17', 'AWDT17', 'flag17',\n",
       "       'ADT16', 'AWDT16', 'ADT15', 'AWDT15', 'ADT14', 'AWDT14', 'ADT13',\n",
       "       'AWDT13', 'ADT12', 'AWDT12', 'ADT11', 'AWDT11', 'ADT10', 'AWDT10',\n",
       "       'ADT09', 'AWDT09', 'ADT08', 'AWDT08', 'ADT07', 'AWDT07', 'ADT06',\n",
       "       'AWDT06', 'ADT05', 'AWDT05', 'ADT04', 'AWDT04', 'ADT03', 'AWDT03',\n",
       "       'ADT02', 'AWDT02', 'ADT01', 'AWDT01', 'ADT00', 'AWDT00', 'Shape_Length',\n",
       "       'ADT23', 'AWDT23', 'geometry'],\n",
       "      dtype='object')"
      ]
     },
     "execution_count": 42,
     "metadata": {},
     "output_type": "execute_result"
    }
   ],
   "source": [
    "data.columns"
   ]
  },
  {
   "cell_type": "code",
   "execution_count": 43,
   "id": "6c6c1ee4-7d3a-4130-851f-ee77d60b314d",
   "metadata": {},
   "outputs": [
    {
     "data": {
      "text/plain": [
       "(3050, 65)"
      ]
     },
     "execution_count": 43,
     "metadata": {},
     "output_type": "execute_result"
    }
   ],
   "source": [
    "data.shape"
   ]
  },
  {
   "cell_type": "code",
   "execution_count": 44,
   "id": "5779f73e-4bb2-48ae-b243-96500b354246",
   "metadata": {},
   "outputs": [],
   "source": [
    "import geopandas as gpd\n",
    "\n",
    "# Re-import the updated GeoPackage\n",
    "updated_data = gpd.read_file(\"docs/traffic_change_analysis.gpkg\", layer=\"traffic_pct_change\")"
   ]
  },
  {
   "cell_type": "code",
   "execution_count": 45,
   "id": "d48bc4b8-7183-4003-8ae3-f96756664ac4",
   "metadata": {},
   "outputs": [
    {
     "data": {
      "text/plain": [
       "Index(['COGID', 'RTE', 'LOCAT', 'PRE_ART_2_YEAR_MEAN', 'POST_ART_2_YEAR_MEAN',\n",
       "       'PRE_ART_5_YEAR_MEAN', 'POST_ART_5_YEAR_MEAN', 'PCT_CHANGE_2_YR',\n",
       "       'PCT_CHANGE_5_YR', 'PCT_2_YR_CLEAN', 'PCT_5_YR_CLEAN', 'IS_ART',\n",
       "       'IS_ART_ADJ', 'ABS_CHANGE_2_YR', 'ABS_CHANGE_5_YR', 'ABS_2_YR_CLEAN',\n",
       "       'ABS_5_YR_CLEAN', 'geometry'],\n",
       "      dtype='object')"
      ]
     },
     "execution_count": 45,
     "metadata": {},
     "output_type": "execute_result"
    }
   ],
   "source": [
    "updated_data.columns"
   ]
  },
  {
   "cell_type": "code",
   "execution_count": 46,
   "id": "ddba6cf9-c31f-4094-81e1-d0a26a50f997",
   "metadata": {},
   "outputs": [
    {
     "data": {
      "text/plain": [
       "(3048, 18)"
      ]
     },
     "execution_count": 46,
     "metadata": {},
     "output_type": "execute_result"
    }
   ],
   "source": [
    "updated_data.shape"
   ]
  },
  {
   "cell_type": "code",
   "execution_count": 47,
   "id": "a8750f68-84cd-4ddf-9280-ab934065e482",
   "metadata": {},
   "outputs": [
    {
     "data": {
      "text/html": [
       "<div>\n",
       "<style scoped>\n",
       "    .dataframe tbody tr th:only-of-type {\n",
       "        vertical-align: middle;\n",
       "    }\n",
       "\n",
       "    .dataframe tbody tr th {\n",
       "        vertical-align: top;\n",
       "    }\n",
       "\n",
       "    .dataframe thead th {\n",
       "        text-align: right;\n",
       "    }\n",
       "</style>\n",
       "<table border=\"1\" class=\"dataframe\">\n",
       "  <thead>\n",
       "    <tr style=\"text-align: right;\">\n",
       "      <th></th>\n",
       "      <th>COGID</th>\n",
       "      <th>RTE</th>\n",
       "      <th>LOCAT</th>\n",
       "    </tr>\n",
       "  </thead>\n",
       "  <tbody>\n",
       "    <tr>\n",
       "      <th>0</th>\n",
       "      <td>24100</td>\n",
       "      <td>LOMAS</td>\n",
       "      <td>EAST OF CENTRAL - WEST OF 12TH ST.</td>\n",
       "    </tr>\n",
       "    <tr>\n",
       "      <th>1</th>\n",
       "      <td>24160</td>\n",
       "      <td>LOMAS</td>\n",
       "      <td>EAST OF 12TH ST. - WEST OF 6TH ST.</td>\n",
       "    </tr>\n",
       "    <tr>\n",
       "      <th>2</th>\n",
       "      <td>24164</td>\n",
       "      <td>LOMAS</td>\n",
       "      <td>EAST OF PAN AM EAST - WEST OF UNIVERSITY</td>\n",
       "    </tr>\n",
       "    <tr>\n",
       "      <th>3</th>\n",
       "      <td>24172</td>\n",
       "      <td>LOMAS</td>\n",
       "      <td>EAST OF 5TH ST. - WEST OF 4TH ST.</td>\n",
       "    </tr>\n",
       "    <tr>\n",
       "      <th>4</th>\n",
       "      <td>24176</td>\n",
       "      <td>LOMAS</td>\n",
       "      <td>EAST OF PAN AMERICAN WEST - WEST OF PAN AMERIC...</td>\n",
       "    </tr>\n",
       "  </tbody>\n",
       "</table>\n",
       "</div>"
      ],
      "text/plain": [
       "   COGID    RTE                                              LOCAT\n",
       "0  24100  LOMAS                 EAST OF CENTRAL - WEST OF 12TH ST.\n",
       "1  24160  LOMAS                 EAST OF 12TH ST. - WEST OF 6TH ST.\n",
       "2  24164  LOMAS           EAST OF PAN AM EAST - WEST OF UNIVERSITY\n",
       "3  24172  LOMAS                  EAST OF 5TH ST. - WEST OF 4TH ST.\n",
       "4  24176  LOMAS  EAST OF PAN AMERICAN WEST - WEST OF PAN AMERIC..."
      ]
     },
     "execution_count": 47,
     "metadata": {},
     "output_type": "execute_result"
    }
   ],
   "source": [
    "import pandas as pd\n",
    "\n",
    "coal_links = pd.read_csv('data/COAL_FLAG.csv')\n",
    "lead_links = pd.read_csv('data/LEAD_FLAG.csv')\n",
    "zuni_links = pd.read_csv('data/ZUNI_FLAG.csv')\n",
    "lomas_links = pd.read_csv('data/LOMAS_FLAG.csv')\n",
    "lomas_links.head()"
   ]
  },
  {
   "cell_type": "code",
   "execution_count": 48,
   "id": "958efec5-ba32-4896-b38c-c471219c1b37",
   "metadata": {},
   "outputs": [
    {
     "data": {
      "text/plain": [
       "COGID     int64\n",
       "RTE      object\n",
       "LOCAT    object\n",
       "dtype: object"
      ]
     },
     "execution_count": 48,
     "metadata": {},
     "output_type": "execute_result"
    }
   ],
   "source": [
    "lomas_links.dtypes"
   ]
  },
  {
   "cell_type": "code",
   "execution_count": 49,
   "id": "2c62000a-0163-4c5e-8a94-d8f6408d115b",
   "metadata": {},
   "outputs": [
    {
     "data": {
      "text/plain": [
       "COGID    object\n",
       "RTE      object\n",
       "LOCAT    object\n",
       "dtype: object"
      ]
     },
     "execution_count": 49,
     "metadata": {},
     "output_type": "execute_result"
    }
   ],
   "source": [
    "# Convert COGID columns to string\n",
    "coal_links['COGID'] = coal_links['COGID'].astype(str)\n",
    "lead_links['COGID'] = lead_links['COGID'].astype(str)\n",
    "zuni_links['COGID'] = zuni_links['COGID'].astype(str)\n",
    "lomas_links['COGID'] = lomas_links['COGID'].astype(str)\n",
    "lomas_links.dtypes"
   ]
  },
  {
   "cell_type": "code",
   "execution_count": 50,
   "id": "9b1cb7f9-2480-476b-9e83-84a4c301e0f7",
   "metadata": {},
   "outputs": [
    {
     "data": {
      "text/html": [
       "<div>\n",
       "<style scoped>\n",
       "    .dataframe tbody tr th:only-of-type {\n",
       "        vertical-align: middle;\n",
       "    }\n",
       "\n",
       "    .dataframe tbody tr th {\n",
       "        vertical-align: top;\n",
       "    }\n",
       "\n",
       "    .dataframe thead th {\n",
       "        text-align: right;\n",
       "    }\n",
       "</style>\n",
       "<table border=\"1\" class=\"dataframe\">\n",
       "  <thead>\n",
       "    <tr style=\"text-align: right;\">\n",
       "      <th></th>\n",
       "      <th>COGID</th>\n",
       "      <th>RTE</th>\n",
       "      <th>LOCAT</th>\n",
       "    </tr>\n",
       "  </thead>\n",
       "  <tbody>\n",
       "    <tr>\n",
       "      <th>0</th>\n",
       "      <td>25136</td>\n",
       "      <td>COAL</td>\n",
       "      <td>SOUTHEAST OF ALCALDE - WEST OF 14TH ST.</td>\n",
       "    </tr>\n",
       "    <tr>\n",
       "      <th>1</th>\n",
       "      <td>25138</td>\n",
       "      <td>COAL</td>\n",
       "      <td>EAST OF 14TH ST. - WEST OF 12TH ST.</td>\n",
       "    </tr>\n",
       "    <tr>\n",
       "      <th>2</th>\n",
       "      <td>25224</td>\n",
       "      <td>COAL</td>\n",
       "      <td>EAST OF 12TH ST. - WEST OF 10TH ST.</td>\n",
       "    </tr>\n",
       "    <tr>\n",
       "      <th>3</th>\n",
       "      <td>25225</td>\n",
       "      <td>COAL</td>\n",
       "      <td>EAST OF 10TH ST. - WEST OF 8TH ST.</td>\n",
       "    </tr>\n",
       "    <tr>\n",
       "      <th>4</th>\n",
       "      <td>25252</td>\n",
       "      <td>COAL</td>\n",
       "      <td>EAST OF 8TH ST. - WEST OF 6TH ST.</td>\n",
       "    </tr>\n",
       "  </tbody>\n",
       "</table>\n",
       "</div>"
      ],
      "text/plain": [
       "   COGID   RTE                                    LOCAT\n",
       "0  25136  COAL  SOUTHEAST OF ALCALDE - WEST OF 14TH ST.\n",
       "1  25138  COAL      EAST OF 14TH ST. - WEST OF 12TH ST.\n",
       "2  25224  COAL      EAST OF 12TH ST. - WEST OF 10TH ST.\n",
       "3  25225  COAL       EAST OF 10TH ST. - WEST OF 8TH ST.\n",
       "4  25252  COAL        EAST OF 8TH ST. - WEST OF 6TH ST."
      ]
     },
     "execution_count": 50,
     "metadata": {},
     "output_type": "execute_result"
    }
   ],
   "source": [
    "coal_links.head()"
   ]
  },
  {
   "cell_type": "code",
   "execution_count": 51,
   "id": "ca40f5ab-de67-4241-8c29-b37591b12c30",
   "metadata": {},
   "outputs": [
    {
     "data": {
      "text/plain": [
       "COGID    float64\n",
       "MILES    float64\n",
       "dtype: object"
      ]
     },
     "execution_count": 51,
     "metadata": {},
     "output_type": "execute_result"
    }
   ],
   "source": [
    "# First, keep only needed columns from 'data'\n",
    "# dang, we need to change the COGID dtype so that it can join cleanly\n",
    "miles_df = data[['COGID', 'MILES']]\n",
    "\n",
    "miles_df.dtypes"
   ]
  },
  {
   "cell_type": "code",
   "execution_count": 52,
   "id": "28d976b4-e836-4989-ace5-dc7f5318f367",
   "metadata": {},
   "outputs": [
    {
     "data": {
      "text/plain": [
       "COGID     object\n",
       "MILES    float64\n",
       "dtype: object"
      ]
     },
     "execution_count": 52,
     "metadata": {},
     "output_type": "execute_result"
    }
   ],
   "source": [
    "# First, drop rows where COGID is missing (optional, but usually best)\n",
    "miles_df = miles_df.dropna(subset=['COGID'])\n",
    "\n",
    "# Then convert to integer, then string (if needed)\n",
    "miles_df['COGID'] = miles_df['COGID'].astype(int).astype(str)\n",
    "\n",
    "# Do the same for updated_data (just in case it's stored as object, not str)\n",
    "updated_data['COGID'] = updated_data['COGID'].astype(str)\n",
    "miles_df.dtypes"
   ]
  },
  {
   "cell_type": "code",
   "execution_count": 53,
   "id": "633565a6-0723-42fb-b407-fb7299d9d523",
   "metadata": {},
   "outputs": [
    {
     "data": {
      "text/plain": [
       "COGID                     object\n",
       "RTE                       object\n",
       "LOCAT                     object\n",
       "PRE_ART_2_YEAR_MEAN      float64\n",
       "POST_ART_2_YEAR_MEAN     float64\n",
       "PRE_ART_5_YEAR_MEAN      float64\n",
       "POST_ART_5_YEAR_MEAN     float64\n",
       "PCT_CHANGE_2_YR          float64\n",
       "PCT_CHANGE_5_YR          float64\n",
       "PCT_2_YR_CLEAN           float64\n",
       "PCT_5_YR_CLEAN           float64\n",
       "IS_ART                     int64\n",
       "IS_ART_ADJ                 int64\n",
       "ABS_CHANGE_2_YR          float64\n",
       "ABS_CHANGE_5_YR          float64\n",
       "ABS_2_YR_CLEAN           float64\n",
       "ABS_5_YR_CLEAN           float64\n",
       "geometry                geometry\n",
       "dtype: object"
      ]
     },
     "execution_count": 53,
     "metadata": {},
     "output_type": "execute_result"
    }
   ],
   "source": [
    "updated_data.dtypes"
   ]
  },
  {
   "cell_type": "code",
   "execution_count": 54,
   "id": "48321e68-a96f-4167-825b-7d58ce124679",
   "metadata": {},
   "outputs": [
    {
     "name": "stdout",
     "output_type": "stream",
     "text": [
      "Missing miles: 1 rows\n"
     ]
    }
   ],
   "source": [
    "# Merge on COGID\n",
    "merged = updated_data.merge(miles_df, on='COGID', how='left')\n",
    "\n",
    "# Optional: check for missing values\n",
    "missing_miles = merged[merged['MILES'].isna()]\n",
    "print(f\"Missing miles: {len(missing_miles)} rows\")"
   ]
  },
  {
   "cell_type": "code",
   "execution_count": 55,
   "id": "1bfcf6d9-0e04-4061-af84-db85b8a3777e",
   "metadata": {},
   "outputs": [
    {
     "name": "stdout",
     "output_type": "stream",
     "text": [
      "      COGID                RTE                        LOCAT\n",
      "1912  25621  P.D.N./2ND INTCH.  PDN EBD OFF RAMP TO 2ND SBD\n"
     ]
    }
   ],
   "source": [
    "# Filter the row(s) with missing MILES\n",
    "missing_row = merged[merged['MILES'].isna()]\n",
    "\n",
    "# Display the relevant columns\n",
    "print(missing_row[['COGID', 'RTE', 'LOCAT']])\n"
   ]
  },
  {
   "cell_type": "code",
   "execution_count": 56,
   "id": "7348c064-573e-47cb-b96c-aa60093619de",
   "metadata": {},
   "outputs": [],
   "source": [
    "# Drop rows with missing MILES\n",
    "merged = merged.dropna(subset=['MILES'])\n"
   ]
  },
  {
   "cell_type": "code",
   "execution_count": 57,
   "id": "69020aa9-d3f7-4b4b-93d1-508b23adb7b5",
   "metadata": {},
   "outputs": [
    {
     "data": {
      "text/plain": [
       "Index(['COGID', 'RTE', 'LOCAT', 'PRE_ART_2_YEAR_MEAN', 'POST_ART_2_YEAR_MEAN',\n",
       "       'PRE_ART_5_YEAR_MEAN', 'POST_ART_5_YEAR_MEAN', 'PCT_CHANGE_2_YR',\n",
       "       'PCT_CHANGE_5_YR', 'PCT_2_YR_CLEAN', 'PCT_5_YR_CLEAN', 'IS_ART',\n",
       "       'IS_ART_ADJ', 'ABS_CHANGE_2_YR', 'ABS_CHANGE_5_YR', 'ABS_2_YR_CLEAN',\n",
       "       'ABS_5_YR_CLEAN', 'geometry', 'MILES'],\n",
       "      dtype='object')"
      ]
     },
     "execution_count": 57,
     "metadata": {},
     "output_type": "execute_result"
    }
   ],
   "source": [
    "merged.columns"
   ]
  },
  {
   "cell_type": "code",
   "execution_count": 58,
   "id": "f9fcd761-aec1-45cd-96c0-2be7cc1b0c9f",
   "metadata": {},
   "outputs": [
    {
     "data": {
      "text/plain": [
       "Index(['COGID', 'RTE', 'LOCAT', 'PRE_ART_2_YEAR_MEAN', 'POST_ART_2_YEAR_MEAN',\n",
       "       'PRE_ART_5_YEAR_MEAN', 'POST_ART_5_YEAR_MEAN', 'PCT_CHANGE_2_YR',\n",
       "       'PCT_CHANGE_5_YR', 'PCT_2_YR_CLEAN', 'PCT_5_YR_CLEAN', 'IS_ART',\n",
       "       'IS_ART_ADJ', 'ABS_CHANGE_2_YR', 'ABS_CHANGE_5_YR', 'ABS_2_YR_CLEAN',\n",
       "       'ABS_5_YR_CLEAN', 'geometry', 'MILES', 'IS_COAL', 'IS_LEAD', 'IS_ZUNI',\n",
       "       'IS_LOMAS'],\n",
       "      dtype='object')"
      ]
     },
     "execution_count": 58,
     "metadata": {},
     "output_type": "execute_result"
    }
   ],
   "source": [
    "# Create sets of COGIDs for fast lookup\n",
    "coal_ids = set(coal_links['COGID'])\n",
    "lead_ids = set(lead_links['COGID'])\n",
    "zuni_ids = set(zuni_links['COGID'])\n",
    "lomas_ids = set(lomas_links['COGID'])\n",
    "\n",
    "# Add flags to merged\n",
    "merged['IS_COAL'] = merged['COGID'].isin(coal_ids).astype(int)\n",
    "merged['IS_LEAD'] = merged['COGID'].isin(lead_ids).astype(int)\n",
    "merged['IS_ZUNI'] = merged['COGID'].isin(zuni_ids).astype(int)\n",
    "merged['IS_LOMAS'] = merged['COGID'].isin(lomas_ids).astype(int)\n",
    "merged.columns"
   ]
  },
  {
   "cell_type": "code",
   "execution_count": 59,
   "id": "8297c423-8d91-474d-848a-0aac42bc197e",
   "metadata": {},
   "outputs": [
    {
     "data": {
      "text/html": [
       "<div>\n",
       "<style scoped>\n",
       "    .dataframe tbody tr th:only-of-type {\n",
       "        vertical-align: middle;\n",
       "    }\n",
       "\n",
       "    .dataframe tbody tr th {\n",
       "        vertical-align: top;\n",
       "    }\n",
       "\n",
       "    .dataframe thead th {\n",
       "        text-align: right;\n",
       "    }\n",
       "</style>\n",
       "<table border=\"1\" class=\"dataframe\">\n",
       "  <thead>\n",
       "    <tr style=\"text-align: right;\">\n",
       "      <th></th>\n",
       "      <th>COGID</th>\n",
       "      <th>RTE</th>\n",
       "      <th>LOCAT</th>\n",
       "      <th>PRE_ART_2_YEAR_MEAN</th>\n",
       "      <th>POST_ART_2_YEAR_MEAN</th>\n",
       "      <th>PRE_ART_5_YEAR_MEAN</th>\n",
       "      <th>POST_ART_5_YEAR_MEAN</th>\n",
       "      <th>PCT_CHANGE_2_YR</th>\n",
       "      <th>PCT_CHANGE_5_YR</th>\n",
       "      <th>PCT_2_YR_CLEAN</th>\n",
       "      <th>...</th>\n",
       "      <th>ABS_CHANGE_2_YR</th>\n",
       "      <th>ABS_CHANGE_5_YR</th>\n",
       "      <th>ABS_2_YR_CLEAN</th>\n",
       "      <th>ABS_5_YR_CLEAN</th>\n",
       "      <th>geometry</th>\n",
       "      <th>MILES</th>\n",
       "      <th>IS_COAL</th>\n",
       "      <th>IS_LEAD</th>\n",
       "      <th>IS_ZUNI</th>\n",
       "      <th>IS_LOMAS</th>\n",
       "    </tr>\n",
       "  </thead>\n",
       "  <tbody>\n",
       "    <tr>\n",
       "      <th>1570</th>\n",
       "      <td>24100</td>\n",
       "      <td>LOMAS</td>\n",
       "      <td>EAST OF CENTRAL - WEST OF 12TH ST.</td>\n",
       "      <td>12053.5</td>\n",
       "      <td>12526.0</td>\n",
       "      <td>12017.4</td>\n",
       "      <td>11262.4</td>\n",
       "      <td>3.920023</td>\n",
       "      <td>-6.282557</td>\n",
       "      <td>3.92</td>\n",
       "      <td>...</td>\n",
       "      <td>472.5</td>\n",
       "      <td>-755.0</td>\n",
       "      <td>472.0</td>\n",
       "      <td>-755.0</td>\n",
       "      <td>MULTILINESTRING ((-106.66877 35.09365, -106.66...</td>\n",
       "      <td>0.529</td>\n",
       "      <td>0</td>\n",
       "      <td>0</td>\n",
       "      <td>0</td>\n",
       "      <td>1</td>\n",
       "    </tr>\n",
       "    <tr>\n",
       "      <th>1580</th>\n",
       "      <td>24160</td>\n",
       "      <td>LOMAS</td>\n",
       "      <td>EAST OF 12TH ST. - WEST OF 6TH ST.</td>\n",
       "      <td>17529.5</td>\n",
       "      <td>10134.5</td>\n",
       "      <td>16755.2</td>\n",
       "      <td>11548.2</td>\n",
       "      <td>-42.186029</td>\n",
       "      <td>-31.076919</td>\n",
       "      <td>-42.19</td>\n",
       "      <td>...</td>\n",
       "      <td>-7395.0</td>\n",
       "      <td>-5207.0</td>\n",
       "      <td>-7395.0</td>\n",
       "      <td>-5207.0</td>\n",
       "      <td>MULTILINESTRING ((-106.65973 35.09219, -106.65...</td>\n",
       "      <td>0.395</td>\n",
       "      <td>0</td>\n",
       "      <td>0</td>\n",
       "      <td>0</td>\n",
       "      <td>1</td>\n",
       "    </tr>\n",
       "    <tr>\n",
       "      <th>1581</th>\n",
       "      <td>24164</td>\n",
       "      <td>LOMAS</td>\n",
       "      <td>EAST OF PAN AM EAST - WEST OF UNIVERSITY</td>\n",
       "      <td>29447.5</td>\n",
       "      <td>27487.0</td>\n",
       "      <td>30379.8</td>\n",
       "      <td>24257.2</td>\n",
       "      <td>-6.657611</td>\n",
       "      <td>-20.153523</td>\n",
       "      <td>-6.66</td>\n",
       "      <td>...</td>\n",
       "      <td>-1960.5</td>\n",
       "      <td>-6122.6</td>\n",
       "      <td>-1960.0</td>\n",
       "      <td>-6123.0</td>\n",
       "      <td>MULTILINESTRING ((-106.63364 35.09169, -106.63...</td>\n",
       "      <td>0.506</td>\n",
       "      <td>0</td>\n",
       "      <td>0</td>\n",
       "      <td>0</td>\n",
       "      <td>1</td>\n",
       "    </tr>\n",
       "    <tr>\n",
       "      <th>1583</th>\n",
       "      <td>24172</td>\n",
       "      <td>LOMAS</td>\n",
       "      <td>EAST OF 5TH ST. - WEST OF 4TH ST.</td>\n",
       "      <td>19810.0</td>\n",
       "      <td>17280.5</td>\n",
       "      <td>20362.8</td>\n",
       "      <td>16295.2</td>\n",
       "      <td>-12.768804</td>\n",
       "      <td>-19.975642</td>\n",
       "      <td>-12.77</td>\n",
       "      <td>...</td>\n",
       "      <td>-2529.5</td>\n",
       "      <td>-4067.6</td>\n",
       "      <td>-2530.0</td>\n",
       "      <td>-4068.0</td>\n",
       "      <td>MULTILINESTRING ((-106.65156 35.09134, -106.65...</td>\n",
       "      <td>0.069</td>\n",
       "      <td>0</td>\n",
       "      <td>0</td>\n",
       "      <td>0</td>\n",
       "      <td>1</td>\n",
       "    </tr>\n",
       "    <tr>\n",
       "      <th>1584</th>\n",
       "      <td>24176</td>\n",
       "      <td>LOMAS</td>\n",
       "      <td>EAST OF PAN AMERICAN WEST - WEST OF PAN AMERIC...</td>\n",
       "      <td>27437.5</td>\n",
       "      <td>26176.5</td>\n",
       "      <td>26884.8</td>\n",
       "      <td>22822.6</td>\n",
       "      <td>-4.595900</td>\n",
       "      <td>-15.109653</td>\n",
       "      <td>-4.60</td>\n",
       "      <td>...</td>\n",
       "      <td>-1261.0</td>\n",
       "      <td>-4062.2</td>\n",
       "      <td>-1261.0</td>\n",
       "      <td>-4062.0</td>\n",
       "      <td>MULTILINESTRING ((-106.63539 35.0909, -106.634...</td>\n",
       "      <td>0.113</td>\n",
       "      <td>0</td>\n",
       "      <td>0</td>\n",
       "      <td>0</td>\n",
       "      <td>1</td>\n",
       "    </tr>\n",
       "  </tbody>\n",
       "</table>\n",
       "<p>5 rows × 23 columns</p>\n",
       "</div>"
      ],
      "text/plain": [
       "      COGID    RTE                                              LOCAT  \\\n",
       "1570  24100  LOMAS                 EAST OF CENTRAL - WEST OF 12TH ST.   \n",
       "1580  24160  LOMAS                 EAST OF 12TH ST. - WEST OF 6TH ST.   \n",
       "1581  24164  LOMAS           EAST OF PAN AM EAST - WEST OF UNIVERSITY   \n",
       "1583  24172  LOMAS                  EAST OF 5TH ST. - WEST OF 4TH ST.   \n",
       "1584  24176  LOMAS  EAST OF PAN AMERICAN WEST - WEST OF PAN AMERIC...   \n",
       "\n",
       "      PRE_ART_2_YEAR_MEAN  POST_ART_2_YEAR_MEAN  PRE_ART_5_YEAR_MEAN  \\\n",
       "1570              12053.5               12526.0              12017.4   \n",
       "1580              17529.5               10134.5              16755.2   \n",
       "1581              29447.5               27487.0              30379.8   \n",
       "1583              19810.0               17280.5              20362.8   \n",
       "1584              27437.5               26176.5              26884.8   \n",
       "\n",
       "      POST_ART_5_YEAR_MEAN  PCT_CHANGE_2_YR  PCT_CHANGE_5_YR  PCT_2_YR_CLEAN  \\\n",
       "1570               11262.4         3.920023        -6.282557            3.92   \n",
       "1580               11548.2       -42.186029       -31.076919          -42.19   \n",
       "1581               24257.2        -6.657611       -20.153523           -6.66   \n",
       "1583               16295.2       -12.768804       -19.975642          -12.77   \n",
       "1584               22822.6        -4.595900       -15.109653           -4.60   \n",
       "\n",
       "      ...  ABS_CHANGE_2_YR  ABS_CHANGE_5_YR  ABS_2_YR_CLEAN  ABS_5_YR_CLEAN  \\\n",
       "1570  ...            472.5           -755.0           472.0          -755.0   \n",
       "1580  ...          -7395.0          -5207.0         -7395.0         -5207.0   \n",
       "1581  ...          -1960.5          -6122.6         -1960.0         -6123.0   \n",
       "1583  ...          -2529.5          -4067.6         -2530.0         -4068.0   \n",
       "1584  ...          -1261.0          -4062.2         -1261.0         -4062.0   \n",
       "\n",
       "                                               geometry  MILES  IS_COAL  \\\n",
       "1570  MULTILINESTRING ((-106.66877 35.09365, -106.66...  0.529        0   \n",
       "1580  MULTILINESTRING ((-106.65973 35.09219, -106.65...  0.395        0   \n",
       "1581  MULTILINESTRING ((-106.63364 35.09169, -106.63...  0.506        0   \n",
       "1583  MULTILINESTRING ((-106.65156 35.09134, -106.65...  0.069        0   \n",
       "1584  MULTILINESTRING ((-106.63539 35.0909, -106.634...  0.113        0   \n",
       "\n",
       "     IS_LEAD  IS_ZUNI  IS_LOMAS  \n",
       "1570       0        0         1  \n",
       "1580       0        0         1  \n",
       "1581       0        0         1  \n",
       "1583       0        0         1  \n",
       "1584       0        0         1  \n",
       "\n",
       "[5 rows x 23 columns]"
      ]
     },
     "execution_count": 59,
     "metadata": {},
     "output_type": "execute_result"
    }
   ],
   "source": [
    "lom_links = merged[merged['IS_LOMAS'] == 1]\n",
    "lom_links.head()"
   ]
  },
  {
   "cell_type": "code",
   "execution_count": 60,
   "id": "ed0d4cd5-e981-43ef-b215-7b281f170411",
   "metadata": {},
   "outputs": [
    {
     "data": {
      "text/plain": [
       "Index(['COGID', 'RTE', 'LOCAT', 'PRE_ART_2_YEAR_MEAN', 'POST_ART_2_YEAR_MEAN',\n",
       "       'PRE_ART_5_YEAR_MEAN', 'POST_ART_5_YEAR_MEAN', 'PCT_CHANGE_2_YR',\n",
       "       'PCT_CHANGE_5_YR', 'PCT_2_YR_CLEAN', 'PCT_5_YR_CLEAN', 'IS_ART',\n",
       "       'IS_ART_ADJ', 'ABS_CHANGE_2_YR', 'ABS_CHANGE_5_YR', 'ABS_2_YR_CLEAN',\n",
       "       'ABS_5_YR_CLEAN', 'geometry', 'MILES', 'IS_COAL', 'IS_LEAD', 'IS_ZUNI',\n",
       "       'IS_LOMAS', 'VMT_CHANGE_2_YR', 'VMT_CHANGE_5_YR'],\n",
       "      dtype='object')"
      ]
     },
     "execution_count": 60,
     "metadata": {},
     "output_type": "execute_result"
    }
   ],
   "source": [
    "# I want to compare VMT - we can compute VMT change by multiplying by AADT change\n",
    "merged['VMT_CHANGE_2_YR'] = merged['ABS_2_YR_CLEAN'] * merged['MILES']\n",
    "merged['VMT_CHANGE_5_YR'] = merged['ABS_5_YR_CLEAN'] * merged['MILES']\n",
    "merged.columns"
   ]
  },
  {
   "cell_type": "code",
   "execution_count": 61,
   "id": "ed77fcea-0713-4322-8e32-a283317c64b2",
   "metadata": {},
   "outputs": [
    {
     "data": {
      "text/plain": [
       "Index(['COGID', 'RTE', 'LOCAT', 'PRE_ART_2_YEAR_MEAN', 'POST_ART_2_YEAR_MEAN',\n",
       "       'PRE_ART_5_YEAR_MEAN', 'POST_ART_5_YEAR_MEAN', 'PCT_CHANGE_2_YR',\n",
       "       'PCT_CHANGE_5_YR', 'PCT_2_YR_CLEAN', 'PCT_5_YR_CLEAN', 'IS_ART',\n",
       "       'IS_ART_ADJ', 'ABS_CHANGE_2_YR', 'ABS_CHANGE_5_YR', 'ABS_2_YR_CLEAN',\n",
       "       'ABS_5_YR_CLEAN', 'geometry', 'MILES', 'IS_COAL', 'IS_LEAD', 'IS_ZUNI',\n",
       "       'IS_LOMAS', 'VMT_CHANGE_2_YR', 'VMT_CHANGE_5_YR', 'PRE_VMT_2_YR',\n",
       "       'POST_VMT_2_YR', 'VMT_PCT_CHANGE_2_YR', 'PRE_VMT_5_YR', 'POST_VMT_5_YR',\n",
       "       'VMT_PCT_CHANGE_5_YR'],\n",
       "      dtype='object')"
      ]
     },
     "execution_count": 61,
     "metadata": {},
     "output_type": "execute_result"
    }
   ],
   "source": [
    "# Daily VMTs before and after ART\n",
    "# I Want more context - the VMT percent change is important\n",
    "merged['PRE_VMT_2_YR'] = merged['PRE_ART_2_YEAR_MEAN'] * merged['MILES']\n",
    "merged['POST_VMT_2_YR'] = merged['POST_ART_2_YEAR_MEAN'] * merged['MILES']\n",
    "\n",
    "# Now percent change in VMT\n",
    "merged['VMT_PCT_CHANGE_2_YR'] = ((merged['POST_VMT_2_YR'] - merged['PRE_VMT_2_YR']) / merged['PRE_VMT_2_YR']) * 100\n",
    "\n",
    "#Let's do it for the 5 year as well:\n",
    "merged['PRE_VMT_5_YR'] = merged['PRE_ART_5_YEAR_MEAN'] * merged['MILES']\n",
    "merged['POST_VMT_5_YR'] = merged['POST_ART_5_YEAR_MEAN'] * merged['MILES']\n",
    "\n",
    "merged['VMT_PCT_CHANGE_5_YR'] = ((merged['POST_VMT_5_YR'] - merged['PRE_VMT_5_YR']) / merged['PRE_VMT_5_YR']) * 100\n",
    "\n",
    "merged.columns"
   ]
  },
  {
   "cell_type": "code",
   "execution_count": 62,
   "id": "099fc985-903e-49d0-9410-1ccb2a41f144",
   "metadata": {},
   "outputs": [],
   "source": [
    "merged.to_file(\"ART_VMT_FINAL.gpkg\", layer='vmt_analysis', driver='GPKG')\n"
   ]
  },
  {
   "cell_type": "code",
   "execution_count": 63,
   "id": "1ea01338-2cee-4436-9fa2-c81f4da4e226",
   "metadata": {},
   "outputs": [],
   "source": [
    "summary_2yr = {\n",
    "    'ART': merged.loc[merged['IS_ART'] == 1, 'VMT_CHANGE_2_YR'].sum(),\n",
    "    'Lead': merged.loc[merged['IS_LEAD'] == 1, 'VMT_CHANGE_2_YR'].sum(),\n",
    "    'Coal': merged.loc[merged['IS_COAL'] == 1, 'VMT_CHANGE_2_YR'].sum(),\n",
    "    'Zuni': merged.loc[merged['IS_ZUNI'] == 1, 'VMT_CHANGE_2_YR'].sum(),\n",
    "    'Lomas': merged.loc[merged['IS_LOMAS'] == 1, 'VMT_CHANGE_2_YR'].sum(),\n",
    "}\n",
    "\n",
    "summary_5yr = {\n",
    "    'ART': merged.loc[merged['IS_ART'] == 1, 'VMT_CHANGE_5_YR'].sum(),\n",
    "    'Lead': merged.loc[merged['IS_LEAD'] == 1, 'VMT_CHANGE_5_YR'].sum(),\n",
    "    'Coal': merged.loc[merged['IS_COAL'] == 1, 'VMT_CHANGE_5_YR'].sum(),\n",
    "    'Zuni': merged.loc[merged['IS_ZUNI'] == 1, 'VMT_CHANGE_5_YR'].sum(),\n",
    "    'Lomas': merged.loc[merged['IS_LOMAS'] == 1, 'VMT_CHANGE_5_YR'].sum(),\n",
    "}"
   ]
  },
  {
   "cell_type": "code",
   "execution_count": 64,
   "id": "dd437681-7480-403c-9dd8-56875eac79a5",
   "metadata": {},
   "outputs": [],
   "source": [
    "summary_pct_2yr = {\n",
    "    'ART': merged.loc[merged['IS_ART'] == 1, 'VMT_PCT_CHANGE_2_YR'].mean(),\n",
    "    'Lead': merged.loc[merged['IS_LEAD'] == 1, 'VMT_PCT_CHANGE_2_YR'].mean(),\n",
    "    'Coal': merged.loc[merged['IS_COAL'] == 1, 'VMT_PCT_CHANGE_2_YR'].mean(),\n",
    "    'Zuni': merged.loc[merged['IS_ZUNI'] == 1, 'VMT_PCT_CHANGE_2_YR'].mean(),\n",
    "    'Lomas': merged.loc[merged['IS_LOMAS'] == 1, 'VMT_PCT_CHANGE_2_YR'].mean(),\n",
    "}\n",
    "\n",
    "summary_pct_5yr = {\n",
    "    'ART': merged.loc[merged['IS_ART'] == 1, 'VMT_PCT_CHANGE_5_YR'].mean(),\n",
    "    'Lead': merged.loc[merged['IS_LEAD'] == 1, 'VMT_PCT_CHANGE_5_YR'].mean(),\n",
    "    'Coal': merged.loc[merged['IS_COAL'] == 1, 'VMT_PCT_CHANGE_5_YR'].mean(),\n",
    "    'Zuni': merged.loc[merged['IS_ZUNI'] == 1, 'VMT_PCT_CHANGE_5_YR'].mean(),\n",
    "    'Lomas': merged.loc[merged['IS_LOMAS'] == 1, 'VMT_PCT_CHANGE_5_YR'].mean(),\n",
    "}\n"
   ]
  },
  {
   "cell_type": "code",
   "execution_count": 65,
   "id": "bb0f4193-705b-4ab9-b05a-56949f4b46f6",
   "metadata": {},
   "outputs": [
    {
     "name": "stdout",
     "output_type": "stream",
     "text": [
      "2-Year VMT Percent Change by Corridor:\n",
      "ART: -13.81%\n",
      "Lead: 8.83%\n",
      "Coal: 9.10%\n",
      "Zuni: -15.82%\n",
      "Lomas: -6.95%\n",
      "\n",
      "5-Year VMT Percent Change by Corridor:\n",
      "ART: -24.68%\n",
      "Lead: 1.37%\n",
      "Coal: 4.30%\n",
      "Zuni: -5.98%\n",
      "Lomas: -12.51%\n"
     ]
    }
   ],
   "source": [
    "print(\"2-Year VMT Percent Change by Corridor:\")\n",
    "for k, v in summary_pct_2yr.items():\n",
    "    print(f\"{k}: {v:.2f}%\")\n",
    "\n",
    "print(\"\\n5-Year VMT Percent Change by Corridor:\")\n",
    "for k, v in summary_pct_5yr.items():\n",
    "    print(f\"{k}: {v:.2f}%\")\n"
   ]
  },
  {
   "cell_type": "code",
   "execution_count": 66,
   "id": "69f95754-d487-4c58-8f4d-f59de58ef1a9",
   "metadata": {},
   "outputs": [
    {
     "name": "stdout",
     "output_type": "stream",
     "text": [
      "ART: -30,583 VMT/day\n",
      "Lead: 3,600 VMT/day\n",
      "Coal: 3,452 VMT/day\n",
      "Zuni: -4,689 VMT/day\n",
      "Lomas: -4,034 VMT/day\n"
     ]
    }
   ],
   "source": [
    "for corridor, vmt_change in summary_2yr.items():\n",
    "    print(f\"{corridor}: {vmt_change:,.0f} VMT/day\")\n"
   ]
  },
  {
   "cell_type": "code",
   "execution_count": 67,
   "id": "6bb3158e-3fde-43ad-8bab-298d23e96925",
   "metadata": {},
   "outputs": [
    {
     "name": "stdout",
     "output_type": "stream",
     "text": [
      "ART: -53,203 VMT/day\n",
      "Lead: 1,499 VMT/day\n",
      "Coal: 1,439 VMT/day\n",
      "Zuni: -1,419 VMT/day\n",
      "Lomas: -14,176 VMT/day\n"
     ]
    }
   ],
   "source": [
    "for corridor, vmt_change in summary_5yr.items():\n",
    "    print(f\"{corridor}: {vmt_change:,.0f} VMT/day\")\n"
   ]
  },
  {
   "cell_type": "code",
   "execution_count": 73,
   "id": "60dc52d4-d4c9-4bf6-a8d9-ffc61a4a735f",
   "metadata": {},
   "outputs": [
    {
     "data": {
      "image/png": "[encoded data removed]",
      "text/plain": [
       "<Figure size 1200x700 with 1 Axes>"
      ]
     },
     "metadata": {},
     "output_type": "display_data"
    }
   ],
   "source": [
    "import matplotlib.pyplot as plt\n",
    "import numpy as np\n",
    "\n",
    "# Updated corridor names (manual label change from 'ART' to 'Central')\n",
    "corridors = ['Central', 'Lead', 'Coal', 'Zuni', 'Lomas']\n",
    "vmt_change_2yr = [-30583, 3600, 3452, -4689, -4034]\n",
    "vmt_change_5yr = [-53203, 1499, 1439, -1419, -14176]\n",
    "\n",
    "x = np.arange(len(corridors))\n",
    "width = 0.35\n",
    "\n",
    "fig, ax = plt.subplots(figsize=(12, 7))\n",
    "\n",
    "bars1 = ax.bar(x - width/2, vmt_change_2yr, width, label='2-Year VMT Change', color='orange')\n",
    "bars2 = ax.bar(x + width/2, vmt_change_5yr, width, label='5-Year VMT Change', color='orangered')\n",
    "\n",
    "# Set labels and title\n",
    "ax.set_ylabel('Daily VMT Change')\n",
    "ax.set_title('Daily VMT Change by Corridor (2-Year and 5-Year)')\n",
    "ax.set_xticks(x)\n",
    "ax.set_xticklabels(corridors)\n",
    "ax.axhline(0, color='black', linewidth=0.8)\n",
    "ax.legend()\n",
    "\n",
    "# Set custom y-axis limits for spacing\n",
    "ax.set_ylim(-58000, max(vmt_change_2yr + vmt_change_5yr) + 3000)\n",
    "\n",
    "# Annotate bars\n",
    "def autolabel(bars):\n",
    "    for bar in bars:\n",
    "        height = bar.get_height()\n",
    "        ax.annotate(f'{int(height):,}',\n",
    "                    xy=(bar.get_x() + bar.get_width() / 2, height),\n",
    "                    xytext=(0, 5 if height >= 0 else -20),  # lower if negative\n",
    "                    textcoords=\"offset points\",\n",
    "                    ha='center', va='bottom' if height >= 0 else 'top')\n",
    "\n",
    "autolabel(bars1)\n",
    "autolabel(bars2)\n",
    "\n",
    "plt.tight_layout()\n",
    "\n",
    "plt.savefig(\"vmt_change_by_corridor_PLT.png\", dpi=300)\n",
    "\n",
    "plt.show()\n"
   ]
  },
  {
   "cell_type": "code",
   "execution_count": 31,
   "id": "8e8d4b44-22f4-4c88-9507-774f4c22e3de",
   "metadata": {},
   "outputs": [
    {
     "data": {
      "text/html": [
       "<div>\n",
       "<style scoped>\n",
       "    .dataframe tbody tr th:only-of-type {\n",
       "        vertical-align: middle;\n",
       "    }\n",
       "\n",
       "    .dataframe tbody tr th {\n",
       "        vertical-align: top;\n",
       "    }\n",
       "\n",
       "    .dataframe thead th {\n",
       "        text-align: right;\n",
       "    }\n",
       "</style>\n",
       "<table border=\"1\" class=\"dataframe\">\n",
       "  <thead>\n",
       "    <tr style=\"text-align: right;\">\n",
       "      <th></th>\n",
       "      <th>COGID</th>\n",
       "      <th>RTE</th>\n",
       "      <th>LOCAT</th>\n",
       "      <th>PRE_ART_2_YEAR_MEAN</th>\n",
       "      <th>POST_ART_2_YEAR_MEAN</th>\n",
       "      <th>PRE_ART_5_YEAR_MEAN</th>\n",
       "      <th>POST_ART_5_YEAR_MEAN</th>\n",
       "      <th>PCT_CHANGE_2_YR</th>\n",
       "      <th>PCT_CHANGE_5_YR</th>\n",
       "      <th>PCT_2_YR_CLEAN</th>\n",
       "      <th>...</th>\n",
       "      <th>IS_LOMAS</th>\n",
       "      <th>VMT_CHANGE_2_YR</th>\n",
       "      <th>VMT_CHANGE_5_YR</th>\n",
       "      <th>PRE_VMT_2_YR</th>\n",
       "      <th>POST_VMT_2_YR</th>\n",
       "      <th>VMT_PCT_CHANGE_2_YR</th>\n",
       "      <th>PRE_VMT_5_YR</th>\n",
       "      <th>POST_VMT_5_YR</th>\n",
       "      <th>VMT_PCT_CHANGE_5_YR</th>\n",
       "      <th>geometry</th>\n",
       "    </tr>\n",
       "  </thead>\n",
       "  <tbody>\n",
       "    <tr>\n",
       "      <th>0</th>\n",
       "      <td>24100</td>\n",
       "      <td>LOMAS</td>\n",
       "      <td>EAST OF CENTRAL - WEST OF 12TH ST.</td>\n",
       "      <td>12053.5</td>\n",
       "      <td>12526.0</td>\n",
       "      <td>12017.4</td>\n",
       "      <td>11262.4</td>\n",
       "      <td>3.920023</td>\n",
       "      <td>-6.282557</td>\n",
       "      <td>3.92</td>\n",
       "      <td>...</td>\n",
       "      <td>1</td>\n",
       "      <td>249.687993</td>\n",
       "      <td>-399.394988</td>\n",
       "      <td>6376.301310</td>\n",
       "      <td>6626.253803</td>\n",
       "      <td>3.920023</td>\n",
       "      <td>6357.204411</td>\n",
       "      <td>5957.809423</td>\n",
       "      <td>-6.282557</td>\n",
       "      <td>MULTILINESTRING ((-106.66877 35.09365, -106.66...</td>\n",
       "    </tr>\n",
       "    <tr>\n",
       "      <th>1</th>\n",
       "      <td>24160</td>\n",
       "      <td>LOMAS</td>\n",
       "      <td>EAST OF 12TH ST. - WEST OF 6TH ST.</td>\n",
       "      <td>17529.5</td>\n",
       "      <td>10134.5</td>\n",
       "      <td>16755.2</td>\n",
       "      <td>11548.2</td>\n",
       "      <td>-42.186029</td>\n",
       "      <td>-31.076919</td>\n",
       "      <td>-42.19</td>\n",
       "      <td>...</td>\n",
       "      <td>1</td>\n",
       "      <td>-2921.025079</td>\n",
       "      <td>-2056.765056</td>\n",
       "      <td>6924.152688</td>\n",
       "      <td>4003.127609</td>\n",
       "      <td>-42.186029</td>\n",
       "      <td>6618.304180</td>\n",
       "      <td>4561.539124</td>\n",
       "      <td>-31.076919</td>\n",
       "      <td>MULTILINESTRING ((-106.65973 35.09219, -106.65...</td>\n",
       "    </tr>\n",
       "    <tr>\n",
       "      <th>2</th>\n",
       "      <td>24164</td>\n",
       "      <td>LOMAS</td>\n",
       "      <td>EAST OF PAN AM EAST - WEST OF UNIVERSITY</td>\n",
       "      <td>29447.5</td>\n",
       "      <td>27487.0</td>\n",
       "      <td>30379.8</td>\n",
       "      <td>24257.2</td>\n",
       "      <td>-6.657611</td>\n",
       "      <td>-20.153523</td>\n",
       "      <td>-6.66</td>\n",
       "      <td>...</td>\n",
       "      <td>1</td>\n",
       "      <td>-991.759965</td>\n",
       "      <td>-3098.237892</td>\n",
       "      <td>14900.434480</td>\n",
       "      <td>13908.421515</td>\n",
       "      <td>-6.657611</td>\n",
       "      <td>15372.178264</td>\n",
       "      <td>12274.142772</td>\n",
       "      <td>-20.153523</td>\n",
       "      <td>MULTILINESTRING ((-106.63364 35.09169, -106.63...</td>\n",
       "    </tr>\n",
       "    <tr>\n",
       "      <th>3</th>\n",
       "      <td>24172</td>\n",
       "      <td>LOMAS</td>\n",
       "      <td>EAST OF 5TH ST. - WEST OF 4TH ST.</td>\n",
       "      <td>19810.0</td>\n",
       "      <td>17280.5</td>\n",
       "      <td>20362.8</td>\n",
       "      <td>16295.2</td>\n",
       "      <td>-12.768804</td>\n",
       "      <td>-19.975642</td>\n",
       "      <td>-12.77</td>\n",
       "      <td>...</td>\n",
       "      <td>1</td>\n",
       "      <td>-174.569996</td>\n",
       "      <td>-280.691993</td>\n",
       "      <td>1366.889966</td>\n",
       "      <td>1192.354470</td>\n",
       "      <td>-12.768804</td>\n",
       "      <td>1405.033165</td>\n",
       "      <td>1124.368772</td>\n",
       "      <td>-19.975642</td>\n",
       "      <td>MULTILINESTRING ((-106.65156 35.09134, -106.65...</td>\n",
       "    </tr>\n",
       "    <tr>\n",
       "      <th>4</th>\n",
       "      <td>24176</td>\n",
       "      <td>LOMAS</td>\n",
       "      <td>EAST OF PAN AMERICAN WEST - WEST OF PAN AMERIC...</td>\n",
       "      <td>27437.5</td>\n",
       "      <td>26176.5</td>\n",
       "      <td>26884.8</td>\n",
       "      <td>22822.6</td>\n",
       "      <td>-4.595900</td>\n",
       "      <td>-15.109653</td>\n",
       "      <td>-4.60</td>\n",
       "      <td>...</td>\n",
       "      <td>1</td>\n",
       "      <td>-142.492998</td>\n",
       "      <td>-459.005992</td>\n",
       "      <td>3100.437446</td>\n",
       "      <td>2957.944449</td>\n",
       "      <td>-4.595900</td>\n",
       "      <td>3037.982347</td>\n",
       "      <td>2578.953755</td>\n",
       "      <td>-15.109653</td>\n",
       "      <td>MULTILINESTRING ((-106.63539 35.0909, -106.634...</td>\n",
       "    </tr>\n",
       "  </tbody>\n",
       "</table>\n",
       "<p>5 rows × 31 columns</p>\n",
       "</div>"
      ],
      "text/plain": [
       "   COGID    RTE                                              LOCAT  \\\n",
       "0  24100  LOMAS                 EAST OF CENTRAL - WEST OF 12TH ST.   \n",
       "1  24160  LOMAS                 EAST OF 12TH ST. - WEST OF 6TH ST.   \n",
       "2  24164  LOMAS           EAST OF PAN AM EAST - WEST OF UNIVERSITY   \n",
       "3  24172  LOMAS                  EAST OF 5TH ST. - WEST OF 4TH ST.   \n",
       "4  24176  LOMAS  EAST OF PAN AMERICAN WEST - WEST OF PAN AMERIC...   \n",
       "\n",
       "   PRE_ART_2_YEAR_MEAN  POST_ART_2_YEAR_MEAN  PRE_ART_5_YEAR_MEAN  \\\n",
       "0              12053.5               12526.0              12017.4   \n",
       "1              17529.5               10134.5              16755.2   \n",
       "2              29447.5               27487.0              30379.8   \n",
       "3              19810.0               17280.5              20362.8   \n",
       "4              27437.5               26176.5              26884.8   \n",
       "\n",
       "   POST_ART_5_YEAR_MEAN  PCT_CHANGE_2_YR  PCT_CHANGE_5_YR  PCT_2_YR_CLEAN  \\\n",
       "0               11262.4         3.920023        -6.282557            3.92   \n",
       "1               11548.2       -42.186029       -31.076919          -42.19   \n",
       "2               24257.2        -6.657611       -20.153523           -6.66   \n",
       "3               16295.2       -12.768804       -19.975642          -12.77   \n",
       "4               22822.6        -4.595900       -15.109653           -4.60   \n",
       "\n",
       "   ...  IS_LOMAS  VMT_CHANGE_2_YR  VMT_CHANGE_5_YR  PRE_VMT_2_YR  \\\n",
       "0  ...         1       249.687993      -399.394988   6376.301310   \n",
       "1  ...         1     -2921.025079     -2056.765056   6924.152688   \n",
       "2  ...         1      -991.759965     -3098.237892  14900.434480   \n",
       "3  ...         1      -174.569996      -280.691993   1366.889966   \n",
       "4  ...         1      -142.492998      -459.005992   3100.437446   \n",
       "\n",
       "   POST_VMT_2_YR  VMT_PCT_CHANGE_2_YR  PRE_VMT_5_YR  POST_VMT_5_YR  \\\n",
       "0    6626.253803             3.920023   6357.204411    5957.809423   \n",
       "1    4003.127609           -42.186029   6618.304180    4561.539124   \n",
       "2   13908.421515            -6.657611  15372.178264   12274.142772   \n",
       "3    1192.354470           -12.768804   1405.033165    1124.368772   \n",
       "4    2957.944449            -4.595900   3037.982347    2578.953755   \n",
       "\n",
       "   VMT_PCT_CHANGE_5_YR                                           geometry  \n",
       "0            -6.282557  MULTILINESTRING ((-106.66877 35.09365, -106.66...  \n",
       "1           -31.076919  MULTILINESTRING ((-106.65973 35.09219, -106.65...  \n",
       "2           -20.153523  MULTILINESTRING ((-106.63364 35.09169, -106.63...  \n",
       "3           -19.975642  MULTILINESTRING ((-106.65156 35.09134, -106.65...  \n",
       "4           -15.109653  MULTILINESTRING ((-106.63539 35.0909, -106.634...  \n",
       "\n",
       "[5 rows x 31 columns]"
      ]
     },
     "execution_count": 31,
     "metadata": {},
     "output_type": "execute_result"
    }
   ],
   "source": [
    "import geopandas as gpd\n",
    "\n",
    "east_vmt = gpd.read_file(\"docs/ART_EAST_STUDY_AREA.gpkg\")\n",
    "east_vmt.head()"
   ]
  },
  {
   "cell_type": "code",
   "execution_count": 32,
   "id": "241d8518-ef88-4225-a784-2eeb34ecfeb8",
   "metadata": {},
   "outputs": [
    {
     "data": {
      "text/plain": [
       "(85, 31)"
      ]
     },
     "execution_count": 32,
     "metadata": {},
     "output_type": "execute_result"
    }
   ],
   "source": [
    "east_vmt.shape"
   ]
  },
  {
   "cell_type": "code",
   "execution_count": 33,
   "id": "bf7aa6d9-4d68-4cdd-9cd7-a2e47bde4ea8",
   "metadata": {},
   "outputs": [
    {
     "data": {
      "text/plain": [
       "COGID\n",
       "24868    2\n",
       "Name: count, dtype: int64"
      ]
     },
     "execution_count": 33,
     "metadata": {},
     "output_type": "execute_result"
    }
   ],
   "source": [
    "east_vmt['COGID'].value_counts()[east_vmt['COGID'].value_counts() > 1]\n"
   ]
  },
  {
   "cell_type": "code",
   "execution_count": 34,
   "id": "4ec5e679-3074-4a81-abad-09fa0549b27b",
   "metadata": {},
   "outputs": [
    {
     "data": {
      "text/html": [
       "<div>\n",
       "<style scoped>\n",
       "    .dataframe tbody tr th:only-of-type {\n",
       "        vertical-align: middle;\n",
       "    }\n",
       "\n",
       "    .dataframe tbody tr th {\n",
       "        vertical-align: top;\n",
       "    }\n",
       "\n",
       "    .dataframe thead th {\n",
       "        text-align: right;\n",
       "    }\n",
       "</style>\n",
       "<table border=\"1\" class=\"dataframe\">\n",
       "  <thead>\n",
       "    <tr style=\"text-align: right;\">\n",
       "      <th></th>\n",
       "      <th>COGID</th>\n",
       "      <th>RTE</th>\n",
       "      <th>LOCAT</th>\n",
       "      <th>PRE_ART_2_YEAR_MEAN</th>\n",
       "      <th>POST_ART_2_YEAR_MEAN</th>\n",
       "      <th>PRE_ART_5_YEAR_MEAN</th>\n",
       "      <th>POST_ART_5_YEAR_MEAN</th>\n",
       "      <th>PCT_CHANGE_2_YR</th>\n",
       "      <th>PCT_CHANGE_5_YR</th>\n",
       "      <th>PCT_2_YR_CLEAN</th>\n",
       "      <th>...</th>\n",
       "      <th>IS_LOMAS</th>\n",
       "      <th>VMT_CHANGE_2_YR</th>\n",
       "      <th>VMT_CHANGE_5_YR</th>\n",
       "      <th>PRE_VMT_2_YR</th>\n",
       "      <th>POST_VMT_2_YR</th>\n",
       "      <th>VMT_PCT_CHANGE_2_YR</th>\n",
       "      <th>PRE_VMT_5_YR</th>\n",
       "      <th>POST_VMT_5_YR</th>\n",
       "      <th>VMT_PCT_CHANGE_5_YR</th>\n",
       "      <th>geometry</th>\n",
       "    </tr>\n",
       "  </thead>\n",
       "  <tbody>\n",
       "    <tr>\n",
       "      <th>27</th>\n",
       "      <td>24868</td>\n",
       "      <td>COPPER</td>\n",
       "      <td>EAST OF 2ND ST. - NORTH OF CENTRAL</td>\n",
       "      <td>4057.0</td>\n",
       "      <td>4435.0</td>\n",
       "      <td>3674.0</td>\n",
       "      <td>3709.6</td>\n",
       "      <td>9.317229</td>\n",
       "      <td>0.968971</td>\n",
       "      <td>9.32</td>\n",
       "      <td>...</td>\n",
       "      <td>0</td>\n",
       "      <td>44.226</td>\n",
       "      <td>4.212</td>\n",
       "      <td>474.668995</td>\n",
       "      <td>518.894994</td>\n",
       "      <td>9.317229</td>\n",
       "      <td>429.857995</td>\n",
       "      <td>434.023195</td>\n",
       "      <td>0.968971</td>\n",
       "      <td>MULTILINESTRING ((-106.64903 35.08525, -106.64...</td>\n",
       "    </tr>\n",
       "    <tr>\n",
       "      <th>28</th>\n",
       "      <td>24868</td>\n",
       "      <td>COPPER</td>\n",
       "      <td>EAST OF 2ND ST. - NORTH OF CENTRAL</td>\n",
       "      <td>4057.0</td>\n",
       "      <td>4435.0</td>\n",
       "      <td>3674.0</td>\n",
       "      <td>3709.6</td>\n",
       "      <td>9.317229</td>\n",
       "      <td>0.968971</td>\n",
       "      <td>9.32</td>\n",
       "      <td>...</td>\n",
       "      <td>0</td>\n",
       "      <td>44.226</td>\n",
       "      <td>4.212</td>\n",
       "      <td>474.668995</td>\n",
       "      <td>518.894994</td>\n",
       "      <td>9.317229</td>\n",
       "      <td>429.857995</td>\n",
       "      <td>434.023195</td>\n",
       "      <td>0.968971</td>\n",
       "      <td>MULTILINESTRING ((-106.64803 35.0841, -106.648...</td>\n",
       "    </tr>\n",
       "  </tbody>\n",
       "</table>\n",
       "<p>2 rows × 31 columns</p>\n",
       "</div>"
      ],
      "text/plain": [
       "    COGID     RTE                                LOCAT  PRE_ART_2_YEAR_MEAN  \\\n",
       "27  24868  COPPER   EAST OF 2ND ST. - NORTH OF CENTRAL               4057.0   \n",
       "28  24868  COPPER   EAST OF 2ND ST. - NORTH OF CENTRAL               4057.0   \n",
       "\n",
       "    POST_ART_2_YEAR_MEAN  PRE_ART_5_YEAR_MEAN  POST_ART_5_YEAR_MEAN  \\\n",
       "27                4435.0               3674.0                3709.6   \n",
       "28                4435.0               3674.0                3709.6   \n",
       "\n",
       "    PCT_CHANGE_2_YR  PCT_CHANGE_5_YR  PCT_2_YR_CLEAN  ...  IS_LOMAS  \\\n",
       "27         9.317229         0.968971            9.32  ...         0   \n",
       "28         9.317229         0.968971            9.32  ...         0   \n",
       "\n",
       "    VMT_CHANGE_2_YR  VMT_CHANGE_5_YR  PRE_VMT_2_YR  POST_VMT_2_YR  \\\n",
       "27           44.226            4.212    474.668995     518.894994   \n",
       "28           44.226            4.212    474.668995     518.894994   \n",
       "\n",
       "    VMT_PCT_CHANGE_2_YR  PRE_VMT_5_YR  POST_VMT_5_YR  VMT_PCT_CHANGE_5_YR  \\\n",
       "27             9.317229    429.857995     434.023195             0.968971   \n",
       "28             9.317229    429.857995     434.023195             0.968971   \n",
       "\n",
       "                                             geometry  \n",
       "27  MULTILINESTRING ((-106.64903 35.08525, -106.64...  \n",
       "28  MULTILINESTRING ((-106.64803 35.0841, -106.648...  \n",
       "\n",
       "[2 rows x 31 columns]"
      ]
     },
     "execution_count": 34,
     "metadata": {},
     "output_type": "execute_result"
    }
   ],
   "source": [
    "east_vmt[east_vmt['COGID'].duplicated(keep=False)]\n"
   ]
  },
  {
   "cell_type": "code",
   "execution_count": 35,
   "id": "ff314a50-f3b9-4070-a6ea-21a6a81e98b9",
   "metadata": {},
   "outputs": [],
   "source": [
    "east_vmt = east_vmt.drop_duplicates(subset='COGID', keep='last')\n"
   ]
  },
  {
   "cell_type": "code",
   "execution_count": 36,
   "id": "5304410a-f563-4ca0-affa-1f2f56758bb7",
   "metadata": {},
   "outputs": [
    {
     "data": {
      "text/plain": [
       "(84, 31)"
      ]
     },
     "execution_count": 36,
     "metadata": {},
     "output_type": "execute_result"
    }
   ],
   "source": [
    "east_vmt.shape"
   ]
  },
  {
   "cell_type": "code",
   "execution_count": 37,
   "id": "c4f73b04-3245-4473-a604-17a0c5b9ecfe",
   "metadata": {},
   "outputs": [
    {
     "data": {
      "text/plain": [
       "<Axes: >"
      ]
     },
     "execution_count": 37,
     "metadata": {},
     "output_type": "execute_result"
    },
    {
     "data": {
      "image/png": "[encoded data removed]",
      "text/plain": [
       "<Figure size 640x480 with 1 Axes>"
      ]
     },
     "metadata": {},
     "output_type": "display_data"
    }
   ],
   "source": [
    "east_vmt.plot()"
   ]
  },
  {
   "cell_type": "code",
   "execution_count": 38,
   "id": "7d52194e-f6d0-4095-81c9-cd411a9b0d32",
   "metadata": {},
   "outputs": [
    {
     "data": {
      "text/plain": [
       "COGID                     object\n",
       "RTE                       object\n",
       "LOCAT                     object\n",
       "PRE_ART_2_YEAR_MEAN      float64\n",
       "POST_ART_2_YEAR_MEAN     float64\n",
       "PRE_ART_5_YEAR_MEAN      float64\n",
       "POST_ART_5_YEAR_MEAN     float64\n",
       "PCT_CHANGE_2_YR          float64\n",
       "PCT_CHANGE_5_YR          float64\n",
       "PCT_2_YR_CLEAN           float64\n",
       "PCT_5_YR_CLEAN           float64\n",
       "IS_ART                     int64\n",
       "IS_ART_ADJ                 int64\n",
       "ABS_CHANGE_2_YR          float64\n",
       "ABS_CHANGE_5_YR          float64\n",
       "ABS_2_YR_CLEAN           float64\n",
       "ABS_5_YR_CLEAN           float64\n",
       "MILES                    float64\n",
       "IS_COAL                    int64\n",
       "IS_LEAD                    int64\n",
       "IS_ZUNI                    int64\n",
       "IS_LOMAS                   int64\n",
       "VMT_CHANGE_2_YR          float64\n",
       "VMT_CHANGE_5_YR          float64\n",
       "PRE_VMT_2_YR             float64\n",
       "POST_VMT_2_YR            float64\n",
       "VMT_PCT_CHANGE_2_YR      float64\n",
       "PRE_VMT_5_YR             float64\n",
       "POST_VMT_5_YR            float64\n",
       "VMT_PCT_CHANGE_5_YR      float64\n",
       "geometry                geometry\n",
       "dtype: object"
      ]
     },
     "execution_count": 38,
     "metadata": {},
     "output_type": "execute_result"
    }
   ],
   "source": [
    "east_vmt.dtypes"
   ]
  },
  {
   "cell_type": "code",
   "execution_count": 39,
   "id": "0d254b9e-27fc-4b1e-bb9f-cd6ec6120cee",
   "metadata": {},
   "outputs": [
    {
     "data": {
      "text/plain": [
       "{'Central': np.float64(-16664.964773982763),\n",
       " 'Lead': np.float64(3600.135014861822),\n",
       " 'Coal': np.float64(3451.5470314621925),\n",
       " 'Zuni': np.float64(-4689.304976820946),\n",
       " 'Lomas': np.float64(-4033.6580043956637)}"
      ]
     },
     "execution_count": 39,
     "metadata": {},
     "output_type": "execute_result"
    }
   ],
   "source": [
    "summary_2yr_east = {\n",
    "    'Central': east_vmt.loc[east_vmt['IS_ART'] == 1, 'VMT_CHANGE_2_YR'].sum(),\n",
    "    'Lead': east_vmt.loc[east_vmt['IS_LEAD'] == 1, 'VMT_CHANGE_2_YR'].sum(),\n",
    "    'Coal': east_vmt.loc[east_vmt['IS_COAL'] == 1, 'VMT_CHANGE_2_YR'].sum(),\n",
    "    'Zuni': east_vmt.loc[east_vmt['IS_ZUNI'] == 1, 'VMT_CHANGE_2_YR'].sum(),\n",
    "    'Lomas': east_vmt.loc[east_vmt['IS_LOMAS'] == 1, 'VMT_CHANGE_2_YR'].sum(),\n",
    "}\n",
    "\n",
    "summary_5yr_east = {\n",
    "    'Central': east_vmt.loc[east_vmt['IS_ART'] == 1, 'VMT_CHANGE_5_YR'].sum(),\n",
    "    'Lead': east_vmt.loc[east_vmt['IS_LEAD'] == 1, 'VMT_CHANGE_5_YR'].sum(),\n",
    "    'Coal': east_vmt.loc[east_vmt['IS_COAL'] == 1, 'VMT_CHANGE_5_YR'].sum(),\n",
    "    'Zuni': east_vmt.loc[east_vmt['IS_ZUNI'] == 1, 'VMT_CHANGE_5_YR'].sum(),\n",
    "    'Lomas': east_vmt.loc[east_vmt['IS_LOMAS'] == 1, 'VMT_CHANGE_5_YR'].sum(),\n",
    "}\n",
    "summary_2yr_east"
   ]
  },
  {
   "cell_type": "code",
   "execution_count": 40,
   "id": "954b1416-6ea7-46b9-80dd-978293b1ba9d",
   "metadata": {},
   "outputs": [
    {
     "data": {
      "text/plain": [
       "{'Central': np.float64(-16.113983162553506),\n",
       " 'Lead': np.float64(8.828033563065373),\n",
       " 'Coal': np.float64(9.096975575365695),\n",
       " 'Zuni': np.float64(-15.817481542791713),\n",
       " 'Lomas': np.float64(-6.950837726263508)}"
      ]
     },
     "execution_count": 40,
     "metadata": {},
     "output_type": "execute_result"
    }
   ],
   "source": [
    "summary_pct_2yr_east = {\n",
    "    'Central': east_vmt.loc[east_vmt['IS_ART'] == 1, 'VMT_PCT_CHANGE_2_YR'].mean(),\n",
    "    'Lead': east_vmt.loc[east_vmt['IS_LEAD'] == 1, 'VMT_PCT_CHANGE_2_YR'].mean(),\n",
    "    'Coal': east_vmt.loc[east_vmt['IS_COAL'] == 1, 'VMT_PCT_CHANGE_2_YR'].mean(),\n",
    "    'Zuni': east_vmt.loc[east_vmt['IS_ZUNI'] == 1, 'VMT_PCT_CHANGE_2_YR'].mean(),\n",
    "    'Lomas': east_vmt.loc[east_vmt['IS_LOMAS'] == 1, 'VMT_PCT_CHANGE_2_YR'].mean(),\n",
    "}\n",
    "\n",
    "summary_pct_5yr_east = {\n",
    "    'Central': east_vmt.loc[east_vmt['IS_ART'] == 1, 'VMT_PCT_CHANGE_5_YR'].mean(),\n",
    "    'Lead': east_vmt.loc[east_vmt['IS_LEAD'] == 1, 'VMT_PCT_CHANGE_5_YR'].mean(),\n",
    "    'Coal': east_vmt.loc[east_vmt['IS_COAL'] == 1, 'VMT_PCT_CHANGE_5_YR'].mean(),\n",
    "    'Zuni': east_vmt.loc[east_vmt['IS_ZUNI'] == 1, 'VMT_PCT_CHANGE_5_YR'].mean(),\n",
    "    'Lomas': east_vmt.loc[east_vmt['IS_LOMAS'] == 1, 'VMT_PCT_CHANGE_5_YR'].mean(),\n",
    "}\n",
    "summary_pct_2yr_east"
   ]
  },
  {
   "cell_type": "code",
   "execution_count": 41,
   "id": "cf3ddbec-82a4-4b35-8a28-638a99fcfce8",
   "metadata": {},
   "outputs": [
    {
     "name": "stdout",
     "output_type": "stream",
     "text": [
      "2-Year VMT Percent Change by Corridor:\n",
      "Central: -16.11%\n",
      "Lead: 8.83%\n",
      "Coal: 9.10%\n",
      "Zuni: -15.82%\n",
      "Lomas: -6.95%\n",
      "\n",
      "5-Year VMT Percent Change by Corridor:\n",
      "Central: -28.87%\n",
      "Lead: 1.37%\n",
      "Coal: 4.30%\n",
      "Zuni: -5.98%\n",
      "Lomas: -12.51%\n"
     ]
    }
   ],
   "source": [
    "print(\"2-Year VMT Percent Change by Corridor:\")\n",
    "for k, v in summary_pct_2yr_east.items():\n",
    "    print(f\"{k}: {v:.2f}%\")\n",
    "\n",
    "print(\"\\n5-Year VMT Percent Change by Corridor:\")\n",
    "for k, v in summary_pct_5yr_east.items():\n",
    "    print(f\"{k}: {v:.2f}%\")\n"
   ]
  },
  {
   "cell_type": "code",
   "execution_count": 42,
   "id": "9977e2e8-3649-403e-8236-6c1a2b7192d6",
   "metadata": {},
   "outputs": [
    {
     "name": "stdout",
     "output_type": "stream",
     "text": [
      "Central: -16,665 VMT/day\n",
      "Lead: 3,600 VMT/day\n",
      "Coal: 3,452 VMT/day\n",
      "Zuni: -4,689 VMT/day\n",
      "Lomas: -4,034 VMT/day\n"
     ]
    }
   ],
   "source": [
    "for corridor, vmt_change in summary_2yr_east.items():\n",
    "    print(f\"{corridor}: {vmt_change:,.0f} VMT/day\")\n"
   ]
  },
  {
   "cell_type": "code",
   "execution_count": 43,
   "id": "f14b5f03-1a7f-4adf-848b-6f86dd3a3481",
   "metadata": {},
   "outputs": [
    {
     "name": "stdout",
     "output_type": "stream",
     "text": [
      "Central: -38,419 VMT/day\n",
      "Lead: 1,499 VMT/day\n",
      "Coal: 1,439 VMT/day\n",
      "Zuni: -1,419 VMT/day\n",
      "Lomas: -14,176 VMT/day\n"
     ]
    }
   ],
   "source": [
    "for corridor, vmt_change in summary_5yr_east.items():\n",
    "    print(f\"{corridor}: {vmt_change:,.0f} VMT/day\")\n"
   ]
  },
  {
   "cell_type": "code",
   "execution_count": 44,
   "id": "62388bf7-6f57-404f-b449-3235294e162a",
   "metadata": {},
   "outputs": [
    {
     "data": {
      "image/png": "[encoded data removed]",
      "text/plain": [
       "<Figure size 1200x700 with 1 Axes>"
      ]
     },
     "metadata": {},
     "output_type": "display_data"
    }
   ],
   "source": [
    "import matplotlib.pyplot as plt\n",
    "import numpy as np\n",
    "\n",
    "# Corridor names\n",
    "corridors = ['Central', 'Lead', 'Coal', 'Zuni', 'Lomas']\n",
    "\n",
    "# Updated VMT change values for eastern study area\n",
    "vmt_change_2yr = [-16665, 3600, 3452, -4689, -4034]\n",
    "vmt_change_5yr = [-38419, 1499, 1439, -1419, -14176]\n",
    "\n",
    "x = np.arange(len(corridors))\n",
    "width = 0.35\n",
    "\n",
    "fig, ax = plt.subplots(figsize=(12, 7))\n",
    "\n",
    "bars1 = ax.bar(x - width/2, vmt_change_2yr, width, label='2-Year VMT Change', color='orange')\n",
    "bars2 = ax.bar(x + width/2, vmt_change_5yr, width, label='5-Year VMT Change', color='orangered')\n",
    "\n",
    "# Set labels and title\n",
    "ax.set_ylabel('Daily VMT Change')\n",
    "ax.set_title('Daily VMT Change by Corridor (2-Year and 5-Year, East Study Area Only)')\n",
    "ax.set_xticks(x)\n",
    "ax.set_xticklabels(corridors)\n",
    "ax.axhline(0, color='black', linewidth=0.8)\n",
    "ax.legend()\n",
    "\n",
    "# Set custom y-axis limits for spacing\n",
    "ax.set_ylim(-42000, max(vmt_change_2yr + vmt_change_5yr) + 3000)\n",
    "\n",
    "# Annotate bars\n",
    "def autolabel(bars):\n",
    "    for bar in bars:\n",
    "        height = bar.get_height()\n",
    "        ax.annotate(f'{int(height):,}',\n",
    "                    xy=(bar.get_x() + bar.get_width() / 2, height),\n",
    "                    xytext=(0, 5 if height >= 0 else -20),\n",
    "                    textcoords=\"offset points\",\n",
    "                    ha='center', va='bottom' if height >= 0 else 'top')\n",
    "\n",
    "autolabel(bars1)\n",
    "autolabel(bars2)\n",
    "\n",
    "plt.tight_layout()\n",
    "plt.savefig(\"vmt_change_by_corridor_east_only.png\", dpi=300)\n",
    "plt.show()\n"
   ]
  },
  {
   "cell_type": "code",
   "execution_count": null,
   "id": "db480cb0-431c-48b8-9745-6f818ceb408b",
   "metadata": {},
   "outputs": [],
   "source": []
  }
 ],
 "metadata": {
  "kernelspec": {
   "display_name": "Python (geo)",
   "language": "python",
   "name": "geo"
  },
  "language_info": {
   "codemirror_mode": {
    "name": "ipython",
    "version": 3
   },
   "file_extension": ".py",
   "mimetype": "text/x-python",
   "name": "python",
   "nbconvert_exporter": "python",
   "pygments_lexer": "ipython3",
   "version": "3.11.12"
  }
 },
 "nbformat": 4,
 "nbformat_minor": 5
}
